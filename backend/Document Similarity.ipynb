{
 "cells": [
  {
   "cell_type": "code",
   "execution_count": 1,
   "metadata": {},
   "outputs": [],
   "source": [
    "import pandas as pd\n",
    "\n",
    "from utils import extract_data\n",
    "from document_similarity import get_distance_function"
   ]
  },
  {
   "cell_type": "code",
   "execution_count": 2,
   "metadata": {},
   "outputs": [
    {
     "name": "stdout",
     "output_type": "stream",
     "text": [
      "[('articles',), ('news_labels',)]\n",
      "Complete!\n"
     ]
    }
   ],
   "source": [
    "#df = pd.read_csv(\"../data/preprocessed_cleaned_body.csv\")\n",
    "df = extract_data(\"data/news/\")"
   ]
  },
  {
   "cell_type": "code",
   "execution_count": 3,
   "metadata": {},
   "outputs": [],
   "source": [
    "df['Header'] = df['Header'].apply(lambda x: x.lower().replace('\\r\\n\\r\\n', ''))\n",
    "df['Content'] = df['Content'].apply(lambda x: x.lower().replace('\\r\\n\\r\\n', ''))"
   ]
  },
  {
   "cell_type": "code",
   "execution_count": 4,
   "metadata": {},
   "outputs": [
    {
     "data": {
      "text/html": [
       "<div>\n",
       "<style scoped>\n",
       "    .dataframe tbody tr th:only-of-type {\n",
       "        vertical-align: middle;\n",
       "    }\n",
       "\n",
       "    .dataframe tbody tr th {\n",
       "        vertical-align: top;\n",
       "    }\n",
       "\n",
       "    .dataframe thead th {\n",
       "        text-align: right;\n",
       "    }\n",
       "</style>\n",
       "<table border=\"1\" class=\"dataframe\">\n",
       "  <thead>\n",
       "    <tr style=\"text-align: right;\">\n",
       "      <th></th>\n",
       "      <th>Date</th>\n",
       "      <th>Source</th>\n",
       "      <th>Header</th>\n",
       "      <th>Content</th>\n",
       "      <th>Label</th>\n",
       "    </tr>\n",
       "  </thead>\n",
       "  <tbody>\n",
       "    <tr>\n",
       "      <th>0</th>\n",
       "      <td>2018-02-01</td>\n",
       "      <td>Addicting Info</td>\n",
       "      <td>donald trump jr likes fox news tweet about spr...</td>\n",
       "      <td>since donald trump jr. has admitted on twitter...</td>\n",
       "      <td>left_bias</td>\n",
       "    </tr>\n",
       "    <tr>\n",
       "      <th>1</th>\n",
       "      <td>2018-02-01</td>\n",
       "      <td>Addicting Info</td>\n",
       "      <td>report uk will share less confidential info wi...</td>\n",
       "      <td>the republican-written and republican-altered ...</td>\n",
       "      <td>left_bias</td>\n",
       "    </tr>\n",
       "    <tr>\n",
       "      <th>2</th>\n",
       "      <td>2018-02-01</td>\n",
       "      <td>Addicting Info</td>\n",
       "      <td>trump jr mocked to oblivion after democracy di...</td>\n",
       "      <td>the world is still laughing at the trump admin...</td>\n",
       "      <td>left_bias</td>\n",
       "    </tr>\n",
       "    <tr>\n",
       "      <th>3</th>\n",
       "      <td>2018-02-01</td>\n",
       "      <td>BBC</td>\n",
       "      <td>battling to save the worlds bananas</td>\n",
       "      <td>visiting the matanuska banana plantation is no...</td>\n",
       "      <td>left_center_bias</td>\n",
       "    </tr>\n",
       "    <tr>\n",
       "      <th>4</th>\n",
       "      <td>2018-02-01</td>\n",
       "      <td>BBC</td>\n",
       "      <td>escape from the asylum</td>\n",
       "      <td>in croatia, thousands of people with mental il...</td>\n",
       "      <td>left_center_bias</td>\n",
       "    </tr>\n",
       "    <tr>\n",
       "      <th>5</th>\n",
       "      <td>2018-02-01</td>\n",
       "      <td>Business Insider</td>\n",
       "      <td>trump erroneously claims he had record viewers...</td>\n",
       "      <td>president donald trump boasted on wednesday of...</td>\n",
       "      <td>left_center_bias</td>\n",
       "    </tr>\n",
       "    <tr>\n",
       "      <th>6</th>\n",
       "      <td>2018-02-01</td>\n",
       "      <td>Business Insider</td>\n",
       "      <td>trump slams democrats for doing nothing while ...</td>\n",
       "      <td>president donald trump broke a brief period of...</td>\n",
       "      <td>left_center_bias</td>\n",
       "    </tr>\n",
       "    <tr>\n",
       "      <th>7</th>\n",
       "      <td>2018-02-01</td>\n",
       "      <td>DC Gazette</td>\n",
       "      <td>shocker key gop house member trey gowdy not se...</td>\n",
       "      <td>it wasnt exactly widely known, but south carol...</td>\n",
       "      <td>questionable_source</td>\n",
       "    </tr>\n",
       "    <tr>\n",
       "      <th>8</th>\n",
       "      <td>2018-02-01</td>\n",
       "      <td>DC Gazette</td>\n",
       "      <td>saudi arabia seizes billions in anti-corruptio...</td>\n",
       "      <td>amazing what happens when a government activel...</td>\n",
       "      <td>questionable_source</td>\n",
       "    </tr>\n",
       "    <tr>\n",
       "      <th>9</th>\n",
       "      <td>2018-02-01</td>\n",
       "      <td>Daily Kos</td>\n",
       "      <td>cartoon ghost story of the union</td>\n",
       "      <td>site content may be used for any purpose witho...</td>\n",
       "      <td>left_bias</td>\n",
       "    </tr>\n",
       "  </tbody>\n",
       "</table>\n",
       "</div>"
      ],
      "text/plain": [
       "         Date            Source  \\\n",
       "0  2018-02-01    Addicting Info   \n",
       "1  2018-02-01    Addicting Info   \n",
       "2  2018-02-01    Addicting Info   \n",
       "3  2018-02-01               BBC   \n",
       "4  2018-02-01               BBC   \n",
       "5  2018-02-01  Business Insider   \n",
       "6  2018-02-01  Business Insider   \n",
       "7  2018-02-01        DC Gazette   \n",
       "8  2018-02-01        DC Gazette   \n",
       "9  2018-02-01         Daily Kos   \n",
       "\n",
       "                                              Header  \\\n",
       "0  donald trump jr likes fox news tweet about spr...   \n",
       "1  report uk will share less confidential info wi...   \n",
       "2  trump jr mocked to oblivion after democracy di...   \n",
       "3                battling to save the worlds bananas   \n",
       "4                             escape from the asylum   \n",
       "5  trump erroneously claims he had record viewers...   \n",
       "6  trump slams democrats for doing nothing while ...   \n",
       "7  shocker key gop house member trey gowdy not se...   \n",
       "8  saudi arabia seizes billions in anti-corruptio...   \n",
       "9                   cartoon ghost story of the union   \n",
       "\n",
       "                                             Content                Label  \n",
       "0  since donald trump jr. has admitted on twitter...            left_bias  \n",
       "1  the republican-written and republican-altered ...            left_bias  \n",
       "2  the world is still laughing at the trump admin...            left_bias  \n",
       "3  visiting the matanuska banana plantation is no...     left_center_bias  \n",
       "4  in croatia, thousands of people with mental il...     left_center_bias  \n",
       "5  president donald trump boasted on wednesday of...     left_center_bias  \n",
       "6  president donald trump broke a brief period of...     left_center_bias  \n",
       "7  it wasnt exactly widely known, but south carol...  questionable_source  \n",
       "8  amazing what happens when a government activel...  questionable_source  \n",
       "9  site content may be used for any purpose witho...            left_bias  "
      ]
     },
     "execution_count": 4,
     "metadata": {},
     "output_type": "execute_result"
    }
   ],
   "source": [
    "df.head(10)"
   ]
  },
  {
   "cell_type": "code",
   "execution_count": 5,
   "metadata": {},
   "outputs": [],
   "source": [
    "dist = get_distance_function(list(df.columns))"
   ]
  },
  {
   "cell_type": "code",
   "execution_count": 12,
   "metadata": {},
   "outputs": [],
   "source": [
    "article1 = df.loc[1, :]\n",
    "article2 = df.loc[1000, :]"
   ]
  },
  {
   "cell_type": "code",
   "execution_count": 13,
   "metadata": {},
   "outputs": [
    {
     "data": {
      "text/plain": [
       "2.708451051933786"
      ]
     },
     "execution_count": 13,
     "metadata": {},
     "output_type": "execute_result"
    }
   ],
   "source": [
    "dist(article1, article2)"
   ]
  },
  {
   "cell_type": "code",
   "execution_count": null,
   "metadata": {},
   "outputs": [],
   "source": []
  }
 ],
 "metadata": {
  "kernelspec": {
   "display_name": "Python 3",
   "language": "python",
   "name": "python3"
  },
  "language_info": {
   "codemirror_mode": {
    "name": "ipython",
    "version": 3
   },
   "file_extension": ".py",
   "mimetype": "text/x-python",
   "name": "python",
   "nbconvert_exporter": "python",
   "pygments_lexer": "ipython3",
   "version": "3.7.3"
  }
 },
 "nbformat": 4,
 "nbformat_minor": 2
}
