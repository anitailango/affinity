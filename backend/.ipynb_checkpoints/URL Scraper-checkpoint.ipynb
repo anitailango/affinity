{
 "cells": [
  {
   "cell_type": "markdown",
   "metadata": {},
   "source": [
    "### Import libraries"
   ]
  },
  {
   "cell_type": "code",
   "execution_count": 1,
   "metadata": {},
   "outputs": [],
   "source": [
    "# Processing\n",
    "import numpy as np\n",
    "import pandas as pd\n",
    "\n",
    "# Scraping\n",
    "import bs4\n",
    "import urllib\n",
    "from urllib.request import urlopen as uReq\n",
    "from bs4 import BeautifulSoup as soup"
   ]
  },
  {
   "cell_type": "markdown",
   "metadata": {},
   "source": [
    "### Importing data"
   ]
  },
  {
   "cell_type": "code",
   "execution_count": 2,
   "metadata": {},
   "outputs": [],
   "source": [
    "df = pd.read_csv(\"data/Interactive Media Bias Chart - Ad Fontes Media.csv\")"
   ]
  },
  {
   "cell_type": "code",
   "execution_count": 3,
   "metadata": {},
   "outputs": [
    {
     "data": {
      "text/html": [
       "<div>\n",
       "<style scoped>\n",
       "    .dataframe tbody tr th:only-of-type {\n",
       "        vertical-align: middle;\n",
       "    }\n",
       "\n",
       "    .dataframe tbody tr th {\n",
       "        vertical-align: top;\n",
       "    }\n",
       "\n",
       "    .dataframe thead th {\n",
       "        text-align: right;\n",
       "    }\n",
       "</style>\n",
       "<table border=\"1\" class=\"dataframe\">\n",
       "  <thead>\n",
       "    <tr style=\"text-align: right;\">\n",
       "      <th></th>\n",
       "      <th>Source</th>\n",
       "      <th>Url</th>\n",
       "      <th>Bias</th>\n",
       "      <th>Quality</th>\n",
       "    </tr>\n",
       "  </thead>\n",
       "  <tbody>\n",
       "    <tr>\n",
       "      <th>0</th>\n",
       "      <td>ABC</td>\n",
       "      <td>https://abcnews.go.com/Politics/us-disrupted-a...</td>\n",
       "      <td>-5.33</td>\n",
       "      <td>52.33</td>\n",
       "    </tr>\n",
       "    <tr>\n",
       "      <th>1</th>\n",
       "      <td>ABC</td>\n",
       "      <td>https://abcnews.go.com/Politics/appeals-court-...</td>\n",
       "      <td>0.67</td>\n",
       "      <td>51.67</td>\n",
       "    </tr>\n",
       "    <tr>\n",
       "      <th>2</th>\n",
       "      <td>ABC</td>\n",
       "      <td>https://abcnews.go.com/Politics/electoral-coll...</td>\n",
       "      <td>-10.00</td>\n",
       "      <td>32.00</td>\n",
       "    </tr>\n",
       "    <tr>\n",
       "      <th>3</th>\n",
       "      <td>ABC</td>\n",
       "      <td>https://abcnews.go.com/Politics/facebook-agree...</td>\n",
       "      <td>-2.33</td>\n",
       "      <td>52.33</td>\n",
       "    </tr>\n",
       "    <tr>\n",
       "      <th>4</th>\n",
       "      <td>ABC</td>\n",
       "      <td>https://abcnews.go.com/Politics/donald-trump-t...</td>\n",
       "      <td>-4.33</td>\n",
       "      <td>52.67</td>\n",
       "    </tr>\n",
       "  </tbody>\n",
       "</table>\n",
       "</div>"
      ],
      "text/plain": [
       "  Source                                                Url   Bias  Quality\n",
       "0    ABC  https://abcnews.go.com/Politics/us-disrupted-a...  -5.33    52.33\n",
       "1    ABC  https://abcnews.go.com/Politics/appeals-court-...   0.67    51.67\n",
       "2    ABC  https://abcnews.go.com/Politics/electoral-coll... -10.00    32.00\n",
       "3    ABC  https://abcnews.go.com/Politics/facebook-agree...  -2.33    52.33\n",
       "4    ABC  https://abcnews.go.com/Politics/donald-trump-t...  -4.33    52.67"
      ]
     },
     "execution_count": 3,
     "metadata": {},
     "output_type": "execute_result"
    }
   ],
   "source": [
    "df.head()"
   ]
  },
  {
   "cell_type": "code",
   "execution_count": 4,
   "metadata": {},
   "outputs": [
    {
     "name": "stdout",
     "output_type": "stream",
     "text": [
      "<class 'pandas.core.frame.DataFrame'>\n",
      "RangeIndex: 1916 entries, 0 to 1915\n",
      "Data columns (total 4 columns):\n",
      "Source     1916 non-null object\n",
      "Url        1916 non-null object\n",
      "Bias       1916 non-null float64\n",
      "Quality    1916 non-null float64\n",
      "dtypes: float64(2), object(2)\n",
      "memory usage: 60.0+ KB\n"
     ]
    }
   ],
   "source": [
    "df.info()"
   ]
  },
  {
   "cell_type": "markdown",
   "metadata": {},
   "source": [
    "### Defining scraper"
   ]
  },
  {
   "cell_type": "code",
   "execution_count": 5,
   "metadata": {},
   "outputs": [],
   "source": [
    "def scrape_header(my_url):\n",
    "    print(\"Scraping URL no. \", df.index[df['Url'] == my_url][0])\n",
    "    try:\n",
    "        uClient = uReq(my_url) # this will download the webpage\n",
    "        page_html = uClient.read() # this will dump out the content and store it in something else\n",
    "        uClient.close() # closes the client (after you are done)\n",
    "\n",
    "        page_soup = soup(page_html, \"html.parser\")\n",
    "        header = page_soup.h1.text\n",
    "\n",
    "        return header\n",
    "    \n",
    "    except urllib.error.HTTPError:\n",
    "        return None\n",
    "    \n",
    "    except:\n",
    "        return None"
   ]
  },
  {
   "cell_type": "code",
   "execution_count": 6,
   "metadata": {},
   "outputs": [],
   "source": [
    "def scrape_body(my_url):\n",
    "    try:\n",
    "        uClient = uReq(my_url) # this will download the webpage\n",
    "        page_html = uClient.read() # this will dump out the content and store it in something else\n",
    "        uClient.close() # closes the client (after you are done)\n",
    "\n",
    "        page_soup = soup(page_html, \"html.parser\")\n",
    "        body = page_soup.findAll(\"p\")\n",
    "\n",
    "        # Concatenating paragraphs into one chunk of text\n",
    "        paragraph_list = []\n",
    "        for paragraph in body:\n",
    "            paragraph_list.append(paragraph.text.strip())\n",
    "\n",
    "        return ' '.join(paragraph_list)\n",
    "    \n",
    "    except urllib.error.HTTPError:\n",
    "        return None\n",
    "    \n",
    "    except:\n",
    "        return None"
   ]
  },
  {
   "cell_type": "markdown",
   "metadata": {},
   "source": [
    "### Scraping all urls"
   ]
  },
  {
   "cell_type": "code",
   "execution_count": 7,
   "metadata": {},
   "outputs": [],
   "source": [
    "#df['Header'] = df['Url'].apply(scrape_header)\n",
    "#df['Body'] = df['Url'].apply(scrape_body)"
   ]
  },
  {
   "cell_type": "code",
   "execution_count": null,
   "metadata": {},
   "outputs": [],
   "source": []
  },
  {
   "cell_type": "code",
   "execution_count": null,
   "metadata": {},
   "outputs": [],
   "source": []
  }
 ],
 "metadata": {
  "kernelspec": {
   "display_name": "Python 3",
   "language": "python",
   "name": "python3"
  },
  "language_info": {
   "codemirror_mode": {
    "name": "ipython",
    "version": 3
   },
   "file_extension": ".py",
   "mimetype": "text/x-python",
   "name": "python",
   "nbconvert_exporter": "python",
   "pygments_lexer": "ipython3",
   "version": "3.7.3"
  }
 },
 "nbformat": 4,
 "nbformat_minor": 2
}
