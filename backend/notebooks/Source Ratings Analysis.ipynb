{
 "cells": [
  {
   "cell_type": "code",
   "execution_count": 1,
   "metadata": {},
   "outputs": [],
   "source": [
    "import numpy as np\n",
    "import pandas as pd\n",
    "import matplotlib.pyplot as plt\n",
    "\n",
    "from sklearn.naive_bayes import MultinomialNB\n",
    "from sklearn.linear_model import LogisticRegression\n",
    "from sklearn.svm import SVC\n",
    "from sklearn.ensemble import VotingClassifier\n",
    "\n",
    "from sklearn.feature_extraction.text import TfidfVectorizer\n",
    "from sklearn.model_selection import train_test_split\n",
    "from sklearn.preprocessing import MinMaxScaler\n",
    "\n",
    "from sklearn.model_selection import cross_val_score, cross_val_predict\n",
    "from sklearn.model_selection import KFold\n",
    "\n",
    "from scipy import stats\n",
    "from sklearn.metrics import accuracy_score\n",
    "from sklearn.metrics import auc, roc_curve, roc_auc_score\n",
    "from sklearn.metrics import f1_score, classification_report"
   ]
  },
  {
   "cell_type": "code",
   "execution_count": 2,
   "metadata": {},
   "outputs": [
    {
     "name": "stdout",
     "output_type": "stream",
     "text": [
      "['Questionable Sources' 'Least Biased' 'Left' 'Right'\n",
      " 'Conspiracy-Pseudoscience' 'Right-Center' 'Left-Center' 'Satire'\n",
      " 'Pro-Science']\n"
     ]
    }
   ],
   "source": [
    "import data_transformation as dt"
   ]
  },
  {
   "cell_type": "code",
   "execution_count": 3,
   "metadata": {},
   "outputs": [],
   "source": [
    "final_data = pd.read_csv('../data/final_data.csv')"
   ]
  },
  {
   "cell_type": "code",
   "execution_count": 4,
   "metadata": {},
   "outputs": [],
   "source": [
    "cleaned_df = pd.read_csv('../data/preprocessed_cleaned_body.csv')"
   ]
  },
  {
   "cell_type": "code",
   "execution_count": 5,
   "metadata": {},
   "outputs": [],
   "source": [
    "final_data = pd.concat([cleaned_df['cleaned_body'], final_data], axis=1)"
   ]
  },
  {
   "cell_type": "code",
   "execution_count": 6,
   "metadata": {},
   "outputs": [],
   "source": [
    "final_data = dt.merge_ratings(final_data)"
   ]
  },
  {
   "cell_type": "markdown",
   "metadata": {},
   "source": [
    "### No Body Analysis (only MBFC Bias Rating)"
   ]
  },
  {
   "cell_type": "code",
   "execution_count": 7,
   "metadata": {},
   "outputs": [
    {
     "data": {
      "text/html": [
       "<div>\n",
       "<style scoped>\n",
       "    .dataframe tbody tr th:only-of-type {\n",
       "        vertical-align: middle;\n",
       "    }\n",
       "\n",
       "    .dataframe tbody tr th {\n",
       "        vertical-align: top;\n",
       "    }\n",
       "\n",
       "    .dataframe thead th {\n",
       "        text-align: right;\n",
       "    }\n",
       "</style>\n",
       "<table border=\"1\" class=\"dataframe\">\n",
       "  <thead>\n",
       "    <tr style=\"text-align: right;\">\n",
       "      <th></th>\n",
       "      <th>Body</th>\n",
       "      <th>Bias</th>\n",
       "      <th>Bias Rating</th>\n",
       "    </tr>\n",
       "  </thead>\n",
       "  <tbody>\n",
       "    <tr>\n",
       "      <th>0</th>\n",
       "      <td>Abortion rights advocates have asked the U.S. ...</td>\n",
       "      <td>1.67</td>\n",
       "      <td>-3.5</td>\n",
       "    </tr>\n",
       "    <tr>\n",
       "      <th>1</th>\n",
       "      <td>A federal appeals court rejected the most dire...</td>\n",
       "      <td>0.67</td>\n",
       "      <td>-3.5</td>\n",
       "    </tr>\n",
       "    <tr>\n",
       "      <th>2</th>\n",
       "      <td>As part of the Trump administration's effort t...</td>\n",
       "      <td>-2.75</td>\n",
       "      <td>-3.5</td>\n",
       "    </tr>\n",
       "    <tr>\n",
       "      <th>3</th>\n",
       "      <td>President Donald Trump and \"the Trump of the T...</td>\n",
       "      <td>-4.33</td>\n",
       "      <td>-3.5</td>\n",
       "    </tr>\n",
       "    <tr>\n",
       "      <th>4</th>\n",
       "      <td>U.S Senator Elizabeth Warren, who is competing...</td>\n",
       "      <td>-10.00</td>\n",
       "      <td>-3.5</td>\n",
       "    </tr>\n",
       "    <tr>\n",
       "      <th>...</th>\n",
       "      <td>...</td>\n",
       "      <td>...</td>\n",
       "      <td>...</td>\n",
       "    </tr>\n",
       "    <tr>\n",
       "      <th>1476</th>\n",
       "      <td>Mr. Krueger, a labor economist who wrote paper...</td>\n",
       "      <td>-3.50</td>\n",
       "      <td>3.5</td>\n",
       "    </tr>\n",
       "    <tr>\n",
       "      <th>1477</th>\n",
       "      <td>Since January 2018 the FAA has been run by act...</td>\n",
       "      <td>2.75</td>\n",
       "      <td>3.5</td>\n",
       "    </tr>\n",
       "    <tr>\n",
       "      <th>1478</th>\n",
       "      <td>Things went downhill from there.\\nAfter he ins...</td>\n",
       "      <td>1.75</td>\n",
       "      <td>3.5</td>\n",
       "    </tr>\n",
       "    <tr>\n",
       "      <th>1479</th>\n",
       "      <td>Qualcomm had claimed Apple was violating its p...</td>\n",
       "      <td>0.50</td>\n",
       "      <td>3.5</td>\n",
       "    </tr>\n",
       "    <tr>\n",
       "      <th>1480</th>\n",
       "      <td>The government has also said it no longer has ...</td>\n",
       "      <td>-1.00</td>\n",
       "      <td>3.5</td>\n",
       "    </tr>\n",
       "  </tbody>\n",
       "</table>\n",
       "<p>1305 rows × 3 columns</p>\n",
       "</div>"
      ],
      "text/plain": [
       "                                                   Body   Bias  Bias Rating\n",
       "0     Abortion rights advocates have asked the U.S. ...   1.67         -3.5\n",
       "1     A federal appeals court rejected the most dire...   0.67         -3.5\n",
       "2     As part of the Trump administration's effort t...  -2.75         -3.5\n",
       "3     President Donald Trump and \"the Trump of the T...  -4.33         -3.5\n",
       "4     U.S Senator Elizabeth Warren, who is competing... -10.00         -3.5\n",
       "...                                                 ...    ...          ...\n",
       "1476  Mr. Krueger, a labor economist who wrote paper...  -3.50          3.5\n",
       "1477  Since January 2018 the FAA has been run by act...   2.75          3.5\n",
       "1478  Things went downhill from there.\\nAfter he ins...   1.75          3.5\n",
       "1479  Qualcomm had claimed Apple was violating its p...   0.50          3.5\n",
       "1480  The government has also said it no longer has ...  -1.00          3.5\n",
       "\n",
       "[1305 rows x 3 columns]"
      ]
     },
     "execution_count": 7,
     "metadata": {},
     "output_type": "execute_result"
    }
   ],
   "source": [
    "df = pd.concat([final_data['Body'], final_data['Bias'], final_data['Bias Rating']], axis=1)\n",
    "df"
   ]
  },
  {
   "cell_type": "code",
   "execution_count": 8,
   "metadata": {},
   "outputs": [],
   "source": [
    "bins = [-41, -5, 5, 41]\n",
    "names = ['1', '2', '3']\n",
    "\n",
    "multi_df = df.loc[:]\n",
    "multi_df['Category'] = pd.cut(multi_df['Bias'], bins, labels=names)"
   ]
  },
  {
   "cell_type": "code",
   "execution_count": 9,
   "metadata": {},
   "outputs": [
    {
     "data": {
      "text/html": [
       "<div>\n",
       "<style scoped>\n",
       "    .dataframe tbody tr th:only-of-type {\n",
       "        vertical-align: middle;\n",
       "    }\n",
       "\n",
       "    .dataframe tbody tr th {\n",
       "        vertical-align: top;\n",
       "    }\n",
       "\n",
       "    .dataframe thead th {\n",
       "        text-align: right;\n",
       "    }\n",
       "</style>\n",
       "<table border=\"1\" class=\"dataframe\">\n",
       "  <thead>\n",
       "    <tr style=\"text-align: right;\">\n",
       "      <th></th>\n",
       "      <th>Body</th>\n",
       "      <th>Bias</th>\n",
       "      <th>Bias Rating</th>\n",
       "      <th>Category</th>\n",
       "    </tr>\n",
       "  </thead>\n",
       "  <tbody>\n",
       "    <tr>\n",
       "      <th>0</th>\n",
       "      <td>Abortion rights advocates have asked the U.S. ...</td>\n",
       "      <td>1.67</td>\n",
       "      <td>-3.5</td>\n",
       "      <td>2</td>\n",
       "    </tr>\n",
       "    <tr>\n",
       "      <th>1</th>\n",
       "      <td>A federal appeals court rejected the most dire...</td>\n",
       "      <td>0.67</td>\n",
       "      <td>-3.5</td>\n",
       "      <td>2</td>\n",
       "    </tr>\n",
       "    <tr>\n",
       "      <th>2</th>\n",
       "      <td>As part of the Trump administration's effort t...</td>\n",
       "      <td>-2.75</td>\n",
       "      <td>-3.5</td>\n",
       "      <td>2</td>\n",
       "    </tr>\n",
       "    <tr>\n",
       "      <th>3</th>\n",
       "      <td>President Donald Trump and \"the Trump of the T...</td>\n",
       "      <td>-4.33</td>\n",
       "      <td>-3.5</td>\n",
       "      <td>2</td>\n",
       "    </tr>\n",
       "    <tr>\n",
       "      <th>4</th>\n",
       "      <td>U.S Senator Elizabeth Warren, who is competing...</td>\n",
       "      <td>-10.00</td>\n",
       "      <td>-3.5</td>\n",
       "      <td>1</td>\n",
       "    </tr>\n",
       "    <tr>\n",
       "      <th>...</th>\n",
       "      <td>...</td>\n",
       "      <td>...</td>\n",
       "      <td>...</td>\n",
       "      <td>...</td>\n",
       "    </tr>\n",
       "    <tr>\n",
       "      <th>1476</th>\n",
       "      <td>Mr. Krueger, a labor economist who wrote paper...</td>\n",
       "      <td>-3.50</td>\n",
       "      <td>3.5</td>\n",
       "      <td>2</td>\n",
       "    </tr>\n",
       "    <tr>\n",
       "      <th>1477</th>\n",
       "      <td>Since January 2018 the FAA has been run by act...</td>\n",
       "      <td>2.75</td>\n",
       "      <td>3.5</td>\n",
       "      <td>2</td>\n",
       "    </tr>\n",
       "    <tr>\n",
       "      <th>1478</th>\n",
       "      <td>Things went downhill from there.\\nAfter he ins...</td>\n",
       "      <td>1.75</td>\n",
       "      <td>3.5</td>\n",
       "      <td>2</td>\n",
       "    </tr>\n",
       "    <tr>\n",
       "      <th>1479</th>\n",
       "      <td>Qualcomm had claimed Apple was violating its p...</td>\n",
       "      <td>0.50</td>\n",
       "      <td>3.5</td>\n",
       "      <td>2</td>\n",
       "    </tr>\n",
       "    <tr>\n",
       "      <th>1480</th>\n",
       "      <td>The government has also said it no longer has ...</td>\n",
       "      <td>-1.00</td>\n",
       "      <td>3.5</td>\n",
       "      <td>2</td>\n",
       "    </tr>\n",
       "  </tbody>\n",
       "</table>\n",
       "<p>1305 rows × 4 columns</p>\n",
       "</div>"
      ],
      "text/plain": [
       "                                                   Body   Bias  Bias Rating  \\\n",
       "0     Abortion rights advocates have asked the U.S. ...   1.67         -3.5   \n",
       "1     A federal appeals court rejected the most dire...   0.67         -3.5   \n",
       "2     As part of the Trump administration's effort t...  -2.75         -3.5   \n",
       "3     President Donald Trump and \"the Trump of the T...  -4.33         -3.5   \n",
       "4     U.S Senator Elizabeth Warren, who is competing... -10.00         -3.5   \n",
       "...                                                 ...    ...          ...   \n",
       "1476  Mr. Krueger, a labor economist who wrote paper...  -3.50          3.5   \n",
       "1477  Since January 2018 the FAA has been run by act...   2.75          3.5   \n",
       "1478  Things went downhill from there.\\nAfter he ins...   1.75          3.5   \n",
       "1479  Qualcomm had claimed Apple was violating its p...   0.50          3.5   \n",
       "1480  The government has also said it no longer has ...  -1.00          3.5   \n",
       "\n",
       "     Category  \n",
       "0           2  \n",
       "1           2  \n",
       "2           2  \n",
       "3           2  \n",
       "4           1  \n",
       "...       ...  \n",
       "1476        2  \n",
       "1477        2  \n",
       "1478        2  \n",
       "1479        2  \n",
       "1480        2  \n",
       "\n",
       "[1305 rows x 4 columns]"
      ]
     },
     "execution_count": 9,
     "metadata": {},
     "output_type": "execute_result"
    }
   ],
   "source": [
    "multi_df"
   ]
  },
  {
   "cell_type": "code",
   "execution_count": 10,
   "metadata": {},
   "outputs": [],
   "source": [
    "X = pd.DataFrame(multi_df['Bias Rating'])\n",
    "y = multi_df['Category']"
   ]
  },
  {
   "cell_type": "code",
   "execution_count": 11,
   "metadata": {},
   "outputs": [],
   "source": [
    "X_train, X_test, y_train, y_test = train_test_split(X, y, random_state=3)"
   ]
  },
  {
   "cell_type": "code",
   "execution_count": 12,
   "metadata": {},
   "outputs": [
    {
     "name": "stdout",
     "output_type": "stream",
     "text": [
      "Accuracy Score:  0.6972477064220184\n"
     ]
    }
   ],
   "source": [
    "# Defining Model\n",
    "regressor = LogisticRegression()\n",
    "# Training Model\n",
    "regressor.fit(X_train, y_train)\n",
    "# Making Predictions\n",
    "y_pred2 = regressor.predict(X_test)\n",
    "# Evaluating\n",
    "print(\"Accuracy Score: \", accuracy_score(y_test, y_pred2))"
   ]
  },
  {
   "cell_type": "code",
   "execution_count": 13,
   "metadata": {},
   "outputs": [
    {
     "name": "stdout",
     "output_type": "stream",
     "text": [
      "ROC Score is:  0.8693187509675538\n"
     ]
    }
   ],
   "source": [
    "y_probs = regressor.predict_proba(X_test)\n",
    "roc_auc = roc_auc_score(y_test, y_probs, average=\"macro\", multi_class=\"ovo\")\n",
    "print('ROC Score is: ', roc_auc)"
   ]
  },
  {
   "cell_type": "code",
   "execution_count": 14,
   "metadata": {},
   "outputs": [
    {
     "name": "stdout",
     "output_type": "stream",
     "text": [
      "Accuracy Score:  0.6972477064220184\n"
     ]
    }
   ],
   "source": [
    "# Defining Model\n",
    "clf = SVC(probability=True)\n",
    "# Training Model\n",
    "clf.fit(X_train, y_train)\n",
    "# Making Predictions\n",
    "y_pred3 = clf.predict(X_test)\n",
    "# Evaluating\n",
    "print(\"Accuracy Score: \", accuracy_score(y_test, y_pred3))"
   ]
  },
  {
   "cell_type": "code",
   "execution_count": 15,
   "metadata": {},
   "outputs": [
    {
     "name": "stdout",
     "output_type": "stream",
     "text": [
      "ROC Score is:  0.8673631537249689\n"
     ]
    }
   ],
   "source": [
    "y_probs = clf.predict_proba(X_test)\n",
    "roc_auc = roc_auc_score(y_test, y_probs, average=\"macro\", multi_class=\"ovo\")\n",
    "print('ROC Score is: ', roc_auc)"
   ]
  },
  {
   "cell_type": "markdown",
   "metadata": {},
   "source": [
    "### Body and Bias Rating Anaylsis"
   ]
  },
  {
   "cell_type": "code",
   "execution_count": 16,
   "metadata": {},
   "outputs": [
    {
     "data": {
      "text/html": [
       "<div>\n",
       "<style scoped>\n",
       "    .dataframe tbody tr th:only-of-type {\n",
       "        vertical-align: middle;\n",
       "    }\n",
       "\n",
       "    .dataframe tbody tr th {\n",
       "        vertical-align: top;\n",
       "    }\n",
       "\n",
       "    .dataframe thead th {\n",
       "        text-align: right;\n",
       "    }\n",
       "</style>\n",
       "<table border=\"1\" class=\"dataframe\">\n",
       "  <thead>\n",
       "    <tr style=\"text-align: right;\">\n",
       "      <th></th>\n",
       "      <th>cleaned_body</th>\n",
       "      <th>Bias</th>\n",
       "      <th>Bias Rating</th>\n",
       "    </tr>\n",
       "  </thead>\n",
       "  <tbody>\n",
       "    <tr>\n",
       "      <th>0</th>\n",
       "      <td>abortion right advocate asked u supreme court ...</td>\n",
       "      <td>1.67</td>\n",
       "      <td>-3.5</td>\n",
       "    </tr>\n",
       "    <tr>\n",
       "      <th>1</th>\n",
       "      <td>federal appeal court rejected direct constitut...</td>\n",
       "      <td>0.67</td>\n",
       "      <td>-3.5</td>\n",
       "    </tr>\n",
       "    <tr>\n",
       "      <th>2</th>\n",
       "      <td>part trump administration effort slow migrant ...</td>\n",
       "      <td>-2.75</td>\n",
       "      <td>-3.5</td>\n",
       "    </tr>\n",
       "    <tr>\n",
       "      <th>3</th>\n",
       "      <td>president donald trump trump tropic brazilian ...</td>\n",
       "      <td>-4.33</td>\n",
       "      <td>-3.5</td>\n",
       "    </tr>\n",
       "    <tr>\n",
       "      <th>4</th>\n",
       "      <td>u senator elizabeth warren competing democrati...</td>\n",
       "      <td>-10.00</td>\n",
       "      <td>-3.5</td>\n",
       "    </tr>\n",
       "    <tr>\n",
       "      <th>...</th>\n",
       "      <td>...</td>\n",
       "      <td>...</td>\n",
       "      <td>...</td>\n",
       "    </tr>\n",
       "    <tr>\n",
       "      <th>1476</th>\n",
       "      <td>mr krueger labor economist wrote paper topic i...</td>\n",
       "      <td>-3.50</td>\n",
       "      <td>3.5</td>\n",
       "    </tr>\n",
       "    <tr>\n",
       "      <th>1477</th>\n",
       "      <td>since january faa ha run acting chief daniel e...</td>\n",
       "      <td>2.75</td>\n",
       "      <td>3.5</td>\n",
       "    </tr>\n",
       "    <tr>\n",
       "      <th>1478</th>\n",
       "      <td>thing went downhill installed decorative shinh...</td>\n",
       "      <td>1.75</td>\n",
       "      <td>3.5</td>\n",
       "    </tr>\n",
       "    <tr>\n",
       "      <th>1479</th>\n",
       "      <td>qualcomm claimed apple wa violating patent wit...</td>\n",
       "      <td>0.50</td>\n",
       "      <td>3.5</td>\n",
       "    </tr>\n",
       "    <tr>\n",
       "      <th>1480</th>\n",
       "      <td>government ha also said longer ha space detain...</td>\n",
       "      <td>-1.00</td>\n",
       "      <td>3.5</td>\n",
       "    </tr>\n",
       "  </tbody>\n",
       "</table>\n",
       "<p>1305 rows × 3 columns</p>\n",
       "</div>"
      ],
      "text/plain": [
       "                                           cleaned_body   Bias  Bias Rating\n",
       "0     abortion right advocate asked u supreme court ...   1.67         -3.5\n",
       "1     federal appeal court rejected direct constitut...   0.67         -3.5\n",
       "2     part trump administration effort slow migrant ...  -2.75         -3.5\n",
       "3     president donald trump trump tropic brazilian ...  -4.33         -3.5\n",
       "4     u senator elizabeth warren competing democrati... -10.00         -3.5\n",
       "...                                                 ...    ...          ...\n",
       "1476  mr krueger labor economist wrote paper topic i...  -3.50          3.5\n",
       "1477  since january faa ha run acting chief daniel e...   2.75          3.5\n",
       "1478  thing went downhill installed decorative shinh...   1.75          3.5\n",
       "1479  qualcomm claimed apple wa violating patent wit...   0.50          3.5\n",
       "1480  government ha also said longer ha space detain...  -1.00          3.5\n",
       "\n",
       "[1305 rows x 3 columns]"
      ]
     },
     "execution_count": 16,
     "metadata": {},
     "output_type": "execute_result"
    }
   ],
   "source": [
    "df = pd.concat([final_data['cleaned_body'], final_data['Bias'], final_data['Bias Rating']], axis=1)\n",
    "df"
   ]
  },
  {
   "cell_type": "code",
   "execution_count": 17,
   "metadata": {},
   "outputs": [],
   "source": [
    "bins = [-41, -5, 5, 41]\n",
    "names = ['1', '2', '3']\n",
    "\n",
    "multi_df = df.loc[:]\n",
    "multi_df['Category'] = pd.cut(multi_df['Bias'], bins, labels=names)\n",
    "\n",
    "multi_df = multi_df.reset_index()\n",
    "multi_df = multi_df.drop('index', axis=1)"
   ]
  },
  {
   "cell_type": "code",
   "execution_count": 18,
   "metadata": {},
   "outputs": [],
   "source": [
    "tfidf_transformer = TfidfVectorizer(max_features = 800)\n",
    "tfidf = tfidf_transformer.fit_transform(multi_df['cleaned_body'])\n",
    "\n",
    "X = pd.concat([pd.DataFrame(tfidf.toarray(), columns=tfidf_transformer.get_feature_names()), multi_df['Bias Rating']], axis=1, ignore_index=True)\n",
    "#X = pd.DataFrame(tfidf.toarray(), columns=tfidf_transformer.get_feature_names())\n",
    "y = multi_df['Category']"
   ]
  },
  {
   "cell_type": "code",
   "execution_count": 19,
   "metadata": {},
   "outputs": [],
   "source": [
    "X_train, X_test, y_train, y_test = train_test_split(X, y, random_state=3)"
   ]
  },
  {
   "cell_type": "code",
   "execution_count": 20,
   "metadata": {},
   "outputs": [
    {
     "name": "stdout",
     "output_type": "stream",
     "text": [
      "Accuracy Score:  0.7706422018348624\n"
     ]
    }
   ],
   "source": [
    "# Defining Model\n",
    "regressor = LogisticRegression(max_iter=200)\n",
    "# Training Model\n",
    "regressor.fit(X_train, y_train)\n",
    "# Making Predictions\n",
    "y_pred2 = regressor.predict(X_test)\n",
    "# Evaluating\n",
    "print(\"Accuracy Score: \", accuracy_score(y_test, y_pred2))"
   ]
  },
  {
   "cell_type": "code",
   "execution_count": 21,
   "metadata": {},
   "outputs": [
    {
     "name": "stdout",
     "output_type": "stream",
     "text": [
      "ROC Score is:  0.9204129975503811\n"
     ]
    }
   ],
   "source": [
    "y_probs = regressor.predict_proba(X_test)\n",
    "roc_auc = roc_auc_score(y_test, y_probs, average=\"macro\", multi_class=\"ovo\")\n",
    "print('ROC Score is: ', roc_auc)"
   ]
  },
  {
   "cell_type": "code",
   "execution_count": 22,
   "metadata": {},
   "outputs": [
    {
     "name": "stdout",
     "output_type": "stream",
     "text": [
      "Accuracy Score:  0.6972477064220184\n"
     ]
    }
   ],
   "source": [
    "# Defining Model\n",
    "clf = SVC(probability=True)\n",
    "# Training Model\n",
    "clf.fit(X_train, y_train)\n",
    "# Making Predictions\n",
    "y_pred3 = clf.predict(X_test)\n",
    "# Evaluating\n",
    "print(\"Accuracy Score: \", accuracy_score(y_test, y_pred3))"
   ]
  },
  {
   "cell_type": "code",
   "execution_count": 23,
   "metadata": {},
   "outputs": [
    {
     "name": "stdout",
     "output_type": "stream",
     "text": [
      "ROC Score is:  0.8995398237609997\n"
     ]
    }
   ],
   "source": [
    "y_probs = clf.predict_proba(X_test)\n",
    "roc_auc = roc_auc_score(y_test, y_probs, average=\"macro\", multi_class=\"ovo\")\n",
    "print('ROC Score is: ', roc_auc)"
   ]
  },
  {
   "cell_type": "code",
   "execution_count": null,
   "metadata": {},
   "outputs": [],
   "source": []
  }
 ],
 "metadata": {
  "kernelspec": {
   "display_name": "Python 3",
   "language": "python",
   "name": "python3"
  },
  "language_info": {
   "codemirror_mode": {
    "name": "ipython",
    "version": 3
   },
   "file_extension": ".py",
   "mimetype": "text/x-python",
   "name": "python",
   "nbconvert_exporter": "python",
   "pygments_lexer": "ipython3",
   "version": "3.6.8"
  }
 },
 "nbformat": 4,
 "nbformat_minor": 2
}
