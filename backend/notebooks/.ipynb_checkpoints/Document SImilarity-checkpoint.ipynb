{
 "cells": [
  {
   "cell_type": "code",
   "execution_count": 5,
   "metadata": {},
   "outputs": [
    {
     "ename": "ModuleNotFoundError",
     "evalue": "No module named 'utils'",
     "output_type": "error",
     "traceback": [
      "\u001b[0;31m---------------------------------------------------------------------------\u001b[0m",
      "\u001b[0;31mModuleNotFoundError\u001b[0m                       Traceback (most recent call last)",
      "\u001b[0;32m<ipython-input-5-54cc778092b0>\u001b[0m in \u001b[0;36m<module>\u001b[0;34m\u001b[0m\n\u001b[1;32m      7\u001b[0m \u001b[0;32mfrom\u001b[0m \u001b[0mscipy\u001b[0m \u001b[0;32mimport\u001b[0m \u001b[0mspatial\u001b[0m\u001b[0;34m\u001b[0m\u001b[0;34m\u001b[0m\u001b[0m\n\u001b[1;32m      8\u001b[0m \u001b[0;34m\u001b[0m\u001b[0m\n\u001b[0;32m----> 9\u001b[0;31m \u001b[0;32mfrom\u001b[0m \u001b[0mutils\u001b[0m \u001b[0;32mimport\u001b[0m \u001b[0mextract_data\u001b[0m\u001b[0;34m\u001b[0m\u001b[0;34m\u001b[0m\u001b[0m\n\u001b[0m",
      "\u001b[0;31mModuleNotFoundError\u001b[0m: No module named 'utils'"
     ]
    }
   ],
   "source": [
    "import pandas as pd\n",
    "\n",
    "from nltk import word_tokenize\n",
    "from nltk.util import ngrams\n",
    "from sklearn.feature_extraction import FeatureHasher\n",
    "from collections import Counter\n",
    "from scipy import spatial\n",
    "\n",
    "from utils import extract_data"
   ]
  },
  {
   "cell_type": "code",
   "execution_count": 2,
   "metadata": {},
   "outputs": [],
   "source": [
    "df = pd.read_csv(\"../data/preprocessed_cleaned_body.csv\")"
   ]
  },
  {
   "cell_type": "code",
   "execution_count": 3,
   "metadata": {},
   "outputs": [
    {
     "data": {
      "text/html": [
       "<div>\n",
       "<style scoped>\n",
       "    .dataframe tbody tr th:only-of-type {\n",
       "        vertical-align: middle;\n",
       "    }\n",
       "\n",
       "    .dataframe tbody tr th {\n",
       "        vertical-align: top;\n",
       "    }\n",
       "\n",
       "    .dataframe thead th {\n",
       "        text-align: right;\n",
       "    }\n",
       "</style>\n",
       "<table border=\"1\" class=\"dataframe\">\n",
       "  <thead>\n",
       "    <tr style=\"text-align: right;\">\n",
       "      <th></th>\n",
       "      <th>Body</th>\n",
       "      <th>Bias</th>\n",
       "      <th>cleaned_body</th>\n",
       "    </tr>\n",
       "  </thead>\n",
       "  <tbody>\n",
       "    <tr>\n",
       "      <th>0</th>\n",
       "      <td>Abortion rights advocates have asked the U.S. ...</td>\n",
       "      <td>1.67</td>\n",
       "      <td>abortion right advocate asked u supreme court ...</td>\n",
       "    </tr>\n",
       "    <tr>\n",
       "      <th>1</th>\n",
       "      <td>A federal appeals court rejected the most dire...</td>\n",
       "      <td>0.67</td>\n",
       "      <td>federal appeal court rejected direct constitut...</td>\n",
       "    </tr>\n",
       "    <tr>\n",
       "      <th>2</th>\n",
       "      <td>As part of the Trump administration's effort t...</td>\n",
       "      <td>-2.75</td>\n",
       "      <td>part trump administration effort slow migrant ...</td>\n",
       "    </tr>\n",
       "    <tr>\n",
       "      <th>3</th>\n",
       "      <td>President Donald Trump and \"the Trump of the T...</td>\n",
       "      <td>-4.33</td>\n",
       "      <td>president donald trump trump tropic brazilian ...</td>\n",
       "    </tr>\n",
       "    <tr>\n",
       "      <th>4</th>\n",
       "      <td>U.S Senator Elizabeth Warren, who is competing...</td>\n",
       "      <td>-10.00</td>\n",
       "      <td>u senator elizabeth warren competing democrati...</td>\n",
       "    </tr>\n",
       "    <tr>\n",
       "      <th>5</th>\n",
       "      <td>Facebook announced Tuesday that it will block ...</td>\n",
       "      <td>-2.33</td>\n",
       "      <td>facebook announced tuesday block landlord cred...</td>\n",
       "    </tr>\n",
       "    <tr>\n",
       "      <th>6</th>\n",
       "      <td>A handful of Democratic candidates for preside...</td>\n",
       "      <td>-0.67</td>\n",
       "      <td>handful democratic candidate president release...</td>\n",
       "    </tr>\n",
       "    <tr>\n",
       "      <th>7</th>\n",
       "      <td>Michael Cohen has been officially disbarred in...</td>\n",
       "      <td>3.50</td>\n",
       "      <td>michael cohen ha officially disbarred new york...</td>\n",
       "    </tr>\n",
       "    <tr>\n",
       "      <th>8</th>\n",
       "      <td>While President Donald Trump and the White Hou...</td>\n",
       "      <td>-2.33</td>\n",
       "      <td>president donald trump white house uncertain e...</td>\n",
       "    </tr>\n",
       "    <tr>\n",
       "      <th>9</th>\n",
       "      <td>Mark Harris, the Republican candidate in North...</td>\n",
       "      <td>-0.75</td>\n",
       "      <td>mark harris republican candidate north carolin...</td>\n",
       "    </tr>\n",
       "    <tr>\n",
       "      <th>10</th>\n",
       "      <td>Presidential candidates submitted their first ...</td>\n",
       "      <td>-6.50</td>\n",
       "      <td>presidential candidate submitted first quarter...</td>\n",
       "    </tr>\n",
       "    <tr>\n",
       "      <th>11</th>\n",
       "      <td>Even as President Donald Trump continues his f...</td>\n",
       "      <td>-6.00</td>\n",
       "      <td>even president donald trump continues feud rep...</td>\n",
       "    </tr>\n",
       "    <tr>\n",
       "      <th>12</th>\n",
       "      <td>President Donald Trump again criticized the la...</td>\n",
       "      <td>-12.25</td>\n",
       "      <td>president donald trump criticized late sen joh...</td>\n",
       "    </tr>\n",
       "    <tr>\n",
       "      <th>13</th>\n",
       "      <td>President Donald Trump has vetoed a resolution...</td>\n",
       "      <td>9.75</td>\n",
       "      <td>president donald trump ha vetoed resolution st...</td>\n",
       "    </tr>\n",
       "    <tr>\n",
       "      <th>14</th>\n",
       "      <td>U.S. cyber operators disrupted internet access...</td>\n",
       "      <td>-5.33</td>\n",
       "      <td>u cyber operator disrupted internet access pur...</td>\n",
       "    </tr>\n",
       "    <tr>\n",
       "      <th>15</th>\n",
       "      <td>Newly-released body camera footage reveals the...</td>\n",
       "      <td>0.67</td>\n",
       "      <td>newlyreleased body camera footage reveals dram...</td>\n",
       "    </tr>\n",
       "    <tr>\n",
       "      <th>16</th>\n",
       "      <td>Robert Kraft, the owner of the Super Bowl cham...</td>\n",
       "      <td>0.50</td>\n",
       "      <td>robert kraft owner super bowl champion new eng...</td>\n",
       "    </tr>\n",
       "    <tr>\n",
       "      <th>17</th>\n",
       "      <td>A Fort Carson soldier, missing since Monday ni...</td>\n",
       "      <td>0.56</td>\n",
       "      <td>fort carson soldier missing since monday night...</td>\n",
       "    </tr>\n",
       "    <tr>\n",
       "      <th>18</th>\n",
       "      <td>Cook County State's Attorney Kim Foxx referred...</td>\n",
       "      <td>-1.00</td>\n",
       "      <td>cook county state attorney kim foxx referred e...</td>\n",
       "    </tr>\n",
       "    <tr>\n",
       "      <th>19</th>\n",
       "      <td>DETROIT -- Michigan's attorney general will lo...</td>\n",
       "      <td>0.00</td>\n",
       "      <td>detroit michigan attorney general look fatal s...</td>\n",
       "    </tr>\n",
       "    <tr>\n",
       "      <th>20</th>\n",
       "      <td>Hanoi, Vietnam - Donald Trump and Kim Jong Un ...</td>\n",
       "      <td>-0.33</td>\n",
       "      <td>hanoi vietnam donald trump kim jong un due mee...</td>\n",
       "    </tr>\n",
       "    <tr>\n",
       "      <th>21</th>\n",
       "      <td>Democrats on Tuesday are seeking to overturn U...</td>\n",
       "      <td>-7.00</td>\n",
       "      <td>democrat tuesday seeking overturn u president ...</td>\n",
       "    </tr>\n",
       "    <tr>\n",
       "      <th>22</th>\n",
       "      <td>The US military disrupted the internet access ...</td>\n",
       "      <td>-1.00</td>\n",
       "      <td>u military disrupted internet access russian t...</td>\n",
       "    </tr>\n",
       "    <tr>\n",
       "      <th>23</th>\n",
       "      <td>The US House of Representatives voted on Tuesd...</td>\n",
       "      <td>-9.75</td>\n",
       "      <td>u house representative voted tuesday revoke do...</td>\n",
       "    </tr>\n",
       "    <tr>\n",
       "      <th>24</th>\n",
       "      <td>Washington, DC - In a new bid to force the gov...</td>\n",
       "      <td>-8.25</td>\n",
       "      <td>washington dc new bid force government united ...</td>\n",
       "    </tr>\n",
       "    <tr>\n",
       "      <th>25</th>\n",
       "      <td>Record river flooding is now affecting six US ...</td>\n",
       "      <td>-0.25</td>\n",
       "      <td>record river flooding affecting six u state ac...</td>\n",
       "    </tr>\n",
       "    <tr>\n",
       "      <th>26</th>\n",
       "      <td>The killing of at least 49 Muslim worshippers ...</td>\n",
       "      <td>-15.00</td>\n",
       "      <td>killing least muslim worshipper two mosque fri...</td>\n",
       "    </tr>\n",
       "    <tr>\n",
       "      <th>27</th>\n",
       "      <td>The US Supreme Court has agreed to consider wh...</td>\n",
       "      <td>-1.50</td>\n",
       "      <td>u supreme court ha agreed consider whether man...</td>\n",
       "    </tr>\n",
       "    <tr>\n",
       "      <th>28</th>\n",
       "      <td>United States President Donald Trump has issue...</td>\n",
       "      <td>-4.00</td>\n",
       "      <td>united state president donald trump ha issued ...</td>\n",
       "    </tr>\n",
       "    <tr>\n",
       "      <th>29</th>\n",
       "      <td>US President Donald Trump and Brazil's new far...</td>\n",
       "      <td>3.50</td>\n",
       "      <td>u president donald trump brazil new farright l...</td>\n",
       "    </tr>\n",
       "  </tbody>\n",
       "</table>\n",
       "</div>"
      ],
      "text/plain": [
       "                                                 Body   Bias  \\\n",
       "0   Abortion rights advocates have asked the U.S. ...   1.67   \n",
       "1   A federal appeals court rejected the most dire...   0.67   \n",
       "2   As part of the Trump administration's effort t...  -2.75   \n",
       "3   President Donald Trump and \"the Trump of the T...  -4.33   \n",
       "4   U.S Senator Elizabeth Warren, who is competing... -10.00   \n",
       "5   Facebook announced Tuesday that it will block ...  -2.33   \n",
       "6   A handful of Democratic candidates for preside...  -0.67   \n",
       "7   Michael Cohen has been officially disbarred in...   3.50   \n",
       "8   While President Donald Trump and the White Hou...  -2.33   \n",
       "9   Mark Harris, the Republican candidate in North...  -0.75   \n",
       "10  Presidential candidates submitted their first ...  -6.50   \n",
       "11  Even as President Donald Trump continues his f...  -6.00   \n",
       "12  President Donald Trump again criticized the la... -12.25   \n",
       "13  President Donald Trump has vetoed a resolution...   9.75   \n",
       "14  U.S. cyber operators disrupted internet access...  -5.33   \n",
       "15  Newly-released body camera footage reveals the...   0.67   \n",
       "16  Robert Kraft, the owner of the Super Bowl cham...   0.50   \n",
       "17  A Fort Carson soldier, missing since Monday ni...   0.56   \n",
       "18  Cook County State's Attorney Kim Foxx referred...  -1.00   \n",
       "19  DETROIT -- Michigan's attorney general will lo...   0.00   \n",
       "20  Hanoi, Vietnam - Donald Trump and Kim Jong Un ...  -0.33   \n",
       "21  Democrats on Tuesday are seeking to overturn U...  -7.00   \n",
       "22  The US military disrupted the internet access ...  -1.00   \n",
       "23  The US House of Representatives voted on Tuesd...  -9.75   \n",
       "24  Washington, DC - In a new bid to force the gov...  -8.25   \n",
       "25  Record river flooding is now affecting six US ...  -0.25   \n",
       "26  The killing of at least 49 Muslim worshippers ... -15.00   \n",
       "27  The US Supreme Court has agreed to consider wh...  -1.50   \n",
       "28  United States President Donald Trump has issue...  -4.00   \n",
       "29  US President Donald Trump and Brazil's new far...   3.50   \n",
       "\n",
       "                                         cleaned_body  \n",
       "0   abortion right advocate asked u supreme court ...  \n",
       "1   federal appeal court rejected direct constitut...  \n",
       "2   part trump administration effort slow migrant ...  \n",
       "3   president donald trump trump tropic brazilian ...  \n",
       "4   u senator elizabeth warren competing democrati...  \n",
       "5   facebook announced tuesday block landlord cred...  \n",
       "6   handful democratic candidate president release...  \n",
       "7   michael cohen ha officially disbarred new york...  \n",
       "8   president donald trump white house uncertain e...  \n",
       "9   mark harris republican candidate north carolin...  \n",
       "10  presidential candidate submitted first quarter...  \n",
       "11  even president donald trump continues feud rep...  \n",
       "12  president donald trump criticized late sen joh...  \n",
       "13  president donald trump ha vetoed resolution st...  \n",
       "14  u cyber operator disrupted internet access pur...  \n",
       "15  newlyreleased body camera footage reveals dram...  \n",
       "16  robert kraft owner super bowl champion new eng...  \n",
       "17  fort carson soldier missing since monday night...  \n",
       "18  cook county state attorney kim foxx referred e...  \n",
       "19  detroit michigan attorney general look fatal s...  \n",
       "20  hanoi vietnam donald trump kim jong un due mee...  \n",
       "21  democrat tuesday seeking overturn u president ...  \n",
       "22  u military disrupted internet access russian t...  \n",
       "23  u house representative voted tuesday revoke do...  \n",
       "24  washington dc new bid force government united ...  \n",
       "25  record river flooding affecting six u state ac...  \n",
       "26  killing least muslim worshipper two mosque fri...  \n",
       "27  u supreme court ha agreed consider whether man...  \n",
       "28  united state president donald trump ha issued ...  \n",
       "29  u president donald trump brazil new farright l...  "
      ]
     },
     "execution_count": 3,
     "metadata": {},
     "output_type": "execute_result"
    }
   ],
   "source": [
    "df.head(30)"
   ]
  },
  {
   "cell_type": "code",
   "execution_count": 4,
   "metadata": {},
   "outputs": [],
   "source": [
    "df['Body'] = df['Body'].apply(lambda x: x.replace('\\n', ' '))"
   ]
  },
  {
   "cell_type": "code",
   "execution_count": 5,
   "metadata": {},
   "outputs": [
    {
     "data": {
      "text/plain": [
       "'As part of the Trump administration\\'s effort to slow migrants from crossing the southern border, Attorney General William Barr has ordered that some of those claiming asylum should be denied bail, meaning they could be stuck behind bars for years, rather than days. Under previous policy, those who seek asylum were granted a bail hearing if they claimed \"credible fear\" threats or threats of persecution in their home country while waiting for their cases to be heard. Immigration advocates expressed shock at Barr\\'s action and promised to challenge it immediately in court. The decision, which doesn\\'t go into effect for 90 days, orders immigration judges to deny some asylum seekers from posting bail. Barr\\'s instruction to immigration judges, whom the attorney general oversees and are not part of the judicial branch, comes out of a case involving an Indian man who was picked up \"50 miles\" away from the southern border in Mexico and claimed asylum. Barr says in similar cases bail can be withheld. \"The question here is whether, under [immigration law], aliens transferred after establishing a credible fear are eligible for release on bond,\" he continued. \"I reverse the order granting bond to the respondent,\" Barr wrote in his decision, stating that unless the Department of Homeland Security grants parole under a special exception, under the applicable legal provisions \"he must be detained until his removal proceedings conclude.\" According to Barr\\'s opinion, the person seeking asylum could ask for bond, but it is entirely up to DHS. The order doesn\\'t affect unaccompanied minors along the southern border, ether. \"There is no way to apply those provisions except as they were written—unless paroled, an alien must be detained until his asylum claim is adjudicated,\" Barr wrote. In Washington state earlier month, a federal judge agreed with the policy that those with \"bona fide\" asylum claims to have a bail hearing within seven days to determine if they can be released on bond while they wait for their court proceedings. The adjudication of asylum claims could take months or years - given the backlog of cases and lack of immigration judges. In its latest budget request, the Justice Department has requested funds to hire more judges. The ACLU said it will sue. \"This is the Trump administration’s latest assault on people fleeing persecution and seeking refuge in the United States. Our Constitution does not allow the government to lock up asylum seekers without basic due process. We\\'ll see the administration in court,\" Omar Jadwat, director of the ACLU’s Immigrants’ Rights Project, said in a statement. President Donald Trump has pushed to end the policy of \"catch and release.\" \"Catch and Release is an obsolete term. It is now Catch and Detain. Illegal Immigrants trying to come into the U.S.A., often proudly flying the flag of their nation as they ask for U.S. Asylum, will be detained or turned away,\" the president tweeted in November 2018. This is just the latest step that the Trump administration has taken to combat what Trump calls a crisis on the southern border. In May 2018, then-Attorney General Jeff Sessions enacted a zero-tolerance policy which lead to the separation of families along the border. Sessions at the time, said that the policy was a \"deterrent\" for those who attempt to cross the southern border. The president ended the policy months later in the face of widespread criticism.'"
      ]
     },
     "execution_count": 5,
     "metadata": {},
     "output_type": "execute_result"
    }
   ],
   "source": [
    "df['Body'][2]"
   ]
  },
  {
   "cell_type": "code",
   "execution_count": 6,
   "metadata": {},
   "outputs": [
    {
     "data": {
      "text/plain": [
       "'President Donald Trump and \"the Trump of the Tropics,\" Brazilian president Jair Bolsonaro, met face to face at the White House on Tuesday. Bolsonaro -- a nationalist, Twitter-loving, \"fake-news\" decrying politician -- chose to make the first bilateral trip of his presidency to Washington, where he has found an important friend and ally in Trump. As part of a three-day visit in Washington, Bolsonaro held a press conference with Trump as he aims to strengthen economic ties and positioning with the U.S. as Brazil seeks an allied front in the Western Hemisphere. In a statement ahead of the visit, White House press secretary Sarah Sanders said the two leaders will discuss \"opportunities for defense cooperation, pro-growth trade policies, combating transnational crime and restoring democracy in Venezuela.\" A senior administration official, who requested anonymity, told reporters Bolsonaro\\'s visit represented a \"real opportunity to fundamentally remake our relationship with Brazil.\" \"The U.S.-Brazil relationship has always been one of potential, but yet that potential has not always been met,\" the senior administration official said. \"This time it is different. This is a historic remaking of the U.S.-Brazil relationship where there is truly going to be a North-South axis of the two largest economies in the Western Hemisphere and a true partnership of the largest economies.\" At the start of their White House meetings, the president said he is considering NATO membership or some kind of similar alliance for Brazil. “We are looking at it very strongly. We are very inclined to do that. The relationship that we have right now with Brazil has never been better. I think there was a lot of hostility with other presidents. There is zero hostility with me,” Trump said. “And we are going to look at that very strongly in terms of whether it is NATO or something having to do with alliance.” In the Rose Garden press conference, the two leaders said they were able to discuss their goals in Venezuela. Trump threatened tougher sanctions on Venezuela and said \"all options are on the table.\" Maduro would not divulge any new strategies in the region, but said establishing a true democracy in the country was a shared priority. The leaders on Tuesday also discussed a Brazilian offer to grant the United States access to a rocket launch site, the removal of a Visa requirement for Americans traveling to Brazil, and trade. If Bolsonaro\\'s goal was to strengthen the relationship between Brazil and the United States, it appeared he was successful at least in gaining the friendship of Trump, who gave him a warm welcome in the Rose Garden. Bolsonaro even got a chuckle out of the president for saying he believed he would get re-elected. \"Well, it\\'s an internal affair. We will respect whatever the ballots tell us on 2020, but I do believe Donald Trump is going to be re-elected fully,\" Bolsonaro said when asked about the 2020 elections. \"Thank you. I agree,\" Trump said with a smile. Trump said he liked to hear Bolsonaro use the term \"fake news.\" In his opening statement, Bolsonaro said that Brazil and the United States \"stand side by side in their efforts to ensure liberties in respect to traditional family lifestyles, respect to god, our creator, politically correct attitudes, and against fake news.\" Trump said he was \"proud\" to hear his new Brazilian buddy use the same term. Bolsonaro, who was accompanied on his trip to the United States by his son, lawmaker Eduardo Bolsonaro, visited CIA headquarters in Langley, Virginia, on Monday and addressed the U.S. Chamber of Commerce. Brazil is the second-largest economy in the Western Hemisphere, and the United States is Brazil\\'s second-largest trading partner after China. \"For the first time in a while, a pro-America Brazilian president arrives in D.C.,\" Bolsonaro tweeted upon arriving in Washington. \"It\\'s the beginning of a partnership focused on liberty and prosperity, something that all of us Brazilians have long wished for.\" Like Trump, Bolsonaro is a right-wing populist with a penchant for rocking the status quo and using Twitter to blast his message around the globe. Bolsonaro has been accused of making racist and homophobic remarks and recently has come under fire for a sexually explicit tweet during Brazil’s Carnival festival. Trump was one of the first world leaders to call and congratulate Bolsonaro after this landslide victory in October. Similar to Trump\\'s election, Bolsonaro\\'s win stunned the world and was part a wave of nationalist, right-wing leaders elected in Latin America. \"His election, he broke all of the historic taboos of winning an election in Latin America. He was unabashedly, particularly in Brazil, pro America,\" a senior administration official said of Bolsonaro. \"He ran on a campaign that he wanted to be the best friend of the United States that he wanted to have this close relationship with President Trump, and what that would mean for Brazil, for the region, for the world, I think that was very important.\" The official said the president took note of Bolsonaro\\'s Trump-like rhetoric and social media presence, and called Bolsonaro to congratulate him within hours of his election. U.S. officials hope the visit will not only boost their economic relationship but align efforts to provide humanitarian assistance to Venezuela. Brazil shares a border with Venezuela and, like the United States, has joined with dozens of other world leaders in pressuring socialist Nicholas Maduro to turn over power to opposition leader Juan Guaido. But while Trump has said \"every option is on the table\" in Venezuela, suggesting the use of military force, Brazil has pushed for diplomatic talks to lead to a change in power. A senior administration official said Brazil plays an important role as an \"interlocutor\" between the U.S. and Venezuela. \"Brazil has allowed the United States to preposition humanitarian aid for Venezuela on Brazil\\'s northern border and we are very grateful to that and we thank him for working tirelessly to provide aide to the Brazilian people and them opening their doors,\" the official said. \"There\\'s also an opportunity here where they can be very good interlocutors. The Brazilian Military has very good relationships with the Venezuelan military and clearly communicate with them as to what should be the role with the Venezuelan military in regards to civility and not repressing and not maintaining the usurpation of democracy Maduro seeks.\" The U.S. and Brazil hope to end the meetings with signed agreements, including an agreement that would allow the U.S. to launch satellites and rockets into space from Brazil. \"You will see -- after the visit tomorrow, we will plan to announce a joint statement that will have a lot of deliverables, some which are currently, frankly, right now being signed and being finalized and being negotiated. And that\\'s all extraordinarily positive,\" an official said Monday. \"We think that we have, really, a historic opportunity to re-frame hemispheric relations with this North-South axis.\"'"
      ]
     },
     "execution_count": 6,
     "metadata": {},
     "output_type": "execute_result"
    }
   ],
   "source": [
    "df['Body'][3]"
   ]
  },
  {
   "cell_type": "code",
   "execution_count": 7,
   "metadata": {},
   "outputs": [
    {
     "data": {
      "text/plain": [
       "'While President Donald Trump and the White House are uncertain about what exactly will be revealed in special counsel Robert Mueller\\'s report when Attorney General William Barr clears its release to the public on Thursday, sources say they are preparing an aggressive response. Sources say the initial response will look much as it did when Mueller first transmitted the report to Barr late last month, which was expressing relief over Barr’s general conclusions. \"He anticipates the end of this just like everyone else,\" a source with knowledge of the president\\'s thinking said. The president\\'s two top White House lawyers, Pat Cipollone and Emmet Flood, are expected to be among the White House officials reading the report. Barr and a select few of his associates have been reviewing Mueller\\'s 400-plus page report in recent weeks and making redactions. ABC News has learned that the White House has received a broad briefing on the report -- described as non-specific in nature, focused mostly on the mechanics of the report itself -- including that it will be divided into sections on obstruction and collusion and that certain portions will be redacted, according to sources familiar with the matter. White House officials and sources close to the administration say advisers to the president are most concerned about the possibility of previously unknown examples of potential obstruction of justice and what information Mueller\\'s team learned from witness interviews, especially former White House Counsel Don McGahn who sat for well over 30 hours with Mueller\\'s investigators. Sources say the president hasn\\'t privately expressed any concern over the contents of the report, and is not likely to read it in its entirety. White House officials will review the report, brief the president, and then release a statement that will come from White House press secretary Sarah Sanders. \"I heard it\\'s going to come out on Thursday. That\\'s good. And there can\\'t be anything there because there was no crime. There was no anything,\" Trump told ABC News affiliate KSTP Monday in Minnesota. \"The crime was committed by the other side. This crime was all made up. It was all a fabrication.\" Members of the communications staff are also likely to make the rounds on television to speak about the report\\'s release and defend the president. A second source close to the president said the White House expects no information in the report will implicate the president legally, based on Barr’s release of the principal conclusions; however, the source expects \"it will have some statements that are bad PR-wise.\" While the president hasn\\'t privately expressed any concern over the contents of the report, sources say he is using his recent tweets attacking the report as a way to distract from any negative revelations on Thursday. The president is also expected to travel to Mar-a-Lago for the Easter weekend on Thursday, sources say, and depending on what\\'s revealed, Trump could speak to reporters as he leaves the White House.'"
      ]
     },
     "execution_count": 7,
     "metadata": {},
     "output_type": "execute_result"
    }
   ],
   "source": [
    "df['Body'][8]"
   ]
  },
  {
   "cell_type": "code",
   "execution_count": 8,
   "metadata": {},
   "outputs": [
    {
     "data": {
      "text/plain": [
       "'US President Donald Trump and Brazil\\'s new far-right leader Jair Bolsonaro forged a bond over their shared brand of conservative and populist politics on Tuesday, with Trump pledging to give more US support to Brazil\\'s global ambitions. Speaking at a joint White House news conference Trump said: \"As I told President Bolsonaro, I also intend to designate Brazil as a major non-NATO ally - or, maybe a NATO ally. I\\'ll have to talk to a lot of people but maybe a NATO ally - which will greatly advance security and cooperation between our countries.\" Brazil has pursued a closer relationship with the North Atlantic Treaty Organization (NATO), to make buying US weapons easier and to lower barriers to military and other cooperation with the US. At the outset of their first meeting, the two populist presidents exchanged football jerseys from their national teams, with Trump\\'s name emblazoned on Brazil\\'s famous yellow shirt and Bolsonaro\\'s on the USA uniform. Bolsonaro, a former army captain who styled his 2018 campaign on Trump\\'s 2016 run, has declared himself an unabashed admirer of the US president and his politics and the American way of life. Despite the friendly rhetoric, no major breakthroughs were expected from the White House meeting. In 2018, Colombia became the only Latin American nation to join the North Atlantic Treaty Organization, as a \"global partner\", which means it will not necessarily have to take part in military action. Trump also said he supported Brazil\\'s efforts to join the Organisation for Economic Co-operation and Development (OECD), a club of the world\\'s advanced economies. Brazil, the world\\'s eighth-largest economy, applied in 2017 to join the OECD, which has around three dozen members including Latin American countries Mexico, Chile and Colombia. US-Brazil trade Trump said he and Bolsonaro would also discuss improving trade between the two largest economies in the Western Hemisphere. \"Brazil makes great product and we make great product, and our trade has been never as good as it should be in the past. And in some cases it should be far, far more,\" Trump said. China long ago surpassed the United States as Brazil\\'s biggest trading partner and Bolsonaro\\'s economy minister on Monday urged the US to open its market more to Brazil if it wanted to change the status quo. Before Tuesday\\'s Oval Office meeting, Bolsonaro waived a visa requirement for US visitors to Brazil and later in a Fox News interview on Monday night threw his weight behind Trump\\'s immigration agenda, which includes a wall on the Mexican border. \"We do agree with President Trump\\'s decision or proposal on the wall,\" Bolsonaro said, in remarks translated to English by the broadcaster. \"The vast majority of potential immigrants do not have good intentions. They do not intend to do the best or do good to the US people.\" Trump said that he and Bolsonaro will have a \"fantastic working relationship\" and that \"we have many views that are similar\". Joint pressure on Maduro Trump warned on Tuesday that the US could impose \"a lot tougher\" sanctions on Venezuela as he urged the country\\'s military to depose leftist leader Nicolas Maduro. Bolsonaro echoed his calls for an end to the Maduro regime in Venezuela and an opening of the Venezuelan border with Brazil to allow humanitarian aid in. \"We call on members of Venezuelan military to end their support for Maduro who is really nothing more than a Cuban puppet and finally set their people free,\" Trump said. Trump called on Venezuelan authorities to allow US humanitarian aid to flow across the border from Brazil. Bolsonaro said \"re-establishing democracy in Venezuela is a shared interest\" with the US. The two declined to discuss publicly any potential deployment of US troops to Brazil but Trump said, \"all options are open. All options are a possibility\". Separately, the US announced on Tuesday new sanctions against Venezuela\\'s state-run mining company Minerven and its president, Adrian Perdomo, in a bid to further cut off funding to the government.'"
      ]
     },
     "execution_count": 8,
     "metadata": {},
     "output_type": "execute_result"
    }
   ],
   "source": [
    "df['Body'][29]"
   ]
  },
  {
   "cell_type": "code",
   "execution_count": 9,
   "metadata": {},
   "outputs": [],
   "source": [
    "def extract_ngrams(data, num):\n",
    "    n_grams = ngrams(word_tokenize(data), num)\n",
    "    return [' '.join(grams) for grams in n_grams]\n",
    "\n",
    "def hash_text(text, N):\n",
    "    grams = extract_ngrams(text, N)\n",
    "    gram_counts = []\n",
    "    gram_counts.append(Counter(grams))\n",
    "\n",
    "    hasher = FeatureHasher()\n",
    "    hashed = hasher.transform(gram_counts).toarray()[0]\n",
    "    return hashed\n",
    "\n",
    "def get_similarity(text1, text2, N):\n",
    "    hashed1 = hash_text(text1, N)\n",
    "    hashed2 = hash_text(text2, N)\n",
    "    return 1 - spatial.distance.cosine(hashed1, hashed2)"
   ]
  },
  {
   "cell_type": "code",
   "execution_count": 18,
   "metadata": {},
   "outputs": [],
   "source": [
    "N = 2\n",
    "text1 = df.loc[3, 'Body']\n",
    "text2 = df.loc[29, 'Body']"
   ]
  },
  {
   "cell_type": "code",
   "execution_count": 19,
   "metadata": {},
   "outputs": [
    {
     "name": "stdout",
     "output_type": "stream",
     "text": [
      "[0. 0. 0. ... 0. 0. 0.]\n",
      "(1048576,)\n"
     ]
    }
   ],
   "source": [
    "print(hash_text(text1, N))\n",
    "print(hash_text(text1, N).shape)"
   ]
  },
  {
   "cell_type": "code",
   "execution_count": 20,
   "metadata": {},
   "outputs": [
    {
     "data": {
      "text/plain": [
       "0.28341468543828996"
      ]
     },
     "execution_count": 20,
     "metadata": {},
     "output_type": "execute_result"
    }
   ],
   "source": [
    "get_similarity(text1, text2, N)"
   ]
  },
  {
   "cell_type": "code",
   "execution_count": 21,
   "metadata": {},
   "outputs": [
    {
     "name": "stdout",
     "output_type": "stream",
     "text": [
      "1388 0.22089229260002874\n",
      "334 0.11725764213645995\n",
      "242 0.12956385981009888\n",
      "1175 0.17323311786775675\n",
      "122 0.12530156859268538\n",
      "633 0.02943325551824494\n",
      "321 0.18964114306772317\n",
      "338 0.09024792510958479\n",
      "1399 0.14855181628109626\n",
      "237 0.14766710247524073\n"
     ]
    }
   ],
   "source": [
    "import random\n",
    "random_list = random.sample(range(0,len(df) - 1), 10)\n",
    "\n",
    "for index in random_list:\n",
    "    print(index, get_similarity(df.loc[3, 'Body'], df.loc[index, 'Body'], N))"
   ]
  },
  {
   "cell_type": "code",
   "execution_count": null,
   "metadata": {},
   "outputs": [],
   "source": []
  }
 ],
 "metadata": {
  "kernelspec": {
   "display_name": "Python 3",
   "language": "python",
   "name": "python3"
  },
  "language_info": {
   "codemirror_mode": {
    "name": "ipython",
    "version": 3
   },
   "file_extension": ".py",
   "mimetype": "text/x-python",
   "name": "python",
   "nbconvert_exporter": "python",
   "pygments_lexer": "ipython3",
   "version": "3.7.3"
  }
 },
 "nbformat": 4,
 "nbformat_minor": 2
}
