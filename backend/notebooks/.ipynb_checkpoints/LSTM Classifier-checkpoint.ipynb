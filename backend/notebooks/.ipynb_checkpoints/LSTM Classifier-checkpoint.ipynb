{
 "cells": [
  {
   "cell_type": "code",
   "execution_count": 45,
   "metadata": {},
   "outputs": [],
   "source": [
    "import os\n",
    "import numpy as np\n",
    "import pandas as pd\n",
    "import matplotlib.pyplot as plt\n",
    "\n",
    "import tensorflow as tf\n",
    "from tensorflow.keras import backend\n",
    "backend.clear_session()\n",
    "\n",
    "from sklearn.model_selection import train_test_split\n",
    "from tensorflow.keras.preprocessing.text import Tokenizer\n",
    "from tensorflow.keras.preprocessing.sequence import pad_sequences\n",
    "\n",
    "from tensorflow.keras.layers import Dense, Input, GlobalMaxPooling1D, LSTM, Embedding, Dropout\n",
    "from tensorflow.keras.models import Sequential\n",
    "\n",
    "os.chdir(\"../\")\n",
    "from lib.utils import load_data\n",
    "os.chdir(\"notebooks/\")"
   ]
  },
  {
   "cell_type": "code",
   "execution_count": 46,
   "metadata": {},
   "outputs": [
    {
     "data": {
      "text/html": [
       "<div>\n",
       "<style scoped>\n",
       "    .dataframe tbody tr th:only-of-type {\n",
       "        vertical-align: middle;\n",
       "    }\n",
       "\n",
       "    .dataframe tbody tr th {\n",
       "        vertical-align: top;\n",
       "    }\n",
       "\n",
       "    .dataframe thead th {\n",
       "        text-align: right;\n",
       "    }\n",
       "</style>\n",
       "<table border=\"1\" class=\"dataframe\">\n",
       "  <thead>\n",
       "    <tr style=\"text-align: right;\">\n",
       "      <th></th>\n",
       "      <th>Body</th>\n",
       "      <th>Bias</th>\n",
       "      <th>cleaned_body</th>\n",
       "    </tr>\n",
       "  </thead>\n",
       "  <tbody>\n",
       "    <tr>\n",
       "      <th>0</th>\n",
       "      <td>Abortion rights advocates have asked the U.S. ...</td>\n",
       "      <td>1.67</td>\n",
       "      <td>abortion right advocate asked u supreme court ...</td>\n",
       "    </tr>\n",
       "    <tr>\n",
       "      <th>1</th>\n",
       "      <td>A federal appeals court rejected the most dire...</td>\n",
       "      <td>0.67</td>\n",
       "      <td>federal appeal court rejected direct constitut...</td>\n",
       "    </tr>\n",
       "    <tr>\n",
       "      <th>2</th>\n",
       "      <td>As part of the Trump administration's effort t...</td>\n",
       "      <td>-2.75</td>\n",
       "      <td>part trump administration effort slow migrant ...</td>\n",
       "    </tr>\n",
       "    <tr>\n",
       "      <th>3</th>\n",
       "      <td>President Donald Trump and \"the Trump of the T...</td>\n",
       "      <td>-4.33</td>\n",
       "      <td>president donald trump trump tropic brazilian ...</td>\n",
       "    </tr>\n",
       "    <tr>\n",
       "      <th>4</th>\n",
       "      <td>U.S Senator Elizabeth Warren, who is competing...</td>\n",
       "      <td>-10.00</td>\n",
       "      <td>u senator elizabeth warren competing democrati...</td>\n",
       "    </tr>\n",
       "  </tbody>\n",
       "</table>\n",
       "</div>"
      ],
      "text/plain": [
       "                                                Body  ...                                       cleaned_body\n",
       "0  Abortion rights advocates have asked the U.S. ...  ...  abortion right advocate asked u supreme court ...\n",
       "1  A federal appeals court rejected the most dire...  ...  federal appeal court rejected direct constitut...\n",
       "2  As part of the Trump administration's effort t...  ...  part trump administration effort slow migrant ...\n",
       "3  President Donald Trump and \"the Trump of the T...  ...  president donald trump trump tropic brazilian ...\n",
       "4  U.S Senator Elizabeth Warren, who is competing...  ...  u senator elizabeth warren competing democrati...\n",
       "\n",
       "[5 rows x 3 columns]"
      ]
     },
     "execution_count": 46,
     "metadata": {},
     "output_type": "execute_result"
    }
   ],
   "source": [
    "df = load_data()\n",
    "df.head()"
   ]
  },
  {
   "cell_type": "markdown",
   "metadata": {},
   "source": [
    "## Data Preprocessing"
   ]
  },
  {
   "cell_type": "code",
   "execution_count": 47,
   "metadata": {},
   "outputs": [],
   "source": [
    "df.loc[df['Bias'] <= 0, 'Bias'] = 0\n",
    "df.loc[df['Bias'] > 0, 'Bias'] = 1"
   ]
  },
  {
   "cell_type": "code",
   "execution_count": 48,
   "metadata": {},
   "outputs": [],
   "source": [
    "df = df.drop(columns=['Body'])"
   ]
  },
  {
   "cell_type": "code",
   "execution_count": 49,
   "metadata": {},
   "outputs": [],
   "source": [
    "train_set, testval_set = train_test_split(df)\n",
    "val_set, test_set = train_test_split(testval_set, train_size=0.5)\n",
    "\n",
    "X_train = train_set['cleaned_body']\n",
    "X_val = val_set['cleaned_body']\n",
    "X_test = test_set['cleaned_body']\n",
    "\n",
    "y_train = train_set['Bias'].values\n",
    "y_val = val_set['Bias'].values\n",
    "y_test = test_set['Bias'].values"
   ]
  },
  {
   "cell_type": "code",
   "execution_count": 50,
   "metadata": {},
   "outputs": [],
   "source": [
    "# Tokenizing\n",
    "MAX_VOCAB_SIZE = 20000\n",
    "\n",
    "tokenizer = Tokenizer(num_words=MAX_VOCAB_SIZE)\n",
    "tokenizer.fit_on_texts(X_train)\n",
    "sequences_train = tokenizer.texts_to_sequences(X_train)\n",
    "sequences_val = tokenizer.texts_to_sequences(X_val)\n",
    "sequences_test = tokenizer.texts_to_sequences(X_test)"
   ]
  },
  {
   "cell_type": "code",
   "execution_count": 56,
   "metadata": {},
   "outputs": [
    {
     "name": "stdout",
     "output_type": "stream",
     "text": [
      "Training shape:  (1256, 2000)\n",
      "Validation shape:  (209, 2000)\n",
      "Testing shape:  (210, 2000)\n"
     ]
    }
   ],
   "source": [
    "# Padding sequences\n",
    "#X_train_pad = pad_sequences(sequences_train)\n",
    "\n",
    "#MAX_LEN = X_train_pad.shape[1]\n",
    "MAX_LEN = 2000\n",
    "\n",
    "X_train_pad = pad_sequences(sequences_train, maxlen=MAX_LEN)\n",
    "X_val_pad = pad_sequences(sequences_val, maxlen=MAX_LEN)\n",
    "X_test_pad = pad_sequences(sequences_test, maxlen=MAX_LEN)\n",
    "\n",
    "print('Training shape: ', X_train_pad.shape)\n",
    "print('Validation shape: ', X_val_pad.shape)\n",
    "print('Testing shape: ', X_test_pad.shape)"
   ]
  },
  {
   "cell_type": "code",
   "execution_count": 57,
   "metadata": {},
   "outputs": [],
   "source": [
    "def trim_dataset(mat, batch_size):\n",
    "    \"\"\"\n",
    "    trims dataset to a size that's divisible by the batch size\n",
    "    \"\"\"\n",
    "\n",
    "    no_of_rows_drop = mat.shape[0] % batch_size\n",
    "    if(no_of_rows_drop > 0):\n",
    "        return mat[:-no_of_rows_drop]\n",
    "    else:\n",
    "        return mat"
   ]
  },
  {
   "cell_type": "markdown",
   "metadata": {},
   "source": [
    "## Creating the Model"
   ]
  },
  {
   "cell_type": "code",
   "execution_count": 58,
   "metadata": {},
   "outputs": [],
   "source": [
    "V = len(tokenizer.word_index) # Corpus length\n",
    "D = min(600, round(1.6 * V ** .56)) # Dimensionality of Embedding layer\n",
    "        \n",
    "model = Sequential()\n",
    "        \n",
    "model.add(Input(shape=(X_train_pad.shape[1],)))\n",
    "model.add(Embedding(V + 1, D))\n",
    "\n",
    "model.add(LSTM(64, return_sequences=True))\n",
    "#model.add(Dropout(0.2))\n",
    "\n",
    "#model.add(LSTM(128, return_sequences=True))\n",
    "#model.add(Dropout(0.2))\n",
    "\n",
    "#model.add(LSTM(64))\n",
    "#model.add(Dropout(0.2))\n",
    "\n",
    "model.add(GlobalMaxPooling1D())\n",
    "model.add(Dense(1, activation='sigmoid'))\n",
    "\n",
    "model.compile(loss='binary_crossentropy', optimizer='adam', metrics=['accuracy'])"
   ]
  },
  {
   "cell_type": "code",
   "execution_count": 59,
   "metadata": {},
   "outputs": [
    {
     "name": "stdout",
     "output_type": "stream",
     "text": [
      "Training...\n",
      "Train on 1216 samples, validate on 192 samples\n",
      "Epoch 1/5\n",
      "1216/1216 [==============================] - 748s 615ms/sample - loss: 0.6442 - acc: 0.6546 - val_loss: 0.6297 - val_acc: 0.6667\n",
      "Epoch 2/5\n",
      "1216/1216 [==============================] - 826s 679ms/sample - loss: 0.5889 - acc: 0.6842 - val_loss: 0.6127 - val_acc: 0.6667\n",
      "Epoch 3/5\n",
      "1216/1216 [==============================] - 164s 135ms/sample - loss: 0.4941 - acc: 0.7451 - val_loss: 0.5193 - val_acc: 0.7865\n",
      "Epoch 4/5\n",
      "1216/1216 [==============================] - 25343s 21s/sample - loss: 0.2445 - acc: 0.9301 - val_loss: 0.5190 - val_acc: 0.7656\n",
      "Epoch 5/5\n",
      "1216/1216 [==============================] - 168s 138ms/sample - loss: 0.1256 - acc: 0.9646 - val_loss: 0.6728 - val_acc: 0.7344\n"
     ]
    }
   ],
   "source": [
    "EPOCHS = 5\n",
    "BATCH_SIZE = 64\n",
    "\n",
    "X_train_pad = trim_dataset(X_train_pad, BATCH_SIZE)\n",
    "y_train = trim_dataset(y_train, BATCH_SIZE)\n",
    "X_val_pad = trim_dataset(X_val_pad, BATCH_SIZE)\n",
    "y_val = trim_dataset(y_val, BATCH_SIZE)\n",
    "\n",
    "print('Training...')\n",
    "r = model.fit(X_train_pad, \n",
    "              y_train, \n",
    "              epochs = EPOCHS, \n",
    "              batch_size = BATCH_SIZE,\n",
    "              validation_data=(X_val_pad, y_val))"
   ]
  },
  {
   "cell_type": "markdown",
   "metadata": {},
   "source": [
    "## Plotting results"
   ]
  },
  {
   "cell_type": "code",
   "execution_count": 60,
   "metadata": {},
   "outputs": [
    {
     "data": {
      "text/plain": [
       "<matplotlib.legend.Legend at 0x1a6f52c7f0>"
      ]
     },
     "execution_count": 60,
     "metadata": {},
     "output_type": "execute_result"
    },
    {
     "data": {
      "image/png": "[encoded data removed]",
      "text/plain": [
       "<Figure size 432x288 with 1 Axes>"
      ]
     },
     "metadata": {
      "needs_background": "light"
     },
     "output_type": "display_data"
    }
   ],
   "source": [
    "plt.title('Loss per iteration')\n",
    "plt.plot(r.history['loss'], label='loss')\n",
    "plt.plot(r.history['val_loss'], label='val_loss')\n",
    "plt.legend()"
   ]
  },
  {
   "cell_type": "code",
   "execution_count": 61,
   "metadata": {},
   "outputs": [
    {
     "data": {
      "text/plain": [
       "<matplotlib.legend.Legend at 0x1a6f484a20>"
      ]
     },
     "execution_count": 61,
     "metadata": {},
     "output_type": "execute_result"
    },
    {
     "data": {
      "image/png": "[encoded data removed]",
      "text/plain": [
       "<Figure size 432x288 with 1 Axes>"
      ]
     },
     "metadata": {
      "needs_background": "light"
     },
     "output_type": "display_data"
    }
   ],
   "source": [
    "plt.title('Accuracy per iteration')\n",
    "plt.plot(r.history['acc'], label='acc')\n",
    "plt.plot(r.history['val_acc'], label='val_acc')\n",
    "plt.legend()"
   ]
  },
  {
   "cell_type": "code",
   "execution_count": null,
   "metadata": {},
   "outputs": [],
   "source": []
  }
 ],
 "metadata": {
  "kernelspec": {
   "display_name": "Python 3",
   "language": "python",
   "name": "python3"
  },
  "language_info": {
   "codemirror_mode": {
    "name": "ipython",
    "version": 3
   },
   "file_extension": ".py",
   "mimetype": "text/x-python",
   "name": "python",
   "nbconvert_exporter": "python",
   "pygments_lexer": "ipython3",
   "version": "3.7.3"
  }
 },
 "nbformat": 4,
 "nbformat_minor": 2
}
