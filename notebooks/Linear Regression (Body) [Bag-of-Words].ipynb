{
 "cells": [
  {
   "cell_type": "code",
   "execution_count": 1,
   "metadata": {},
   "outputs": [
    {
     "name": "stderr",
     "output_type": "stream",
     "text": [
      "[nltk_data] Downloading package stopwords to\n",
      "[nltk_data]     /Users/chingyiie/nltk_data...\n",
      "[nltk_data]   Package stopwords is already up-to-date!\n",
      "[nltk_data] Downloading package wordnet to\n",
      "[nltk_data]     /Users/chingyiie/nltk_data...\n",
      "[nltk_data]   Package wordnet is already up-to-date!\n"
     ]
    }
   ],
   "source": [
    "import numpy as np\n",
    "import pandas as pd\n",
    "\n",
    "import nltk\n",
    "nltk.download('stopwords')\n",
    "from nltk.corpus import stopwords\n",
    "nltk.download('wordnet')\n",
    "from nltk.stem.wordnet import WordNetLemmatizer\n",
    "import string\n",
    "\n",
    "# libraries for POS tagging and identification\n",
    "import spacy\n",
    "nlp = spacy.load('en_core_web_sm')\n",
    "\n",
    "from sklearn.feature_extraction.text import CountVectorizer\n",
    "\n",
    "from sklearn.linear_model import LinearRegression\n",
    "from sklearn.linear_model import LassoCV\n",
    "from sklearn.model_selection import train_test_split\n",
    "from sklearn.preprocessing import MinMaxScaler\n",
    "\n",
    "from scipy import stats"
   ]
  },
  {
   "cell_type": "code",
   "execution_count": 2,
   "metadata": {},
   "outputs": [],
   "source": [
    "df = pd.read_csv(\"../data/final_data.csv\")"
   ]
  },
  {
   "cell_type": "code",
   "execution_count": 3,
   "metadata": {},
   "outputs": [
    {
     "data": {
      "text/html": [
       "<div>\n",
       "<style scoped>\n",
       "    .dataframe tbody tr th:only-of-type {\n",
       "        vertical-align: middle;\n",
       "    }\n",
       "\n",
       "    .dataframe tbody tr th {\n",
       "        vertical-align: top;\n",
       "    }\n",
       "\n",
       "    .dataframe thead th {\n",
       "        text-align: right;\n",
       "    }\n",
       "</style>\n",
       "<table border=\"1\" class=\"dataframe\">\n",
       "  <thead>\n",
       "    <tr style=\"text-align: right;\">\n",
       "      <th></th>\n",
       "      <th>Url</th>\n",
       "      <th>Author</th>\n",
       "      <th>Date</th>\n",
       "      <th>Header</th>\n",
       "      <th>Body</th>\n",
       "      <th>n_links</th>\n",
       "      <th>Source</th>\n",
       "      <th>Bias</th>\n",
       "      <th>Quality</th>\n",
       "    </tr>\n",
       "  </thead>\n",
       "  <tbody>\n",
       "    <tr>\n",
       "      <th>0</th>\n",
       "      <td>https://abcnews.go.com/Politics/abortion-right...</td>\n",
       "      <td>Devin Dwyer</td>\n",
       "      <td>Wed, 17 Apr 2019 10:14:00 GMT</td>\n",
       "      <td>Abortion rights group asks Supreme Court to st...</td>\n",
       "      <td>Abortion rights advocates have asked the U.S. ...</td>\n",
       "      <td>3.0</td>\n",
       "      <td>ABC</td>\n",
       "      <td>1.67</td>\n",
       "      <td>49.00</td>\n",
       "    </tr>\n",
       "    <tr>\n",
       "      <th>1</th>\n",
       "      <td>https://abcnews.go.com/Politics/appeals-court-...</td>\n",
       "      <td>Ali Dukakis</td>\n",
       "      <td>Tue, 26 Feb 2019 09:05:00 GMT</td>\n",
       "      <td>Appeals court says special counsel Robert Muel...</td>\n",
       "      <td>A federal appeals court rejected the most dire...</td>\n",
       "      <td>2.0</td>\n",
       "      <td>ABC</td>\n",
       "      <td>0.67</td>\n",
       "      <td>51.67</td>\n",
       "    </tr>\n",
       "    <tr>\n",
       "      <th>2</th>\n",
       "      <td>https://abcnews.go.com/Politics/attorney-gener...</td>\n",
       "      <td>Luke Barr</td>\n",
       "      <td>Wed, 17 Apr 2019 14:02:00 GMT</td>\n",
       "      <td>Attorney general orders some asylum seekers to...</td>\n",
       "      <td>As part of the Trump administration's effort t...</td>\n",
       "      <td>6.0</td>\n",
       "      <td>ABC</td>\n",
       "      <td>-2.75</td>\n",
       "      <td>43.50</td>\n",
       "    </tr>\n",
       "    <tr>\n",
       "      <th>3</th>\n",
       "      <td>https://abcnews.go.com/Politics/donald-trump-t...</td>\n",
       "      <td>Meridith McGraw</td>\n",
       "      <td>Tue, 19 Mar 2019 12:44:00 GMT</td>\n",
       "      <td>Donald Trump and 'the Trump of the Tropics,' B...</td>\n",
       "      <td>President Donald Trump and \"the Trump of the T...</td>\n",
       "      <td>10.0</td>\n",
       "      <td>ABC</td>\n",
       "      <td>-4.33</td>\n",
       "      <td>52.67</td>\n",
       "    </tr>\n",
       "    <tr>\n",
       "      <th>4</th>\n",
       "      <td>https://abcnews.go.com/Politics/electoral-coll...</td>\n",
       "      <td>Matthew Dowd</td>\n",
       "      <td>Tue, 19 Mar 2019 21:39:00 GMT</td>\n",
       "      <td>The Electoral College limits the campaign play...</td>\n",
       "      <td>U.S Senator Elizabeth Warren, who is competing...</td>\n",
       "      <td>5.0</td>\n",
       "      <td>ABC</td>\n",
       "      <td>-10.00</td>\n",
       "      <td>32.00</td>\n",
       "    </tr>\n",
       "  </tbody>\n",
       "</table>\n",
       "</div>"
      ],
      "text/plain": [
       "                                                 Url           Author  \\\n",
       "0  https://abcnews.go.com/Politics/abortion-right...      Devin Dwyer   \n",
       "1  https://abcnews.go.com/Politics/appeals-court-...      Ali Dukakis   \n",
       "2  https://abcnews.go.com/Politics/attorney-gener...        Luke Barr   \n",
       "3  https://abcnews.go.com/Politics/donald-trump-t...  Meridith McGraw   \n",
       "4  https://abcnews.go.com/Politics/electoral-coll...     Matthew Dowd   \n",
       "\n",
       "                            Date  \\\n",
       "0  Wed, 17 Apr 2019 10:14:00 GMT   \n",
       "1  Tue, 26 Feb 2019 09:05:00 GMT   \n",
       "2  Wed, 17 Apr 2019 14:02:00 GMT   \n",
       "3  Tue, 19 Mar 2019 12:44:00 GMT   \n",
       "4  Tue, 19 Mar 2019 21:39:00 GMT   \n",
       "\n",
       "                                              Header  \\\n",
       "0  Abortion rights group asks Supreme Court to st...   \n",
       "1  Appeals court says special counsel Robert Muel...   \n",
       "2  Attorney general orders some asylum seekers to...   \n",
       "3  Donald Trump and 'the Trump of the Tropics,' B...   \n",
       "4  The Electoral College limits the campaign play...   \n",
       "\n",
       "                                                Body  n_links Source   Bias  \\\n",
       "0  Abortion rights advocates have asked the U.S. ...      3.0    ABC   1.67   \n",
       "1  A federal appeals court rejected the most dire...      2.0    ABC   0.67   \n",
       "2  As part of the Trump administration's effort t...      6.0    ABC  -2.75   \n",
       "3  President Donald Trump and \"the Trump of the T...     10.0    ABC  -4.33   \n",
       "4  U.S Senator Elizabeth Warren, who is competing...      5.0    ABC -10.00   \n",
       "\n",
       "   Quality  \n",
       "0    49.00  \n",
       "1    51.67  \n",
       "2    43.50  \n",
       "3    52.67  \n",
       "4    32.00  "
      ]
     },
     "execution_count": 3,
     "metadata": {},
     "output_type": "execute_result"
    }
   ],
   "source": [
    "df.head()"
   ]
  },
  {
   "cell_type": "markdown",
   "metadata": {},
   "source": [
    "## Data Preprocessing"
   ]
  },
  {
   "cell_type": "code",
   "execution_count": 4,
   "metadata": {},
   "outputs": [],
   "source": [
    "body_df = df.drop(columns=['Url', 'Author', 'Date', 'Header', 'Source', 'n_links'])"
   ]
  },
  {
   "cell_type": "code",
   "execution_count": 5,
   "metadata": {},
   "outputs": [
    {
     "data": {
      "text/html": [
       "<div>\n",
       "<style scoped>\n",
       "    .dataframe tbody tr th:only-of-type {\n",
       "        vertical-align: middle;\n",
       "    }\n",
       "\n",
       "    .dataframe tbody tr th {\n",
       "        vertical-align: top;\n",
       "    }\n",
       "\n",
       "    .dataframe thead th {\n",
       "        text-align: right;\n",
       "    }\n",
       "</style>\n",
       "<table border=\"1\" class=\"dataframe\">\n",
       "  <thead>\n",
       "    <tr style=\"text-align: right;\">\n",
       "      <th></th>\n",
       "      <th>Body</th>\n",
       "      <th>Bias</th>\n",
       "      <th>Quality</th>\n",
       "    </tr>\n",
       "  </thead>\n",
       "  <tbody>\n",
       "    <tr>\n",
       "      <th>0</th>\n",
       "      <td>Abortion rights advocates have asked the U.S. ...</td>\n",
       "      <td>1.67</td>\n",
       "      <td>49.00</td>\n",
       "    </tr>\n",
       "    <tr>\n",
       "      <th>1</th>\n",
       "      <td>A federal appeals court rejected the most dire...</td>\n",
       "      <td>0.67</td>\n",
       "      <td>51.67</td>\n",
       "    </tr>\n",
       "    <tr>\n",
       "      <th>2</th>\n",
       "      <td>As part of the Trump administration's effort t...</td>\n",
       "      <td>-2.75</td>\n",
       "      <td>43.50</td>\n",
       "    </tr>\n",
       "    <tr>\n",
       "      <th>3</th>\n",
       "      <td>President Donald Trump and \"the Trump of the T...</td>\n",
       "      <td>-4.33</td>\n",
       "      <td>52.67</td>\n",
       "    </tr>\n",
       "    <tr>\n",
       "      <th>4</th>\n",
       "      <td>U.S Senator Elizabeth Warren, who is competing...</td>\n",
       "      <td>-10.00</td>\n",
       "      <td>32.00</td>\n",
       "    </tr>\n",
       "  </tbody>\n",
       "</table>\n",
       "</div>"
      ],
      "text/plain": [
       "                                                Body   Bias  Quality\n",
       "0  Abortion rights advocates have asked the U.S. ...   1.67    49.00\n",
       "1  A federal appeals court rejected the most dire...   0.67    51.67\n",
       "2  As part of the Trump administration's effort t...  -2.75    43.50\n",
       "3  President Donald Trump and \"the Trump of the T...  -4.33    52.67\n",
       "4  U.S Senator Elizabeth Warren, who is competing... -10.00    32.00"
      ]
     },
     "execution_count": 5,
     "metadata": {},
     "output_type": "execute_result"
    }
   ],
   "source": [
    "body_df.head()"
   ]
  },
  {
   "cell_type": "code",
   "execution_count": 21,
   "metadata": {},
   "outputs": [],
   "source": [
    "def process_text(text):\n",
    "    # returns the lowercase\n",
    "    text = text.lower()\n",
    "    \n",
    "    # removes punctuation\n",
    "    nopunc_digit = [char for char in text if char not in string.punctuation and not char.isdigit()]\n",
    "    nopunc_digit = ''.join(nopunc_digit)\n",
    "\n",
    "    # retains adjectives and adverbs\n",
    "    doc = nlp(nopunc_digit)\n",
    "    adj_adv_words = [token.text for token in doc if (token.pos_ == 'ADJ' or token.pos_ == 'ADV')]\n",
    "    adj_adv_words = ' '.join(adj_adv_words)\n",
    "    \n",
    "    # removes stopwords and lemmatizes remaining words; also gets the infinitive form of the verb; converts adv to adj (sadly -> sad)\n",
    "    wnl = WordNetLemmatizer()\n",
    "    lemmatized = [wnl.lemmatize(word) for word in adj_adv_words.split() if not wnl.lemmatize(word) in set(stopwords.words('english'))]\n",
    "    lemmatized = ' '.join(lemmatized)\n",
    "    \n",
    "    return lemmatized"
   ]
  },
  {
   "cell_type": "code",
   "execution_count": 22,
   "metadata": {},
   "outputs": [],
   "source": [
    "body_df['cleaned_body'] = body_df['Body'].apply(lambda x: process_text(x))"
   ]
  },
  {
   "cell_type": "code",
   "execution_count": 23,
   "metadata": {},
   "outputs": [],
   "source": [
    "body_df.drop(columns=['Body', 'Quality'], inplace=True)"
   ]
  },
  {
   "cell_type": "markdown",
   "metadata": {},
   "source": [
    "## Preparing Training and Testing Data"
   ]
  },
  {
   "cell_type": "code",
   "execution_count": 24,
   "metadata": {},
   "outputs": [],
   "source": [
    "X = body_df.iloc[:, body_df.columns != 'Bias']\n",
    "y = body_df['Bias']"
   ]
  },
  {
   "cell_type": "code",
   "execution_count": 25,
   "metadata": {},
   "outputs": [
    {
     "data": {
      "text/html": [
       "<div>\n",
       "<style scoped>\n",
       "    .dataframe tbody tr th:only-of-type {\n",
       "        vertical-align: middle;\n",
       "    }\n",
       "\n",
       "    .dataframe tbody tr th {\n",
       "        vertical-align: top;\n",
       "    }\n",
       "\n",
       "    .dataframe thead th {\n",
       "        text-align: right;\n",
       "    }\n",
       "</style>\n",
       "<table border=\"1\" class=\"dataframe\">\n",
       "  <thead>\n",
       "    <tr style=\"text-align: right;\">\n",
       "      <th></th>\n",
       "      <th>cleaned_body</th>\n",
       "    </tr>\n",
       "  </thead>\n",
       "  <tbody>\n",
       "    <tr>\n",
       "      <th>0</th>\n",
       "      <td>summarily controversial local temporarily repr...</td>\n",
       "    </tr>\n",
       "    <tr>\n",
       "      <th>1</th>\n",
       "      <td>federal direct constitutional special former s...</td>\n",
       "    </tr>\n",
       "    <tr>\n",
       "      <th>2</th>\n",
       "      <td>trump southern rather previous credible immedi...</td>\n",
       "    </tr>\n",
       "    <tr>\n",
       "      <th>3</th>\n",
       "      <td>brazilian nationalist first bilateral importan...</td>\n",
       "    </tr>\n",
       "    <tr>\n",
       "      <th>4</th>\n",
       "      <td>democratic national popular quickly many radic...</td>\n",
       "    </tr>\n",
       "  </tbody>\n",
       "</table>\n",
       "</div>"
      ],
      "text/plain": [
       "                                        cleaned_body\n",
       "0  summarily controversial local temporarily repr...\n",
       "1  federal direct constitutional special former s...\n",
       "2  trump southern rather previous credible immedi...\n",
       "3  brazilian nationalist first bilateral importan...\n",
       "4  democratic national popular quickly many radic..."
      ]
     },
     "execution_count": 25,
     "metadata": {},
     "output_type": "execute_result"
    }
   ],
   "source": [
    "X.head()"
   ]
  },
  {
   "cell_type": "code",
   "execution_count": 26,
   "metadata": {},
   "outputs": [],
   "source": [
    "bow_transformer = CountVectorizer(max_features = 800)\n",
    "bow = bow_transformer.fit_transform(X['cleaned_body'])\n",
    "\n",
    "X = pd.DataFrame(bow.toarray(), columns=bow_transformer.get_feature_names())"
   ]
  },
  {
   "cell_type": "code",
   "execution_count": 27,
   "metadata": {},
   "outputs": [],
   "source": [
    "col_names = X.columns\n",
    "\n",
    "scaler = MinMaxScaler()\n",
    "scaled = scaler.fit_transform(X)\n",
    "X = pd.DataFrame(scaled, columns=col_names)"
   ]
  },
  {
   "cell_type": "code",
   "execution_count": 28,
   "metadata": {},
   "outputs": [
    {
     "data": {
      "text/html": [
       "<div>\n",
       "<style scoped>\n",
       "    .dataframe tbody tr th:only-of-type {\n",
       "        vertical-align: middle;\n",
       "    }\n",
       "\n",
       "    .dataframe tbody tr th {\n",
       "        vertical-align: top;\n",
       "    }\n",
       "\n",
       "    .dataframe thead th {\n",
       "        text-align: right;\n",
       "    }\n",
       "</style>\n",
       "<table border=\"1\" class=\"dataframe\">\n",
       "  <thead>\n",
       "    <tr style=\"text-align: right;\">\n",
       "      <th></th>\n",
       "      <th>able</th>\n",
       "      <th>abroad</th>\n",
       "      <th>absolute</th>\n",
       "      <th>absolutely</th>\n",
       "      <th>academic</th>\n",
       "      <th>acceptable</th>\n",
       "      <th>accountable</th>\n",
       "      <th>accurate</th>\n",
       "      <th>active</th>\n",
       "      <th>actively</th>\n",
       "      <th>...</th>\n",
       "      <th>worse</th>\n",
       "      <th>worst</th>\n",
       "      <th>worth</th>\n",
       "      <th>wrong</th>\n",
       "      <th>yearold</th>\n",
       "      <th>yellow</th>\n",
       "      <th>yemeni</th>\n",
       "      <th>yet</th>\n",
       "      <th>young</th>\n",
       "      <th>younger</th>\n",
       "    </tr>\n",
       "  </thead>\n",
       "  <tbody>\n",
       "    <tr>\n",
       "      <th>0</th>\n",
       "      <td>0.00</td>\n",
       "      <td>0.0</td>\n",
       "      <td>0.0</td>\n",
       "      <td>0.0</td>\n",
       "      <td>0.0</td>\n",
       "      <td>0.0</td>\n",
       "      <td>0.0</td>\n",
       "      <td>0.0</td>\n",
       "      <td>0.0</td>\n",
       "      <td>0.0</td>\n",
       "      <td>...</td>\n",
       "      <td>0.0</td>\n",
       "      <td>0.0</td>\n",
       "      <td>0.0</td>\n",
       "      <td>0.0</td>\n",
       "      <td>0.0</td>\n",
       "      <td>0.0</td>\n",
       "      <td>0.0</td>\n",
       "      <td>0.000000</td>\n",
       "      <td>0.0</td>\n",
       "      <td>0.0</td>\n",
       "    </tr>\n",
       "    <tr>\n",
       "      <th>1</th>\n",
       "      <td>0.00</td>\n",
       "      <td>0.0</td>\n",
       "      <td>0.0</td>\n",
       "      <td>0.0</td>\n",
       "      <td>0.0</td>\n",
       "      <td>0.0</td>\n",
       "      <td>0.0</td>\n",
       "      <td>0.0</td>\n",
       "      <td>0.0</td>\n",
       "      <td>0.0</td>\n",
       "      <td>...</td>\n",
       "      <td>0.0</td>\n",
       "      <td>0.0</td>\n",
       "      <td>0.0</td>\n",
       "      <td>0.0</td>\n",
       "      <td>0.0</td>\n",
       "      <td>0.0</td>\n",
       "      <td>0.0</td>\n",
       "      <td>0.000000</td>\n",
       "      <td>0.0</td>\n",
       "      <td>0.0</td>\n",
       "    </tr>\n",
       "    <tr>\n",
       "      <th>2</th>\n",
       "      <td>0.00</td>\n",
       "      <td>0.0</td>\n",
       "      <td>0.0</td>\n",
       "      <td>0.0</td>\n",
       "      <td>0.0</td>\n",
       "      <td>0.0</td>\n",
       "      <td>0.0</td>\n",
       "      <td>0.0</td>\n",
       "      <td>0.0</td>\n",
       "      <td>0.0</td>\n",
       "      <td>...</td>\n",
       "      <td>0.0</td>\n",
       "      <td>0.0</td>\n",
       "      <td>0.0</td>\n",
       "      <td>0.0</td>\n",
       "      <td>0.0</td>\n",
       "      <td>0.0</td>\n",
       "      <td>0.0</td>\n",
       "      <td>0.000000</td>\n",
       "      <td>0.0</td>\n",
       "      <td>0.0</td>\n",
       "    </tr>\n",
       "    <tr>\n",
       "      <th>3</th>\n",
       "      <td>0.25</td>\n",
       "      <td>0.0</td>\n",
       "      <td>0.0</td>\n",
       "      <td>0.0</td>\n",
       "      <td>0.0</td>\n",
       "      <td>0.0</td>\n",
       "      <td>0.0</td>\n",
       "      <td>0.0</td>\n",
       "      <td>0.0</td>\n",
       "      <td>0.0</td>\n",
       "      <td>...</td>\n",
       "      <td>0.0</td>\n",
       "      <td>0.0</td>\n",
       "      <td>0.0</td>\n",
       "      <td>0.0</td>\n",
       "      <td>0.0</td>\n",
       "      <td>0.0</td>\n",
       "      <td>0.0</td>\n",
       "      <td>0.111111</td>\n",
       "      <td>0.0</td>\n",
       "      <td>0.0</td>\n",
       "    </tr>\n",
       "    <tr>\n",
       "      <th>4</th>\n",
       "      <td>0.00</td>\n",
       "      <td>0.0</td>\n",
       "      <td>0.0</td>\n",
       "      <td>0.0</td>\n",
       "      <td>0.0</td>\n",
       "      <td>0.0</td>\n",
       "      <td>0.0</td>\n",
       "      <td>0.0</td>\n",
       "      <td>0.0</td>\n",
       "      <td>0.0</td>\n",
       "      <td>...</td>\n",
       "      <td>0.0</td>\n",
       "      <td>0.0</td>\n",
       "      <td>0.0</td>\n",
       "      <td>0.0</td>\n",
       "      <td>0.0</td>\n",
       "      <td>0.0</td>\n",
       "      <td>0.0</td>\n",
       "      <td>0.111111</td>\n",
       "      <td>0.0</td>\n",
       "      <td>0.0</td>\n",
       "    </tr>\n",
       "  </tbody>\n",
       "</table>\n",
       "<p>5 rows × 800 columns</p>\n",
       "</div>"
      ],
      "text/plain": [
       "   able  abroad  absolute  absolutely  academic  acceptable  accountable  \\\n",
       "0  0.00     0.0       0.0         0.0       0.0         0.0          0.0   \n",
       "1  0.00     0.0       0.0         0.0       0.0         0.0          0.0   \n",
       "2  0.00     0.0       0.0         0.0       0.0         0.0          0.0   \n",
       "3  0.25     0.0       0.0         0.0       0.0         0.0          0.0   \n",
       "4  0.00     0.0       0.0         0.0       0.0         0.0          0.0   \n",
       "\n",
       "   accurate  active  actively  ...  worse  worst  worth  wrong  yearold  \\\n",
       "0       0.0     0.0       0.0  ...    0.0    0.0    0.0    0.0      0.0   \n",
       "1       0.0     0.0       0.0  ...    0.0    0.0    0.0    0.0      0.0   \n",
       "2       0.0     0.0       0.0  ...    0.0    0.0    0.0    0.0      0.0   \n",
       "3       0.0     0.0       0.0  ...    0.0    0.0    0.0    0.0      0.0   \n",
       "4       0.0     0.0       0.0  ...    0.0    0.0    0.0    0.0      0.0   \n",
       "\n",
       "   yellow  yemeni       yet  young  younger  \n",
       "0     0.0     0.0  0.000000    0.0      0.0  \n",
       "1     0.0     0.0  0.000000    0.0      0.0  \n",
       "2     0.0     0.0  0.000000    0.0      0.0  \n",
       "3     0.0     0.0  0.111111    0.0      0.0  \n",
       "4     0.0     0.0  0.111111    0.0      0.0  \n",
       "\n",
       "[5 rows x 800 columns]"
      ]
     },
     "execution_count": 28,
     "metadata": {},
     "output_type": "execute_result"
    }
   ],
   "source": [
    "X.head()"
   ]
  },
  {
   "cell_type": "code",
   "execution_count": 29,
   "metadata": {},
   "outputs": [],
   "source": [
    "X_train, X_test, y_train, y_test = train_test_split(X, y, random_state=1)"
   ]
  },
  {
   "cell_type": "markdown",
   "metadata": {},
   "source": [
    "## Linear Regression"
   ]
  },
  {
   "cell_type": "code",
   "execution_count": 30,
   "metadata": {},
   "outputs": [
    {
     "name": "stdout",
     "output_type": "stream",
     "text": [
      "0.10553457744430103\n"
     ]
    }
   ],
   "source": [
    "# Defining Model\n",
    "regressor = LinearRegression()\n",
    "# Training Model\n",
    "regressor.fit(X_train, y_train)\n",
    "# Making Predictions\n",
    "y_pred = regressor.predict(X_test)\n",
    "# Evaluating\n",
    "print(stats.pearsonr(y_pred, y_test)[0])"
   ]
  },
  {
   "cell_type": "markdown",
   "metadata": {},
   "source": [
    "## Lasso Regression"
   ]
  },
  {
   "cell_type": "code",
   "execution_count": 31,
   "metadata": {},
   "outputs": [
    {
     "name": "stdout",
     "output_type": "stream",
     "text": [
      "Number of coefficients:  23\n",
      "Pearson coefficient:  0.2418387989696557\n"
     ]
    }
   ],
   "source": [
    "# Defining Model\n",
    "lasso = LassoCV(cv=5,\n",
    "                alphas=np.logspace(-4,1,110),\n",
    "                max_iter=10000,\n",
    "                normalize=True)\n",
    "# Training Model\n",
    "lasso.fit(X_train, y_train)\n",
    "# Number of features selected\n",
    "coeffs = lasso.coef_!=0\n",
    "coeff_used = np.sum(coeffs)\n",
    "print('Number of coefficients: ', coeff_used)\n",
    "\n",
    "# Fitting regressor\n",
    "regressor.fit(X_train.loc[:, coeffs], y_train)\n",
    "# Making predictions\n",
    "y_pred = regressor.predict(X_test.loc[:, coeffs])\n",
    "# Evaluating\n",
    "score = stats.pearsonr(y_pred, y_test)[0]\n",
    "print('Pearson coefficient: ', score)"
   ]
  },
  {
   "cell_type": "code",
   "execution_count": 32,
   "metadata": {},
   "outputs": [
    {
     "data": {
      "text/plain": [
       "Index(['alive', 'antisemitic', 'civil', 'conservative', 'corporate', 'correct',\n",
       "       'creative', 'gross', 'healthy', 'illegal', 'indeed', 'international',\n",
       "       'liberal', 'longstanding', 'much', 'obviously', 'organized', 'oval',\n",
       "       'republican', 'semiautomatic', 'sure', 'undocumented', 'unpopular'],\n",
       "      dtype='object')"
      ]
     },
     "execution_count": 32,
     "metadata": {},
     "output_type": "execute_result"
    }
   ],
   "source": [
    "X_test.loc[:, coeffs].columns"
   ]
  },
  {
   "cell_type": "code",
   "execution_count": null,
   "metadata": {},
   "outputs": [],
   "source": []
  },
  {
   "cell_type": "code",
   "execution_count": null,
   "metadata": {},
   "outputs": [],
   "source": [
    "## NOTES: \n",
    "# Filtering for ADJ/ADV made model worse"
   ]
  }
 ],
 "metadata": {
  "kernelspec": {
   "display_name": "Python 3",
   "language": "python",
   "name": "python3"
  },
  "language_info": {
   "codemirror_mode": {
    "name": "ipython",
    "version": 3
   },
   "file_extension": ".py",
   "mimetype": "text/x-python",
   "name": "python",
   "nbconvert_exporter": "python",
   "pygments_lexer": "ipython3",
   "version": "3.7.3"
  }
 },
 "nbformat": 4,
 "nbformat_minor": 2
}
