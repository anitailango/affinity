{
 "cells": [
  {
   "cell_type": "markdown",
   "metadata": {},
   "source": [
    "# Workflow:\n",
    "1. Randomly Sample 200 articles for each outlet, and concatenate to a dataframe\n",
    "2. Label each outlet with the associated outlet_labels and merge\n",
    "3. Get the average bias score from reference_df for each outlet and merge with data\n",
    "4. Compare outlet_labels and bias scores in order to determine left/right bias\n",
    "5. Start preprocessing and model building\n",
    "6. Account for class-imbalance and feature selection\n",
    "\n",
    "### Notes:\n",
    "- outlet_labels are based on mediabiasfactcheck.com\n",
    "- reference_df is based on adfontesmedia.com\n",
    "- df is based on kaggle.com/snapcrack/all-the-news"
   ]
  },
  {
   "cell_type": "markdown",
   "metadata": {},
   "source": [
    "# Data importing and creation"
   ]
  },
  {
   "cell_type": "code",
   "execution_count": 1,
   "metadata": {},
   "outputs": [],
   "source": [
    "import numpy as np\n",
    "import pandas as pd"
   ]
  },
  {
   "cell_type": "code",
   "execution_count": 3,
   "metadata": {},
   "outputs": [],
   "source": [
    "df1 = pd.read_csv(\"../data/articles1.csv\")\n",
    "df2 = pd.read_csv(\"../data/articles2.csv\")\n",
    "df3 = pd.read_csv(\"../data/articles3.csv\")\n",
    "df = pd.concat([df1, df2, df3])\n",
    "\n",
    "reference_df = pd.read_csv(\"../data/Interactive Media Bias Chart - Ad Fontes Media.csv\")"
   ]
  },
  {
   "cell_type": "code",
   "execution_count": 4,
   "metadata": {},
   "outputs": [
    {
     "data": {
      "text/html": [
       "<div>\n",
       "<style scoped>\n",
       "    .dataframe tbody tr th:only-of-type {\n",
       "        vertical-align: middle;\n",
       "    }\n",
       "\n",
       "    .dataframe tbody tr th {\n",
       "        vertical-align: top;\n",
       "    }\n",
       "\n",
       "    .dataframe thead th {\n",
       "        text-align: right;\n",
       "    }\n",
       "</style>\n",
       "<table border=\"1\" class=\"dataframe\">\n",
       "  <thead>\n",
       "    <tr style=\"text-align: right;\">\n",
       "      <th></th>\n",
       "      <th>Unnamed: 0</th>\n",
       "      <th>id</th>\n",
       "      <th>title</th>\n",
       "      <th>publication</th>\n",
       "      <th>author</th>\n",
       "      <th>date</th>\n",
       "      <th>year</th>\n",
       "      <th>month</th>\n",
       "      <th>url</th>\n",
       "      <th>content</th>\n",
       "    </tr>\n",
       "  </thead>\n",
       "  <tbody>\n",
       "    <tr>\n",
       "      <th>0</th>\n",
       "      <td>0</td>\n",
       "      <td>17283</td>\n",
       "      <td>House Republicans Fret About Winning Their Hea...</td>\n",
       "      <td>New York Times</td>\n",
       "      <td>Carl Hulse</td>\n",
       "      <td>2016-12-31</td>\n",
       "      <td>2016.0</td>\n",
       "      <td>12.0</td>\n",
       "      <td>NaN</td>\n",
       "      <td>WASHINGTON  —   Congressional Republicans have...</td>\n",
       "    </tr>\n",
       "    <tr>\n",
       "      <th>1</th>\n",
       "      <td>1</td>\n",
       "      <td>17284</td>\n",
       "      <td>Rift Between Officers and Residents as Killing...</td>\n",
       "      <td>New York Times</td>\n",
       "      <td>Benjamin Mueller and Al Baker</td>\n",
       "      <td>2017-06-19</td>\n",
       "      <td>2017.0</td>\n",
       "      <td>6.0</td>\n",
       "      <td>NaN</td>\n",
       "      <td>After the bullet shells get counted, the blood...</td>\n",
       "    </tr>\n",
       "    <tr>\n",
       "      <th>2</th>\n",
       "      <td>2</td>\n",
       "      <td>17285</td>\n",
       "      <td>Tyrus Wong, ‘Bambi’ Artist Thwarted by Racial ...</td>\n",
       "      <td>New York Times</td>\n",
       "      <td>Margalit Fox</td>\n",
       "      <td>2017-01-06</td>\n",
       "      <td>2017.0</td>\n",
       "      <td>1.0</td>\n",
       "      <td>NaN</td>\n",
       "      <td>When Walt Disney’s “Bambi” opened in 1942, cri...</td>\n",
       "    </tr>\n",
       "    <tr>\n",
       "      <th>3</th>\n",
       "      <td>3</td>\n",
       "      <td>17286</td>\n",
       "      <td>Among Deaths in 2016, a Heavy Toll in Pop Musi...</td>\n",
       "      <td>New York Times</td>\n",
       "      <td>William McDonald</td>\n",
       "      <td>2017-04-10</td>\n",
       "      <td>2017.0</td>\n",
       "      <td>4.0</td>\n",
       "      <td>NaN</td>\n",
       "      <td>Death may be the great equalizer, but it isn’t...</td>\n",
       "    </tr>\n",
       "    <tr>\n",
       "      <th>4</th>\n",
       "      <td>4</td>\n",
       "      <td>17287</td>\n",
       "      <td>Kim Jong-un Says North Korea Is Preparing to T...</td>\n",
       "      <td>New York Times</td>\n",
       "      <td>Choe Sang-Hun</td>\n",
       "      <td>2017-01-02</td>\n",
       "      <td>2017.0</td>\n",
       "      <td>1.0</td>\n",
       "      <td>NaN</td>\n",
       "      <td>SEOUL, South Korea  —   North Korea’s leader, ...</td>\n",
       "    </tr>\n",
       "  </tbody>\n",
       "</table>\n",
       "</div>"
      ],
      "text/plain": [
       "   Unnamed: 0     id                                              title  \\\n",
       "0           0  17283  House Republicans Fret About Winning Their Hea...   \n",
       "1           1  17284  Rift Between Officers and Residents as Killing...   \n",
       "2           2  17285  Tyrus Wong, ‘Bambi’ Artist Thwarted by Racial ...   \n",
       "3           3  17286  Among Deaths in 2016, a Heavy Toll in Pop Musi...   \n",
       "4           4  17287  Kim Jong-un Says North Korea Is Preparing to T...   \n",
       "\n",
       "      publication                         author        date    year  month  \\\n",
       "0  New York Times                     Carl Hulse  2016-12-31  2016.0   12.0   \n",
       "1  New York Times  Benjamin Mueller and Al Baker  2017-06-19  2017.0    6.0   \n",
       "2  New York Times                   Margalit Fox  2017-01-06  2017.0    1.0   \n",
       "3  New York Times               William McDonald  2017-04-10  2017.0    4.0   \n",
       "4  New York Times                  Choe Sang-Hun  2017-01-02  2017.0    1.0   \n",
       "\n",
       "   url                                            content  \n",
       "0  NaN  WASHINGTON  —   Congressional Republicans have...  \n",
       "1  NaN  After the bullet shells get counted, the blood...  \n",
       "2  NaN  When Walt Disney’s “Bambi” opened in 1942, cri...  \n",
       "3  NaN  Death may be the great equalizer, but it isn’t...  \n",
       "4  NaN  SEOUL, South Korea  —   North Korea’s leader, ...  "
      ]
     },
     "execution_count": 4,
     "metadata": {},
     "output_type": "execute_result"
    }
   ],
   "source": [
    "df.head()"
   ]
  },
  {
   "cell_type": "code",
   "execution_count": 5,
   "metadata": {},
   "outputs": [],
   "source": [
    "# Getting unique outlets\n",
    "outlets = sorted(df['publication'].unique())"
   ]
  },
  {
   "cell_type": "code",
   "execution_count": 6,
   "metadata": {},
   "outputs": [
    {
     "data": {
      "text/plain": [
       "['Atlantic',\n",
       " 'Breitbart',\n",
       " 'Business Insider',\n",
       " 'Buzzfeed News',\n",
       " 'CNN',\n",
       " 'Fox News',\n",
       " 'Guardian',\n",
       " 'NPR',\n",
       " 'National Review',\n",
       " 'New York Post',\n",
       " 'New York Times',\n",
       " 'Reuters',\n",
       " 'Talking Points Memo',\n",
       " 'Vox',\n",
       " 'Washington Post']"
      ]
     },
     "execution_count": 6,
     "metadata": {},
     "output_type": "execute_result"
    }
   ],
   "source": [
    "outlets"
   ]
  },
  {
   "cell_type": "code",
   "execution_count": 7,
   "metadata": {},
   "outputs": [],
   "source": [
    "# Extreme Left, Left, Left-Center, Center, Right-Center, Right, Extreme Right\n",
    "outlet_labels = ['Left-Center', 'Extreme Right', 'Left-Center', 'Left-Center', 'Left', 'Right', 'Left-Center', 'Left-Center',\n",
    "               'Right', 'Right-Center', 'Left-Center', 'Center', 'Left', 'Left', 'Left-Center']\n",
    "\n",
    "outlet_df = pd.DataFrame({'outlet': outlets, \n",
    "                          'label':outlet_labels})"
   ]
  },
  {
   "cell_type": "code",
   "execution_count": 8,
   "metadata": {},
   "outputs": [
    {
     "data": {
      "text/html": [
       "<div>\n",
       "<style scoped>\n",
       "    .dataframe tbody tr th:only-of-type {\n",
       "        vertical-align: middle;\n",
       "    }\n",
       "\n",
       "    .dataframe tbody tr th {\n",
       "        vertical-align: top;\n",
       "    }\n",
       "\n",
       "    .dataframe thead th {\n",
       "        text-align: right;\n",
       "    }\n",
       "</style>\n",
       "<table border=\"1\" class=\"dataframe\">\n",
       "  <thead>\n",
       "    <tr style=\"text-align: right;\">\n",
       "      <th></th>\n",
       "      <th>outlet</th>\n",
       "      <th>label</th>\n",
       "    </tr>\n",
       "  </thead>\n",
       "  <tbody>\n",
       "    <tr>\n",
       "      <th>0</th>\n",
       "      <td>Atlantic</td>\n",
       "      <td>Left-Center</td>\n",
       "    </tr>\n",
       "    <tr>\n",
       "      <th>1</th>\n",
       "      <td>Breitbart</td>\n",
       "      <td>Extreme Right</td>\n",
       "    </tr>\n",
       "    <tr>\n",
       "      <th>2</th>\n",
       "      <td>Business Insider</td>\n",
       "      <td>Left-Center</td>\n",
       "    </tr>\n",
       "    <tr>\n",
       "      <th>3</th>\n",
       "      <td>Buzzfeed News</td>\n",
       "      <td>Left-Center</td>\n",
       "    </tr>\n",
       "    <tr>\n",
       "      <th>4</th>\n",
       "      <td>CNN</td>\n",
       "      <td>Left</td>\n",
       "    </tr>\n",
       "  </tbody>\n",
       "</table>\n",
       "</div>"
      ],
      "text/plain": [
       "             outlet          label\n",
       "0          Atlantic    Left-Center\n",
       "1         Breitbart  Extreme Right\n",
       "2  Business Insider    Left-Center\n",
       "3     Buzzfeed News    Left-Center\n",
       "4               CNN           Left"
      ]
     },
     "execution_count": 8,
     "metadata": {},
     "output_type": "execute_result"
    }
   ],
   "source": [
    "outlet_df.head()"
   ]
  },
  {
   "cell_type": "code",
   "execution_count": 9,
   "metadata": {},
   "outputs": [
    {
     "data": {
      "text/html": [
       "<div>\n",
       "<style scoped>\n",
       "    .dataframe tbody tr th:only-of-type {\n",
       "        vertical-align: middle;\n",
       "    }\n",
       "\n",
       "    .dataframe tbody tr th {\n",
       "        vertical-align: top;\n",
       "    }\n",
       "\n",
       "    .dataframe thead th {\n",
       "        text-align: right;\n",
       "    }\n",
       "</style>\n",
       "<table border=\"1\" class=\"dataframe\">\n",
       "  <thead>\n",
       "    <tr style=\"text-align: right;\">\n",
       "      <th></th>\n",
       "      <th>Source</th>\n",
       "      <th>Url</th>\n",
       "      <th>Bias</th>\n",
       "      <th>Quality</th>\n",
       "    </tr>\n",
       "  </thead>\n",
       "  <tbody>\n",
       "    <tr>\n",
       "      <th>0</th>\n",
       "      <td>ABC</td>\n",
       "      <td>https://abcnews.go.com/Politics/us-disrupted-a...</td>\n",
       "      <td>-5.33</td>\n",
       "      <td>52.33</td>\n",
       "    </tr>\n",
       "    <tr>\n",
       "      <th>1</th>\n",
       "      <td>ABC</td>\n",
       "      <td>https://abcnews.go.com/Politics/appeals-court-...</td>\n",
       "      <td>0.67</td>\n",
       "      <td>51.67</td>\n",
       "    </tr>\n",
       "    <tr>\n",
       "      <th>2</th>\n",
       "      <td>ABC</td>\n",
       "      <td>https://abcnews.go.com/Politics/electoral-coll...</td>\n",
       "      <td>-10.00</td>\n",
       "      <td>32.00</td>\n",
       "    </tr>\n",
       "    <tr>\n",
       "      <th>3</th>\n",
       "      <td>ABC</td>\n",
       "      <td>https://abcnews.go.com/Politics/facebook-agree...</td>\n",
       "      <td>-2.33</td>\n",
       "      <td>52.33</td>\n",
       "    </tr>\n",
       "    <tr>\n",
       "      <th>4</th>\n",
       "      <td>ABC</td>\n",
       "      <td>https://abcnews.go.com/Politics/donald-trump-t...</td>\n",
       "      <td>-4.33</td>\n",
       "      <td>52.67</td>\n",
       "    </tr>\n",
       "  </tbody>\n",
       "</table>\n",
       "</div>"
      ],
      "text/plain": [
       "  Source                                                Url   Bias  Quality\n",
       "0    ABC  https://abcnews.go.com/Politics/us-disrupted-a...  -5.33    52.33\n",
       "1    ABC  https://abcnews.go.com/Politics/appeals-court-...   0.67    51.67\n",
       "2    ABC  https://abcnews.go.com/Politics/electoral-coll... -10.00    32.00\n",
       "3    ABC  https://abcnews.go.com/Politics/facebook-agree...  -2.33    52.33\n",
       "4    ABC  https://abcnews.go.com/Politics/donald-trump-t...  -4.33    52.67"
      ]
     },
     "execution_count": 9,
     "metadata": {},
     "output_type": "execute_result"
    }
   ],
   "source": [
    "# A negative bias is Left Leaning, a positive bias is Right Leaning\n",
    "reference_df.head()"
   ]
  },
  {
   "cell_type": "code",
   "execution_count": 10,
   "metadata": {},
   "outputs": [
    {
     "name": "stdout",
     "output_type": "stream",
     "text": [
      "<class 'pandas.core.frame.DataFrame'>\n",
      "RangeIndex: 1916 entries, 0 to 1915\n",
      "Data columns (total 4 columns):\n",
      "Source     1916 non-null object\n",
      "Url        1916 non-null object\n",
      "Bias       1916 non-null float64\n",
      "Quality    1916 non-null float64\n",
      "dtypes: float64(2), object(2)\n",
      "memory usage: 60.0+ KB\n"
     ]
    }
   ],
   "source": [
    "reference_df.info()"
   ]
  },
  {
   "cell_type": "markdown",
   "metadata": {},
   "source": [
    "# Preprocessing\n",
    "##### We have 3 dataframes:\n",
    "1. df -> main data, with articles and features\n",
    "2. outlet_df -> political labels for each outlet\n",
    "3. reference_df -> political bias scores for each article from each outlet"
   ]
  },
  {
   "cell_type": "markdown",
   "metadata": {},
   "source": [
    "### Processing reference_df to get the average bias score per outlet"
   ]
  },
  {
   "cell_type": "code",
   "execution_count": 11,
   "metadata": {},
   "outputs": [],
   "source": [
    "# Renaming entities in reference_df to match data\n",
    "reference_df['Source'].replace({'The Atlantic': 'Atlantic',\n",
    "                                'BuzzFeed': 'Buzzfeed News',\n",
    "                                'The Guardian': 'Guardian', \n",
    "                                'National Public Radio': 'NPR'}, inplace=True)"
   ]
  },
  {
   "cell_type": "code",
   "execution_count": 12,
   "metadata": {},
   "outputs": [],
   "source": [
    "# Filtering to outlets present in data\n",
    "reference_df = reference_df[reference_df['Source'].isin(outlets)]"
   ]
  },
  {
   "cell_type": "code",
   "execution_count": 13,
   "metadata": {},
   "outputs": [],
   "source": [
    "# Getting mean bias score for each outlet\n",
    "reference_df = reference_df[['Source', 'Bias']].groupby('Source').mean()"
   ]
  },
  {
   "cell_type": "code",
   "execution_count": 14,
   "metadata": {},
   "outputs": [],
   "source": [
    "# Adding index and renaming\n",
    "reference_df.reset_index(level=0, inplace=True)\n",
    "reference_df.rename(columns={\"Source\": \"outlet\"}, inplace=True)"
   ]
  },
  {
   "cell_type": "code",
   "execution_count": 15,
   "metadata": {},
   "outputs": [
    {
     "data": {
      "text/html": [
       "<div>\n",
       "<style scoped>\n",
       "    .dataframe tbody tr th:only-of-type {\n",
       "        vertical-align: middle;\n",
       "    }\n",
       "\n",
       "    .dataframe tbody tr th {\n",
       "        vertical-align: top;\n",
       "    }\n",
       "\n",
       "    .dataframe thead th {\n",
       "        text-align: right;\n",
       "    }\n",
       "</style>\n",
       "<table border=\"1\" class=\"dataframe\">\n",
       "  <thead>\n",
       "    <tr style=\"text-align: right;\">\n",
       "      <th></th>\n",
       "      <th>outlet</th>\n",
       "      <th>Bias</th>\n",
       "    </tr>\n",
       "  </thead>\n",
       "  <tbody>\n",
       "    <tr>\n",
       "      <th>0</th>\n",
       "      <td>Atlantic</td>\n",
       "      <td>-6.410714</td>\n",
       "    </tr>\n",
       "    <tr>\n",
       "      <th>1</th>\n",
       "      <td>Breitbart</td>\n",
       "      <td>18.987857</td>\n",
       "    </tr>\n",
       "    <tr>\n",
       "      <th>2</th>\n",
       "      <td>Business Insider</td>\n",
       "      <td>-0.378000</td>\n",
       "    </tr>\n",
       "    <tr>\n",
       "      <th>3</th>\n",
       "      <td>Buzzfeed News</td>\n",
       "      <td>-7.061333</td>\n",
       "    </tr>\n",
       "    <tr>\n",
       "      <th>4</th>\n",
       "      <td>CNN</td>\n",
       "      <td>-8.553827</td>\n",
       "    </tr>\n",
       "  </tbody>\n",
       "</table>\n",
       "</div>"
      ],
      "text/plain": [
       "             outlet       Bias\n",
       "0          Atlantic  -6.410714\n",
       "1         Breitbart  18.987857\n",
       "2  Business Insider  -0.378000\n",
       "3     Buzzfeed News  -7.061333\n",
       "4               CNN  -8.553827"
      ]
     },
     "execution_count": 15,
     "metadata": {},
     "output_type": "execute_result"
    }
   ],
   "source": [
    "reference_df.head()"
   ]
  },
  {
   "cell_type": "markdown",
   "metadata": {},
   "source": [
    "### Sampling 200 articles from each outlet and concatenating to dataframe"
   ]
  },
  {
   "cell_type": "code",
   "execution_count": 16,
   "metadata": {},
   "outputs": [],
   "source": [
    "df_list = []\n",
    "for outlet in outlets:\n",
    "    df_list.append(df[df['publication'] == outlet].sample(200))\n",
    "\n",
    "df_sample = pd.concat(df_list)"
   ]
  },
  {
   "cell_type": "code",
   "execution_count": 17,
   "metadata": {},
   "outputs": [],
   "source": [
    "# Dropping unused features\n",
    "df_sample.drop(columns=['Unnamed: 0', 'id', 'date', 'month', 'url'], inplace=True)"
   ]
  },
  {
   "cell_type": "code",
   "execution_count": 18,
   "metadata": {},
   "outputs": [
    {
     "data": {
      "text/html": [
       "<div>\n",
       "<style scoped>\n",
       "    .dataframe tbody tr th:only-of-type {\n",
       "        vertical-align: middle;\n",
       "    }\n",
       "\n",
       "    .dataframe tbody tr th {\n",
       "        vertical-align: top;\n",
       "    }\n",
       "\n",
       "    .dataframe thead th {\n",
       "        text-align: right;\n",
       "    }\n",
       "</style>\n",
       "<table border=\"1\" class=\"dataframe\">\n",
       "  <thead>\n",
       "    <tr style=\"text-align: right;\">\n",
       "      <th></th>\n",
       "      <th>title</th>\n",
       "      <th>publication</th>\n",
       "      <th>author</th>\n",
       "      <th>year</th>\n",
       "      <th>content</th>\n",
       "    </tr>\n",
       "  </thead>\n",
       "  <tbody>\n",
       "    <tr>\n",
       "      <th>3860</th>\n",
       "      <td>Can Trump TV Succeed?</td>\n",
       "      <td>Atlantic</td>\n",
       "      <td>Nora Kelly</td>\n",
       "      <td>2016.0</td>\n",
       "      <td>I want to receive updates from partners and...</td>\n",
       "    </tr>\n",
       "    <tr>\n",
       "      <th>3965</th>\n",
       "      <td>Europe’s Counterrevolution Has Begun</td>\n",
       "      <td>Atlantic</td>\n",
       "      <td>Uri Friedman</td>\n",
       "      <td>2016.0</td>\n",
       "      <td>I want to receive updates from partners and...</td>\n",
       "    </tr>\n",
       "    <tr>\n",
       "      <th>1539</th>\n",
       "      <td>Donald Trump, Inevitable Hawk</td>\n",
       "      <td>Atlantic</td>\n",
       "      <td>McKay Coppins</td>\n",
       "      <td>2017.0</td>\n",
       "      <td>That’s because, as with everything else, Trump...</td>\n",
       "    </tr>\n",
       "    <tr>\n",
       "      <th>5002</th>\n",
       "      <td>RuPaul’s Drag Race Claims Its Queer Cultural C...</td>\n",
       "      <td>Atlantic</td>\n",
       "      <td>Spencer Kornhaber</td>\n",
       "      <td>2016.0</td>\n",
       "      <td>For us to continue writing great stori...</td>\n",
       "    </tr>\n",
       "    <tr>\n",
       "      <th>3243</th>\n",
       "      <td>Hillary Clinton Has Enough Delegates to Claim ...</td>\n",
       "      <td>Atlantic</td>\n",
       "      <td>Nora Kelly</td>\n",
       "      <td>2016.0</td>\n",
       "      <td>I want to receive updates from partners and...</td>\n",
       "    </tr>\n",
       "  </tbody>\n",
       "</table>\n",
       "</div>"
      ],
      "text/plain": [
       "                                                  title publication  \\\n",
       "3860                              Can Trump TV Succeed?    Atlantic   \n",
       "3965               Europe’s Counterrevolution Has Begun    Atlantic   \n",
       "1539                      Donald Trump, Inevitable Hawk    Atlantic   \n",
       "5002  RuPaul’s Drag Race Claims Its Queer Cultural C...    Atlantic   \n",
       "3243  Hillary Clinton Has Enough Delegates to Claim ...    Atlantic   \n",
       "\n",
       "                 author    year  \\\n",
       "3860         Nora Kelly  2016.0   \n",
       "3965       Uri Friedman  2016.0   \n",
       "1539      McKay Coppins  2017.0   \n",
       "5002  Spencer Kornhaber  2016.0   \n",
       "3243         Nora Kelly  2016.0   \n",
       "\n",
       "                                                content  \n",
       "3860     I want to receive updates from partners and...  \n",
       "3965     I want to receive updates from partners and...  \n",
       "1539  That’s because, as with everything else, Trump...  \n",
       "5002          For us to continue writing great stori...  \n",
       "3243     I want to receive updates from partners and...  "
      ]
     },
     "execution_count": 18,
     "metadata": {},
     "output_type": "execute_result"
    }
   ],
   "source": [
    "df_sample.head()"
   ]
  },
  {
   "cell_type": "markdown",
   "metadata": {},
   "source": [
    "### Merging the 3 dataframes"
   ]
  },
  {
   "cell_type": "code",
   "execution_count": 19,
   "metadata": {},
   "outputs": [],
   "source": [
    "final_reference_df = reference_df.merge(outlet_df, on='outlet')"
   ]
  },
  {
   "cell_type": "code",
   "execution_count": 20,
   "metadata": {},
   "outputs": [
    {
     "data": {
      "text/html": [
       "<div>\n",
       "<style scoped>\n",
       "    .dataframe tbody tr th:only-of-type {\n",
       "        vertical-align: middle;\n",
       "    }\n",
       "\n",
       "    .dataframe tbody tr th {\n",
       "        vertical-align: top;\n",
       "    }\n",
       "\n",
       "    .dataframe thead th {\n",
       "        text-align: right;\n",
       "    }\n",
       "</style>\n",
       "<table border=\"1\" class=\"dataframe\">\n",
       "  <thead>\n",
       "    <tr style=\"text-align: right;\">\n",
       "      <th></th>\n",
       "      <th>outlet</th>\n",
       "      <th>Bias</th>\n",
       "      <th>label</th>\n",
       "    </tr>\n",
       "  </thead>\n",
       "  <tbody>\n",
       "    <tr>\n",
       "      <th>0</th>\n",
       "      <td>Atlantic</td>\n",
       "      <td>-6.410714</td>\n",
       "      <td>Left-Center</td>\n",
       "    </tr>\n",
       "    <tr>\n",
       "      <th>1</th>\n",
       "      <td>Breitbart</td>\n",
       "      <td>18.987857</td>\n",
       "      <td>Extreme Right</td>\n",
       "    </tr>\n",
       "    <tr>\n",
       "      <th>2</th>\n",
       "      <td>Business Insider</td>\n",
       "      <td>-0.378000</td>\n",
       "      <td>Left-Center</td>\n",
       "    </tr>\n",
       "    <tr>\n",
       "      <th>3</th>\n",
       "      <td>Buzzfeed News</td>\n",
       "      <td>-7.061333</td>\n",
       "      <td>Left-Center</td>\n",
       "    </tr>\n",
       "    <tr>\n",
       "      <th>4</th>\n",
       "      <td>CNN</td>\n",
       "      <td>-8.553827</td>\n",
       "      <td>Left</td>\n",
       "    </tr>\n",
       "  </tbody>\n",
       "</table>\n",
       "</div>"
      ],
      "text/plain": [
       "             outlet       Bias          label\n",
       "0          Atlantic  -6.410714    Left-Center\n",
       "1         Breitbart  18.987857  Extreme Right\n",
       "2  Business Insider  -0.378000    Left-Center\n",
       "3     Buzzfeed News  -7.061333    Left-Center\n",
       "4               CNN  -8.553827           Left"
      ]
     },
     "execution_count": 20,
     "metadata": {},
     "output_type": "execute_result"
    }
   ],
   "source": [
    "final_reference_df.head()"
   ]
  },
  {
   "cell_type": "code",
   "execution_count": 21,
   "metadata": {},
   "outputs": [],
   "source": [
    "df_sample.rename(columns={\"publication\": \"outlet\"}, inplace=True)\n",
    "df_sample = df_sample.merge(final_reference_df, on='outlet')"
   ]
  },
  {
   "cell_type": "code",
   "execution_count": 22,
   "metadata": {},
   "outputs": [
    {
     "data": {
      "text/html": [
       "<div>\n",
       "<style scoped>\n",
       "    .dataframe tbody tr th:only-of-type {\n",
       "        vertical-align: middle;\n",
       "    }\n",
       "\n",
       "    .dataframe tbody tr th {\n",
       "        vertical-align: top;\n",
       "    }\n",
       "\n",
       "    .dataframe thead th {\n",
       "        text-align: right;\n",
       "    }\n",
       "</style>\n",
       "<table border=\"1\" class=\"dataframe\">\n",
       "  <thead>\n",
       "    <tr style=\"text-align: right;\">\n",
       "      <th></th>\n",
       "      <th>title</th>\n",
       "      <th>outlet</th>\n",
       "      <th>author</th>\n",
       "      <th>year</th>\n",
       "      <th>content</th>\n",
       "      <th>Bias</th>\n",
       "      <th>label</th>\n",
       "    </tr>\n",
       "  </thead>\n",
       "  <tbody>\n",
       "    <tr>\n",
       "      <th>0</th>\n",
       "      <td>Can Trump TV Succeed?</td>\n",
       "      <td>Atlantic</td>\n",
       "      <td>Nora Kelly</td>\n",
       "      <td>2016.0</td>\n",
       "      <td>I want to receive updates from partners and...</td>\n",
       "      <td>-6.410714</td>\n",
       "      <td>Left-Center</td>\n",
       "    </tr>\n",
       "    <tr>\n",
       "      <th>1</th>\n",
       "      <td>Europe’s Counterrevolution Has Begun</td>\n",
       "      <td>Atlantic</td>\n",
       "      <td>Uri Friedman</td>\n",
       "      <td>2016.0</td>\n",
       "      <td>I want to receive updates from partners and...</td>\n",
       "      <td>-6.410714</td>\n",
       "      <td>Left-Center</td>\n",
       "    </tr>\n",
       "    <tr>\n",
       "      <th>2</th>\n",
       "      <td>Donald Trump, Inevitable Hawk</td>\n",
       "      <td>Atlantic</td>\n",
       "      <td>McKay Coppins</td>\n",
       "      <td>2017.0</td>\n",
       "      <td>That’s because, as with everything else, Trump...</td>\n",
       "      <td>-6.410714</td>\n",
       "      <td>Left-Center</td>\n",
       "    </tr>\n",
       "    <tr>\n",
       "      <th>3</th>\n",
       "      <td>RuPaul’s Drag Race Claims Its Queer Cultural C...</td>\n",
       "      <td>Atlantic</td>\n",
       "      <td>Spencer Kornhaber</td>\n",
       "      <td>2016.0</td>\n",
       "      <td>For us to continue writing great stori...</td>\n",
       "      <td>-6.410714</td>\n",
       "      <td>Left-Center</td>\n",
       "    </tr>\n",
       "    <tr>\n",
       "      <th>4</th>\n",
       "      <td>Hillary Clinton Has Enough Delegates to Claim ...</td>\n",
       "      <td>Atlantic</td>\n",
       "      <td>Nora Kelly</td>\n",
       "      <td>2016.0</td>\n",
       "      <td>I want to receive updates from partners and...</td>\n",
       "      <td>-6.410714</td>\n",
       "      <td>Left-Center</td>\n",
       "    </tr>\n",
       "    <tr>\n",
       "      <th>5</th>\n",
       "      <td>From Special Education to Suspicious Science: ...</td>\n",
       "      <td>Atlantic</td>\n",
       "      <td>Hayley Glatter</td>\n",
       "      <td>2017.0</td>\n",
       "      <td>Dale Russakoff | The New York Times Magazine, ...</td>\n",
       "      <td>-6.410714</td>\n",
       "      <td>Left-Center</td>\n",
       "    </tr>\n",
       "    <tr>\n",
       "      <th>6</th>\n",
       "      <td>The End of a Political Revolution</td>\n",
       "      <td>Atlantic</td>\n",
       "      <td>Clare Foran</td>\n",
       "      <td>2016.0</td>\n",
       "      <td>, I want to receive updates from partners and ...</td>\n",
       "      <td>-6.410714</td>\n",
       "      <td>Left-Center</td>\n",
       "    </tr>\n",
       "    <tr>\n",
       "      <th>7</th>\n",
       "      <td>’There’s Enough Time to Change Everything’</td>\n",
       "      <td>Atlantic</td>\n",
       "      <td>Conor Friedersdorf</td>\n",
       "      <td>2017.0</td>\n",
       "      <td>It is hard to imagine a more misleading treatm...</td>\n",
       "      <td>-6.410714</td>\n",
       "      <td>Left-Center</td>\n",
       "    </tr>\n",
       "    <tr>\n",
       "      <th>8</th>\n",
       "      <td>Avenging a One-Star Review With Digital Sabotage</td>\n",
       "      <td>Atlantic</td>\n",
       "      <td>Kaveh Waddell</td>\n",
       "      <td>2017.0</td>\n",
       "      <td>On Saturday, an unhappy customer vented onli...</td>\n",
       "      <td>-6.410714</td>\n",
       "      <td>Left-Center</td>\n",
       "    </tr>\n",
       "    <tr>\n",
       "      <th>9</th>\n",
       "      <td>The Radical Anti-Conservatism of Stephen Bannon</td>\n",
       "      <td>Atlantic</td>\n",
       "      <td>Conor Friedersdorf</td>\n",
       "      <td>2016.0</td>\n",
       "      <td>For us to continue writing great stori...</td>\n",
       "      <td>-6.410714</td>\n",
       "      <td>Left-Center</td>\n",
       "    </tr>\n",
       "  </tbody>\n",
       "</table>\n",
       "</div>"
      ],
      "text/plain": [
       "                                               title    outlet  \\\n",
       "0                              Can Trump TV Succeed?  Atlantic   \n",
       "1               Europe’s Counterrevolution Has Begun  Atlantic   \n",
       "2                      Donald Trump, Inevitable Hawk  Atlantic   \n",
       "3  RuPaul’s Drag Race Claims Its Queer Cultural C...  Atlantic   \n",
       "4  Hillary Clinton Has Enough Delegates to Claim ...  Atlantic   \n",
       "5  From Special Education to Suspicious Science: ...  Atlantic   \n",
       "6                 The End of a Political Revolution   Atlantic   \n",
       "7         ’There’s Enough Time to Change Everything’  Atlantic   \n",
       "8   Avenging a One-Star Review With Digital Sabotage  Atlantic   \n",
       "9    The Radical Anti-Conservatism of Stephen Bannon  Atlantic   \n",
       "\n",
       "               author    year  \\\n",
       "0          Nora Kelly  2016.0   \n",
       "1        Uri Friedman  2016.0   \n",
       "2       McKay Coppins  2017.0   \n",
       "3   Spencer Kornhaber  2016.0   \n",
       "4          Nora Kelly  2016.0   \n",
       "5      Hayley Glatter  2017.0   \n",
       "6         Clare Foran  2016.0   \n",
       "7  Conor Friedersdorf  2017.0   \n",
       "8       Kaveh Waddell  2017.0   \n",
       "9  Conor Friedersdorf  2016.0   \n",
       "\n",
       "                                             content      Bias        label  \n",
       "0     I want to receive updates from partners and... -6.410714  Left-Center  \n",
       "1     I want to receive updates from partners and... -6.410714  Left-Center  \n",
       "2  That’s because, as with everything else, Trump... -6.410714  Left-Center  \n",
       "3          For us to continue writing great stori... -6.410714  Left-Center  \n",
       "4     I want to receive updates from partners and... -6.410714  Left-Center  \n",
       "5  Dale Russakoff | The New York Times Magazine, ... -6.410714  Left-Center  \n",
       "6  , I want to receive updates from partners and ... -6.410714  Left-Center  \n",
       "7  It is hard to imagine a more misleading treatm... -6.410714  Left-Center  \n",
       "8    On Saturday, an unhappy customer vented onli... -6.410714  Left-Center  \n",
       "9          For us to continue writing great stori... -6.410714  Left-Center  "
      ]
     },
     "execution_count": 22,
     "metadata": {},
     "output_type": "execute_result"
    }
   ],
   "source": [
    "df_sample.head(10)"
   ]
  },
  {
   "cell_type": "code",
   "execution_count": 24,
   "metadata": {},
   "outputs": [],
   "source": [
    "df_sample.to_csv('../outlet_data.csv')"
   ]
  },
  {
   "cell_type": "code",
   "execution_count": null,
   "metadata": {},
   "outputs": [],
   "source": []
  }
 ],
 "metadata": {
  "kernelspec": {
   "display_name": "Python 3",
   "language": "python",
   "name": "python3"
  },
  "language_info": {
   "codemirror_mode": {
    "name": "ipython",
    "version": 3
   },
   "file_extension": ".py",
   "mimetype": "text/x-python",
   "name": "python",
   "nbconvert_exporter": "python",
   "pygments_lexer": "ipython3",
   "version": "3.7.3"
  }
 },
 "nbformat": 4,
 "nbformat_minor": 2
}
