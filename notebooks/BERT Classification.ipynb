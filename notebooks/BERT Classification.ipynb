{
 "cells": [
  {
   "cell_type": "code",
   "execution_count": 217,
   "metadata": {},
   "outputs": [
    {
     "name": "stderr",
     "output_type": "stream",
     "text": [
      "UsageError: Line magic function `%tensorflow_version` not found.\n"
     ]
    }
   ],
   "source": [
    "import numpy as np\n",
    "import pandas as pd\n",
    "import matplotlib.pyplot as plt\n",
    "import tensorflow as tf\n",
    "import bert\n",
    "import math\n",
    "from bert import tokenization\n",
    "import tensorflow_hub as hub\n",
    "from tensorflow.keras import layers\n",
    "import sentencepiece\n",
    "import random\n",
    "\n",
    "from sklearn.feature_extraction.text import CountVectorizer\n",
    "\n",
    "from sklearn.naive_bayes import GaussianNB\n",
    "from sklearn.naive_bayes import MultinomialNB\n",
    "from sklearn.model_selection import train_test_split\n",
    "from sklearn.preprocessing import MinMaxScaler\n",
    "\n",
    "from scipy import stats\n",
    "from sklearn.metrics import accuracy_score\n",
    "from sklearn.metrics import auc, roc_curve\n",
    "from sklearn.metrics import f1_score, classification_report\n",
    "from sklearn.ensemble import VotingClassifier\n",
    "%tensorflow_version 2.x"
   ]
  },
  {
   "cell_type": "markdown",
   "metadata": {},
   "source": [
    "# Getting the data"
   ]
  },
  {
   "cell_type": "code",
   "execution_count": 3,
   "metadata": {},
   "outputs": [
    {
     "data": {
      "text/html": [
       "<div>\n",
       "<style scoped>\n",
       "    .dataframe tbody tr th:only-of-type {\n",
       "        vertical-align: middle;\n",
       "    }\n",
       "\n",
       "    .dataframe tbody tr th {\n",
       "        vertical-align: top;\n",
       "    }\n",
       "\n",
       "    .dataframe thead th {\n",
       "        text-align: right;\n",
       "    }\n",
       "</style>\n",
       "<table border=\"1\" class=\"dataframe\">\n",
       "  <thead>\n",
       "    <tr style=\"text-align: right;\">\n",
       "      <th></th>\n",
       "      <th>Body</th>\n",
       "      <th>Bias</th>\n",
       "      <th>cleaned_body</th>\n",
       "    </tr>\n",
       "  </thead>\n",
       "  <tbody>\n",
       "    <tr>\n",
       "      <td>0</td>\n",
       "      <td>Abortion rights advocates have asked the U.S. ...</td>\n",
       "      <td>1.67</td>\n",
       "      <td>abortion right advocate asked u supreme court ...</td>\n",
       "    </tr>\n",
       "    <tr>\n",
       "      <td>1</td>\n",
       "      <td>A federal appeals court rejected the most dire...</td>\n",
       "      <td>0.67</td>\n",
       "      <td>federal appeal court rejected direct constitut...</td>\n",
       "    </tr>\n",
       "    <tr>\n",
       "      <td>2</td>\n",
       "      <td>As part of the Trump administration's effort t...</td>\n",
       "      <td>-2.75</td>\n",
       "      <td>part trump administration effort slow migrant ...</td>\n",
       "    </tr>\n",
       "    <tr>\n",
       "      <td>3</td>\n",
       "      <td>President Donald Trump and \"the Trump of the T...</td>\n",
       "      <td>-4.33</td>\n",
       "      <td>president donald trump trump tropic brazilian ...</td>\n",
       "    </tr>\n",
       "    <tr>\n",
       "      <td>4</td>\n",
       "      <td>U.S Senator Elizabeth Warren, who is competing...</td>\n",
       "      <td>-10.00</td>\n",
       "      <td>u senator elizabeth warren competing democrati...</td>\n",
       "    </tr>\n",
       "  </tbody>\n",
       "</table>\n",
       "</div>"
      ],
      "text/plain": [
       "                                                Body   Bias  \\\n",
       "0  Abortion rights advocates have asked the U.S. ...   1.67   \n",
       "1  A federal appeals court rejected the most dire...   0.67   \n",
       "2  As part of the Trump administration's effort t...  -2.75   \n",
       "3  President Donald Trump and \"the Trump of the T...  -4.33   \n",
       "4  U.S Senator Elizabeth Warren, who is competing... -10.00   \n",
       "\n",
       "                                        cleaned_body  \n",
       "0  abortion right advocate asked u supreme court ...  \n",
       "1  federal appeal court rejected direct constitut...  \n",
       "2  part trump administration effort slow migrant ...  \n",
       "3  president donald trump trump tropic brazilian ...  \n",
       "4  u senator elizabeth warren competing democrati...  "
      ]
     },
     "execution_count": 3,
     "metadata": {},
     "output_type": "execute_result"
    }
   ],
   "source": [
    "df1 = pd.read_csv(\"../data/preprocessed_cleaned_body.csv\")\n",
    "df1.head()"
   ]
  },
  {
   "cell_type": "code",
   "execution_count": 4,
   "metadata": {},
   "outputs": [
    {
     "data": {
      "text/html": [
       "<div>\n",
       "<style scoped>\n",
       "    .dataframe tbody tr th:only-of-type {\n",
       "        vertical-align: middle;\n",
       "    }\n",
       "\n",
       "    .dataframe tbody tr th {\n",
       "        vertical-align: top;\n",
       "    }\n",
       "\n",
       "    .dataframe thead th {\n",
       "        text-align: right;\n",
       "    }\n",
       "</style>\n",
       "<table border=\"1\" class=\"dataframe\">\n",
       "  <thead>\n",
       "    <tr style=\"text-align: right;\">\n",
       "      <th></th>\n",
       "      <th>Body</th>\n",
       "      <th>Bias</th>\n",
       "      <th>cleaned_body</th>\n",
       "      <th>one</th>\n",
       "      <th>american</th>\n",
       "      <th>trump</th>\n",
       "      <th>two</th>\n",
       "      <th>republican</th>\n",
       "      <th>democrat</th>\n",
       "      <th>first</th>\n",
       "      <th>...</th>\n",
       "      <th>u</th>\n",
       "      <th>cnn</th>\n",
       "      <th>barr</th>\n",
       "      <th>four</th>\n",
       "      <th>thursday</th>\n",
       "      <th>gop</th>\n",
       "      <th>march</th>\n",
       "      <th>chinese</th>\n",
       "      <th>clinton</th>\n",
       "      <th>florida</th>\n",
       "    </tr>\n",
       "  </thead>\n",
       "  <tbody>\n",
       "    <tr>\n",
       "      <td>0</td>\n",
       "      <td>Abortion rights advocates have asked the U.S. ...</td>\n",
       "      <td>1.67</td>\n",
       "      <td>abortion right advocate asked u supreme court ...</td>\n",
       "      <td>0.000000</td>\n",
       "      <td>0.000000</td>\n",
       "      <td>0.000000</td>\n",
       "      <td>0.00000</td>\n",
       "      <td>0.0</td>\n",
       "      <td>0.0000</td>\n",
       "      <td>0.000000</td>\n",
       "      <td>...</td>\n",
       "      <td>0.226738</td>\n",
       "      <td>0.0</td>\n",
       "      <td>0.000000</td>\n",
       "      <td>0.0</td>\n",
       "      <td>0.0</td>\n",
       "      <td>0.0</td>\n",
       "      <td>0.0</td>\n",
       "      <td>0.0</td>\n",
       "      <td>0.0</td>\n",
       "      <td>0.0</td>\n",
       "    </tr>\n",
       "    <tr>\n",
       "      <td>1</td>\n",
       "      <td>A federal appeals court rejected the most dire...</td>\n",
       "      <td>0.67</td>\n",
       "      <td>federal appeal court rejected direct constitut...</td>\n",
       "      <td>0.052867</td>\n",
       "      <td>0.000000</td>\n",
       "      <td>-0.023100</td>\n",
       "      <td>0.00000</td>\n",
       "      <td>0.0</td>\n",
       "      <td>0.0000</td>\n",
       "      <td>0.000000</td>\n",
       "      <td>...</td>\n",
       "      <td>0.157795</td>\n",
       "      <td>0.0</td>\n",
       "      <td>0.000000</td>\n",
       "      <td>0.0</td>\n",
       "      <td>0.0</td>\n",
       "      <td>0.0</td>\n",
       "      <td>0.0</td>\n",
       "      <td>0.0</td>\n",
       "      <td>0.0</td>\n",
       "      <td>0.0</td>\n",
       "    </tr>\n",
       "    <tr>\n",
       "      <td>2</td>\n",
       "      <td>As part of the Trump administration's effort t...</td>\n",
       "      <td>-2.75</td>\n",
       "      <td>part trump administration effort slow migrant ...</td>\n",
       "      <td>0.000000</td>\n",
       "      <td>0.000000</td>\n",
       "      <td>-0.401825</td>\n",
       "      <td>0.00000</td>\n",
       "      <td>0.0</td>\n",
       "      <td>0.0000</td>\n",
       "      <td>0.000000</td>\n",
       "      <td>...</td>\n",
       "      <td>-0.136091</td>\n",
       "      <td>0.0</td>\n",
       "      <td>-0.060043</td>\n",
       "      <td>0.0</td>\n",
       "      <td>0.0</td>\n",
       "      <td>0.0</td>\n",
       "      <td>0.0</td>\n",
       "      <td>0.0</td>\n",
       "      <td>0.0</td>\n",
       "      <td>0.0</td>\n",
       "    </tr>\n",
       "    <tr>\n",
       "      <td>3</td>\n",
       "      <td>President Donald Trump and \"the Trump of the T...</td>\n",
       "      <td>-4.33</td>\n",
       "      <td>president donald trump trump tropic brazilian ...</td>\n",
       "      <td>0.246950</td>\n",
       "      <td>0.000000</td>\n",
       "      <td>0.272050</td>\n",
       "      <td>0.29770</td>\n",
       "      <td>0.0</td>\n",
       "      <td>0.0000</td>\n",
       "      <td>0.368767</td>\n",
       "      <td>...</td>\n",
       "      <td>0.301360</td>\n",
       "      <td>0.0</td>\n",
       "      <td>0.000000</td>\n",
       "      <td>0.0</td>\n",
       "      <td>0.0</td>\n",
       "      <td>0.0</td>\n",
       "      <td>0.0</td>\n",
       "      <td>0.0</td>\n",
       "      <td>0.0</td>\n",
       "      <td>0.0</td>\n",
       "    </tr>\n",
       "    <tr>\n",
       "      <td>4</td>\n",
       "      <td>U.S Senator Elizabeth Warren, who is competing...</td>\n",
       "      <td>-10.00</td>\n",
       "      <td>u senator elizabeth warren competing democrati...</td>\n",
       "      <td>0.173840</td>\n",
       "      <td>0.502567</td>\n",
       "      <td>0.000000</td>\n",
       "      <td>0.42955</td>\n",
       "      <td>0.0</td>\n",
       "      <td>0.3243</td>\n",
       "      <td>0.335250</td>\n",
       "      <td>...</td>\n",
       "      <td>0.274257</td>\n",
       "      <td>0.0</td>\n",
       "      <td>0.000000</td>\n",
       "      <td>0.0</td>\n",
       "      <td>0.0</td>\n",
       "      <td>0.0</td>\n",
       "      <td>0.0</td>\n",
       "      <td>0.0</td>\n",
       "      <td>0.0</td>\n",
       "      <td>0.0</td>\n",
       "    </tr>\n",
       "  </tbody>\n",
       "</table>\n",
       "<p>5 rows × 53 columns</p>\n",
       "</div>"
      ],
      "text/plain": [
       "                                                Body   Bias  \\\n",
       "0  Abortion rights advocates have asked the U.S. ...   1.67   \n",
       "1  A federal appeals court rejected the most dire...   0.67   \n",
       "2  As part of the Trump administration's effort t...  -2.75   \n",
       "3  President Donald Trump and \"the Trump of the T...  -4.33   \n",
       "4  U.S Senator Elizabeth Warren, who is competing... -10.00   \n",
       "\n",
       "                                        cleaned_body       one  american  \\\n",
       "0  abortion right advocate asked u supreme court ...  0.000000  0.000000   \n",
       "1  federal appeal court rejected direct constitut...  0.052867  0.000000   \n",
       "2  part trump administration effort slow migrant ...  0.000000  0.000000   \n",
       "3  president donald trump trump tropic brazilian ...  0.246950  0.000000   \n",
       "4  u senator elizabeth warren competing democrati...  0.173840  0.502567   \n",
       "\n",
       "      trump      two  republican  democrat     first  ...         u  cnn  \\\n",
       "0  0.000000  0.00000         0.0    0.0000  0.000000  ...  0.226738  0.0   \n",
       "1 -0.023100  0.00000         0.0    0.0000  0.000000  ...  0.157795  0.0   \n",
       "2 -0.401825  0.00000         0.0    0.0000  0.000000  ... -0.136091  0.0   \n",
       "3  0.272050  0.29770         0.0    0.0000  0.368767  ...  0.301360  0.0   \n",
       "4  0.000000  0.42955         0.0    0.3243  0.335250  ...  0.274257  0.0   \n",
       "\n",
       "       barr  four  thursday  gop  march  chinese  clinton  florida  \n",
       "0  0.000000   0.0       0.0  0.0    0.0      0.0      0.0      0.0  \n",
       "1  0.000000   0.0       0.0  0.0    0.0      0.0      0.0      0.0  \n",
       "2 -0.060043   0.0       0.0  0.0    0.0      0.0      0.0      0.0  \n",
       "3  0.000000   0.0       0.0  0.0    0.0      0.0      0.0      0.0  \n",
       "4  0.000000   0.0       0.0  0.0    0.0      0.0      0.0      0.0  \n",
       "\n",
       "[5 rows x 53 columns]"
      ]
     },
     "execution_count": 4,
     "metadata": {},
     "output_type": "execute_result"
    }
   ],
   "source": [
    "df2 = pd.read_csv(\"../data/preprocessed_entity_sentiments.csv\")\n",
    "df2.head()"
   ]
  },
  {
   "cell_type": "code",
   "execution_count": 98,
   "metadata": {
    "scrolled": true
   },
   "outputs": [
    {
     "data": {
      "text/plain": [
       "0    abortion right advocate asked u supreme court ...\n",
       "1    federal appeal court rejected direct constitut...\n",
       "2    part trump administration effort slow migrant ...\n",
       "3    president donald trump trump tropic brazilian ...\n",
       "4    u senator elizabeth warren competing democrati...\n",
       "Name: cleaned_body, dtype: object"
      ]
     },
     "execution_count": 98,
     "metadata": {},
     "output_type": "execute_result"
    }
   ],
   "source": [
    "X = df2['cleaned_body']\n",
    "X.head()"
   ]
  },
  {
   "cell_type": "code",
   "execution_count": 99,
   "metadata": {},
   "outputs": [
    {
     "data": {
      "text/plain": [
       "0     1.67\n",
       "1     0.67\n",
       "2    -2.75\n",
       "3    -4.33\n",
       "4   -10.00\n",
       "Name: Bias, dtype: float64"
      ]
     },
     "execution_count": 99,
     "metadata": {},
     "output_type": "execute_result"
    }
   ],
   "source": [
    "y = df2['Bias']\n",
    "y.head()"
   ]
  },
  {
   "cell_type": "code",
   "execution_count": 100,
   "metadata": {},
   "outputs": [],
   "source": [
    "bow_transformer = CountVectorizer(max_features = 500)\n",
    "bow = bow_transformer.fit_transform(X)\n",
    "\n",
    "X = pd.DataFrame(bow.toarray(), columns=bow_transformer.get_feature_names())\n",
    "col_names = X.columns\n",
    "\n",
    "scaler = MinMaxScaler()\n",
    "scaled = scaler.fit_transform(X)\n",
    "X = pd.DataFrame(scaled, columns=col_names)\n",
    "X_train, X_test, y_train, y_test = train_test_split(X, y, random_state=1)"
   ]
  },
  {
   "cell_type": "code",
   "execution_count": 101,
   "metadata": {},
   "outputs": [
    {
     "data": {
      "text/plain": [
       "count    1675.000000\n",
       "mean       -1.974072\n",
       "std        13.990288\n",
       "min       -38.250000\n",
       "25%       -10.000000\n",
       "50%        -2.000000\n",
       "75%         3.000000\n",
       "max        40.000000\n",
       "Name: Bias, dtype: float64"
      ]
     },
     "execution_count": 101,
     "metadata": {},
     "output_type": "execute_result"
    }
   ],
   "source": [
    "df1['Bias'].describe()"
   ]
  },
  {
   "cell_type": "code",
   "execution_count": 102,
   "metadata": {},
   "outputs": [
    {
     "data": {
      "text/plain": [
       "(array([ 22.,  99., 168., 253., 643., 172.,  95., 134.,  72.,  17.]),\n",
       " array([-38.25 , -30.425, -22.6  , -14.775,  -6.95 ,   0.875,   8.7  ,\n",
       "         16.525,  24.35 ,  32.175,  40.   ]),\n",
       " <a list of 10 Patch objects>)"
      ]
     },
     "execution_count": 102,
     "metadata": {},
     "output_type": "execute_result"
    },
    {
     "data": {
      "image/png": "[encoded data removed]",
      "text/plain": [
       "<Figure size 432x288 with 1 Axes>"
      ]
     },
     "metadata": {
      "needs_background": "light"
     },
     "output_type": "display_data"
    }
   ],
   "source": [
    "plt.hist(df2['Bias'])"
   ]
  },
  {
   "cell_type": "code",
   "execution_count": 185,
   "metadata": {},
   "outputs": [],
   "source": [
    "# 1 represents most left, 5 represents most right\n",
    "bins = [-41, -5, 41]\n",
    "names = ['0', '0.25', '0.5', '0.75', '1']\n",
    "\n",
    "multi_df = df2.loc[:]\n",
    "multi_df['Category'] = pd.cut(multi_df['Bias'], bins, labels=names)"
   ]
  },
  {
   "cell_type": "code",
   "execution_count": 186,
   "metadata": {},
   "outputs": [
    {
     "data": {
      "text/html": [
       "<div>\n",
       "<style scoped>\n",
       "    .dataframe tbody tr th:only-of-type {\n",
       "        vertical-align: middle;\n",
       "    }\n",
       "\n",
       "    .dataframe tbody tr th {\n",
       "        vertical-align: top;\n",
       "    }\n",
       "\n",
       "    .dataframe thead th {\n",
       "        text-align: right;\n",
       "    }\n",
       "</style>\n",
       "<table border=\"1\" class=\"dataframe\">\n",
       "  <thead>\n",
       "    <tr style=\"text-align: right;\">\n",
       "      <th></th>\n",
       "      <th>Body</th>\n",
       "      <th>Bias</th>\n",
       "      <th>cleaned_body</th>\n",
       "      <th>one</th>\n",
       "      <th>american</th>\n",
       "      <th>trump</th>\n",
       "      <th>two</th>\n",
       "      <th>republican</th>\n",
       "      <th>democrat</th>\n",
       "      <th>first</th>\n",
       "      <th>...</th>\n",
       "      <th>cnn</th>\n",
       "      <th>barr</th>\n",
       "      <th>four</th>\n",
       "      <th>thursday</th>\n",
       "      <th>gop</th>\n",
       "      <th>march</th>\n",
       "      <th>chinese</th>\n",
       "      <th>clinton</th>\n",
       "      <th>florida</th>\n",
       "      <th>Category</th>\n",
       "    </tr>\n",
       "  </thead>\n",
       "  <tbody>\n",
       "    <tr>\n",
       "      <td>0</td>\n",
       "      <td>Abortion rights advocates have asked the U.S. ...</td>\n",
       "      <td>1.67</td>\n",
       "      <td>abortion right advocate asked u supreme court ...</td>\n",
       "      <td>0.000000</td>\n",
       "      <td>0.000000</td>\n",
       "      <td>0.000000</td>\n",
       "      <td>0.00000</td>\n",
       "      <td>0.0</td>\n",
       "      <td>0.0000</td>\n",
       "      <td>0.000000</td>\n",
       "      <td>...</td>\n",
       "      <td>0.0</td>\n",
       "      <td>0.000000</td>\n",
       "      <td>0.0</td>\n",
       "      <td>0.0</td>\n",
       "      <td>0.0</td>\n",
       "      <td>0.0</td>\n",
       "      <td>0.0</td>\n",
       "      <td>0.0</td>\n",
       "      <td>0.0</td>\n",
       "      <td>2</td>\n",
       "    </tr>\n",
       "    <tr>\n",
       "      <td>1</td>\n",
       "      <td>A federal appeals court rejected the most dire...</td>\n",
       "      <td>0.67</td>\n",
       "      <td>federal appeal court rejected direct constitut...</td>\n",
       "      <td>0.052867</td>\n",
       "      <td>0.000000</td>\n",
       "      <td>-0.023100</td>\n",
       "      <td>0.00000</td>\n",
       "      <td>0.0</td>\n",
       "      <td>0.0000</td>\n",
       "      <td>0.000000</td>\n",
       "      <td>...</td>\n",
       "      <td>0.0</td>\n",
       "      <td>0.000000</td>\n",
       "      <td>0.0</td>\n",
       "      <td>0.0</td>\n",
       "      <td>0.0</td>\n",
       "      <td>0.0</td>\n",
       "      <td>0.0</td>\n",
       "      <td>0.0</td>\n",
       "      <td>0.0</td>\n",
       "      <td>2</td>\n",
       "    </tr>\n",
       "    <tr>\n",
       "      <td>2</td>\n",
       "      <td>As part of the Trump administration's effort t...</td>\n",
       "      <td>-2.75</td>\n",
       "      <td>part trump administration effort slow migrant ...</td>\n",
       "      <td>0.000000</td>\n",
       "      <td>0.000000</td>\n",
       "      <td>-0.401825</td>\n",
       "      <td>0.00000</td>\n",
       "      <td>0.0</td>\n",
       "      <td>0.0000</td>\n",
       "      <td>0.000000</td>\n",
       "      <td>...</td>\n",
       "      <td>0.0</td>\n",
       "      <td>-0.060043</td>\n",
       "      <td>0.0</td>\n",
       "      <td>0.0</td>\n",
       "      <td>0.0</td>\n",
       "      <td>0.0</td>\n",
       "      <td>0.0</td>\n",
       "      <td>0.0</td>\n",
       "      <td>0.0</td>\n",
       "      <td>1</td>\n",
       "    </tr>\n",
       "    <tr>\n",
       "      <td>3</td>\n",
       "      <td>President Donald Trump and \"the Trump of the T...</td>\n",
       "      <td>-4.33</td>\n",
       "      <td>president donald trump trump tropic brazilian ...</td>\n",
       "      <td>0.246950</td>\n",
       "      <td>0.000000</td>\n",
       "      <td>0.272050</td>\n",
       "      <td>0.29770</td>\n",
       "      <td>0.0</td>\n",
       "      <td>0.0000</td>\n",
       "      <td>0.368767</td>\n",
       "      <td>...</td>\n",
       "      <td>0.0</td>\n",
       "      <td>0.000000</td>\n",
       "      <td>0.0</td>\n",
       "      <td>0.0</td>\n",
       "      <td>0.0</td>\n",
       "      <td>0.0</td>\n",
       "      <td>0.0</td>\n",
       "      <td>0.0</td>\n",
       "      <td>0.0</td>\n",
       "      <td>1</td>\n",
       "    </tr>\n",
       "    <tr>\n",
       "      <td>4</td>\n",
       "      <td>U.S Senator Elizabeth Warren, who is competing...</td>\n",
       "      <td>-10.00</td>\n",
       "      <td>u senator elizabeth warren competing democrati...</td>\n",
       "      <td>0.173840</td>\n",
       "      <td>0.502567</td>\n",
       "      <td>0.000000</td>\n",
       "      <td>0.42955</td>\n",
       "      <td>0.0</td>\n",
       "      <td>0.3243</td>\n",
       "      <td>0.335250</td>\n",
       "      <td>...</td>\n",
       "      <td>0.0</td>\n",
       "      <td>0.000000</td>\n",
       "      <td>0.0</td>\n",
       "      <td>0.0</td>\n",
       "      <td>0.0</td>\n",
       "      <td>0.0</td>\n",
       "      <td>0.0</td>\n",
       "      <td>0.0</td>\n",
       "      <td>0.0</td>\n",
       "      <td>1</td>\n",
       "    </tr>\n",
       "  </tbody>\n",
       "</table>\n",
       "<p>5 rows × 54 columns</p>\n",
       "</div>"
      ],
      "text/plain": [
       "                                                Body   Bias  \\\n",
       "0  Abortion rights advocates have asked the U.S. ...   1.67   \n",
       "1  A federal appeals court rejected the most dire...   0.67   \n",
       "2  As part of the Trump administration's effort t...  -2.75   \n",
       "3  President Donald Trump and \"the Trump of the T...  -4.33   \n",
       "4  U.S Senator Elizabeth Warren, who is competing... -10.00   \n",
       "\n",
       "                                        cleaned_body       one  american  \\\n",
       "0  abortion right advocate asked u supreme court ...  0.000000  0.000000   \n",
       "1  federal appeal court rejected direct constitut...  0.052867  0.000000   \n",
       "2  part trump administration effort slow migrant ...  0.000000  0.000000   \n",
       "3  president donald trump trump tropic brazilian ...  0.246950  0.000000   \n",
       "4  u senator elizabeth warren competing democrati...  0.173840  0.502567   \n",
       "\n",
       "      trump      two  republican  democrat     first  ...  cnn      barr  \\\n",
       "0  0.000000  0.00000         0.0    0.0000  0.000000  ...  0.0  0.000000   \n",
       "1 -0.023100  0.00000         0.0    0.0000  0.000000  ...  0.0  0.000000   \n",
       "2 -0.401825  0.00000         0.0    0.0000  0.000000  ...  0.0 -0.060043   \n",
       "3  0.272050  0.29770         0.0    0.0000  0.368767  ...  0.0  0.000000   \n",
       "4  0.000000  0.42955         0.0    0.3243  0.335250  ...  0.0  0.000000   \n",
       "\n",
       "   four  thursday  gop  march  chinese  clinton  florida  Category  \n",
       "0   0.0       0.0  0.0    0.0      0.0      0.0      0.0         2  \n",
       "1   0.0       0.0  0.0    0.0      0.0      0.0      0.0         2  \n",
       "2   0.0       0.0  0.0    0.0      0.0      0.0      0.0         1  \n",
       "3   0.0       0.0  0.0    0.0      0.0      0.0      0.0         1  \n",
       "4   0.0       0.0  0.0    0.0      0.0      0.0      0.0         1  \n",
       "\n",
       "[5 rows x 54 columns]"
      ]
     },
     "execution_count": 186,
     "metadata": {},
     "output_type": "execute_result"
    }
   ],
   "source": [
    "multi_df.head()"
   ]
  },
  {
   "cell_type": "code",
   "execution_count": 187,
   "metadata": {},
   "outputs": [],
   "source": [
    "#body_df = multi_df.drop(columns=[ 'n_links', 'Source', 'Bias', 'Quality'])"
   ]
  },
  {
   "cell_type": "code",
   "execution_count": 188,
   "metadata": {},
   "outputs": [],
   "source": [
    "#body_df.head()"
   ]
  },
  {
   "cell_type": "code",
   "execution_count": 189,
   "metadata": {},
   "outputs": [],
   "source": [
    "# bow_transformer = CountVectorizer(max_features = 800)\n",
    "# bow = bow_transformer.fit_transform(multi_df['Body'])\n",
    "\n",
    "# X = pd.DataFrame(bow.toarray(), columns=bow_transformer.get_feature_names())\n",
    "# y = multi_df['Category']\n",
    "\n",
    "# col_names = X.columns\n",
    "\n",
    "# scaler = MinMaxScaler()\n",
    "# scaled = scaler.fit_transform(X)\n",
    "# X = pd.DataFrame(scaled, columns=col_names)\n",
    "\n",
    "X = multi_df['cleaned_body']\n",
    "y = multi_df['Category']\n",
    "\n",
    "X_train, X_test, y_train, y_test = train_test_split(X, y, random_state=1)"
   ]
  },
  {
   "cell_type": "code",
   "execution_count": 190,
   "metadata": {},
   "outputs": [
    {
     "data": {
      "text/plain": [
       "(1256,)"
      ]
     },
     "execution_count": 190,
     "metadata": {},
     "output_type": "execute_result"
    }
   ],
   "source": [
    "X_train.shape"
   ]
  },
  {
   "cell_type": "code",
   "execution_count": 191,
   "metadata": {},
   "outputs": [
    {
     "data": {
      "text/plain": [
       "(1256,)"
      ]
     },
     "execution_count": 191,
     "metadata": {},
     "output_type": "execute_result"
    }
   ],
   "source": [
    "y_train.shape"
   ]
  },
  {
   "cell_type": "code",
   "execution_count": 192,
   "metadata": {},
   "outputs": [
    {
     "data": {
      "text/plain": [
       "0    abortion right advocate asked u supreme court ...\n",
       "1    federal appeal court rejected direct constitut...\n",
       "2    part trump administration effort slow migrant ...\n",
       "3    president donald trump trump tropic brazilian ...\n",
       "4    u senator elizabeth warren competing democrati...\n",
       "Name: cleaned_body, dtype: object"
      ]
     },
     "execution_count": 192,
     "metadata": {},
     "output_type": "execute_result"
    }
   ],
   "source": [
    "X.head()"
   ]
  },
  {
   "cell_type": "code",
   "execution_count": 193,
   "metadata": {},
   "outputs": [
    {
     "data": {
      "text/plain": [
       "0    2\n",
       "1    2\n",
       "2    1\n",
       "3    1\n",
       "4    1\n",
       "Name: Category, dtype: category\n",
       "Categories (2, object): [1 < 2]"
      ]
     },
     "execution_count": 193,
     "metadata": {},
     "output_type": "execute_result"
    }
   ],
   "source": [
    "y.head()"
   ]
  },
  {
   "cell_type": "code",
   "execution_count": 194,
   "metadata": {},
   "outputs": [
    {
     "name": "stdout",
     "output_type": "stream",
     "text": [
      "['Body' 'Bias' 'cleaned_body' 'one' 'american' 'trump' 'two' 'republican'\n",
      " 'democrat' 'first' 'cohen' 'tuesday' 'congress' 'russian' 'new york'\n",
      " 'white house' 'russia' 'donald trump' 'democratic' 'today' 'united state'\n",
      " 'senate' 'million' 'doe' 'last year' 'three' 'washington' 'america'\n",
      " 'second' 'monday' 'fbi' 'china' 'wednesday' 'north korea' 'year'\n",
      " 'last week' 'house' 'muslim' 'february' 'new zealand' 'california'\n",
      " 'april' 'kim' 'u' 'cnn' 'barr' 'four' 'thursday' 'gop' 'march' 'chinese'\n",
      " 'clinton' 'florida' 'Category']\n"
     ]
    }
   ],
   "source": [
    "print(multi_df.columns.values)"
   ]
  },
  {
   "cell_type": "code",
   "execution_count": 195,
   "metadata": {},
   "outputs": [
    {
     "data": {
      "text/plain": [
       "[2, 1]\n",
       "Categories (2, object): [1 < 2]"
      ]
     },
     "execution_count": 195,
     "metadata": {},
     "output_type": "execute_result"
    }
   ],
   "source": [
    "multi_df.Category.unique()"
   ]
  },
  {
   "cell_type": "code",
   "execution_count": 196,
   "metadata": {},
   "outputs": [],
   "source": [
    "BertTokenizer = bert.bert_tokenization.FullTokenizer\n",
    "bert_layer = hub.KerasLayer(\"https://tfhub.dev/tensorflow/bert_en_uncased_L-12_H-768_A-12/1\",\n",
    "                            trainable=False)\n",
    "vocabulary_file = bert_layer.resolved_object.vocab_file.asset_path.numpy()\n",
    "to_lower_case = bert_layer.resolved_object.do_lower_case.numpy()\n",
    "tokenizer = BertTokenizer(vocabulary_file, to_lower_case)"
   ]
  },
  {
   "cell_type": "code",
   "execution_count": 197,
   "metadata": {},
   "outputs": [
    {
     "data": {
      "text/plain": [
       "['don', \"'\", 't', 'be', 'so', 'judgment', '##al']"
      ]
     },
     "execution_count": 197,
     "metadata": {},
     "output_type": "execute_result"
    }
   ],
   "source": [
    "tokenizer.tokenize(\"don't be so judgmental\")"
   ]
  },
  {
   "cell_type": "code",
   "execution_count": 198,
   "metadata": {},
   "outputs": [
    {
     "data": {
      "text/plain": [
       "[2123, 2102, 2022, 2061, 8689, 2389]"
      ]
     },
     "execution_count": 198,
     "metadata": {},
     "output_type": "execute_result"
    }
   ],
   "source": [
    "tokenizer.convert_tokens_to_ids(tokenizer.tokenize(\"dont be so judgmental\"))"
   ]
  },
  {
   "cell_type": "code",
   "execution_count": 199,
   "metadata": {},
   "outputs": [],
   "source": [
    "def tokenize_data(text_reviews):\n",
    "    return tokenizer.convert_tokens_to_ids(tokenizer.tokenize(text_reviews))"
   ]
  },
  {
   "cell_type": "code",
   "execution_count": 200,
   "metadata": {},
   "outputs": [],
   "source": [
    "tokenized_data = [tokenize_reviews(X) for X in X]"
   ]
  },
  {
   "cell_type": "code",
   "execution_count": 201,
   "metadata": {},
   "outputs": [],
   "source": [
    "data_with_length = [[X, y[i], len(X)]\n",
    "                 for i, X in enumerate(tokenized_data)]"
   ]
  },
  {
   "cell_type": "code",
   "execution_count": 202,
   "metadata": {},
   "outputs": [],
   "source": [
    "random.shuffle(data_with_length)"
   ]
  },
  {
   "cell_type": "code",
   "execution_count": 203,
   "metadata": {},
   "outputs": [],
   "source": [
    "data_with_len.sort(key=lambda x: x[2])"
   ]
  },
  {
   "cell_type": "code",
   "execution_count": 204,
   "metadata": {},
   "outputs": [],
   "source": [
    "sorted_data_labels = [(data_lab[0], data_lab[1]) for data_lab in data_with_len]"
   ]
  },
  {
   "cell_type": "code",
   "execution_count": 205,
   "metadata": {},
   "outputs": [],
   "source": [
    "processed_dataset = tf.data.Dataset.from_generator(lambda: sorted_data_labels, output_types=(tf.int32, tf.float32))"
   ]
  },
  {
   "cell_type": "code",
   "execution_count": 206,
   "metadata": {},
   "outputs": [],
   "source": [
    "BATCH_SIZE = 64\n",
    "batched_dataset = processed_dataset.padded_batch(BATCH_SIZE, padded_shapes=((None, ), ()))"
   ]
  },
  {
   "cell_type": "code",
   "execution_count": 207,
   "metadata": {},
   "outputs": [
    {
     "data": {
      "text/plain": [
       "(<tf.Tensor: shape=(64, 69), dtype=int32, numpy=\n",
       " array([[ 2956,  8417,     0, ...,     0,     0,     0],\n",
       "        [ 2956,  8417,     0, ...,     0,     0,     0],\n",
       "        [ 1006,  2131,  3723, ...,     0,     0,     0],\n",
       "        ...,\n",
       "        [ 1523,  2008,  1521, ...,     0,     0,     0],\n",
       "        [ 8398,  9828,  2000, ...,     0,     0,     0],\n",
       "        [ 1006, 13218,  1996, ...,  1997,  2231,  1010]])>,\n",
       " <tf.Tensor: shape=(64,), dtype=float32, numpy=\n",
       " array([0.5 , 0.5 , 0.5 , 0.5 , 0.25, 1.  , 0.25, 0.5 , 0.5 , 0.25, 0.5 ,\n",
       "        0.25, 0.  , 0.25, 0.25, 0.5 , 0.  , 0.5 , 0.25, 0.5 , 0.5 , 0.75,\n",
       "        0.5 , 0.5 , 0.5 , 0.5 , 0.25, 0.25, 0.25, 1.  , 0.75, 0.  , 0.25,\n",
       "        0.5 , 0.5 , 0.25, 0.25, 0.25, 0.5 , 0.5 , 0.  , 0.5 , 0.  , 0.5 ,\n",
       "        0.5 , 0.5 , 1.  , 0.25, 0.25, 0.5 , 0.  , 0.25, 0.5 , 0.25, 0.75,\n",
       "        0.5 , 0.5 , 0.25, 0.5 , 0.  , 0.5 , 0.25, 0.  , 0.25],\n",
       "       dtype=float32)>)"
      ]
     },
     "execution_count": 207,
     "metadata": {},
     "output_type": "execute_result"
    }
   ],
   "source": [
    "next(iter(batched_dataset))"
   ]
  },
  {
   "cell_type": "code",
   "execution_count": 208,
   "metadata": {},
   "outputs": [],
   "source": [
    "TOTAL_BATCHES = math.ceil(len(sorted_data_labels) / BATCH_SIZE)\n",
    "TEST_BATCHES = TOTAL_BATCHES // 10\n",
    "batched_dataset.shuffle(TOTAL_BATCHES)\n",
    "test_data = batched_dataset.take(TEST_BATCHES)\n",
    "train_data = batched_dataset.skip(TEST_BATCHES)"
   ]
  },
  {
   "cell_type": "code",
   "execution_count": 209,
   "metadata": {},
   "outputs": [],
   "source": [
    "class TEXT_MODEL(tf.keras.Model):\n",
    "    \n",
    "    def __init__(self,\n",
    "                 vocabulary_size,\n",
    "                 embedding_dimensions=128,\n",
    "                 cnn_filters=50,\n",
    "                 dnn_units=512,\n",
    "                 model_output_classes=2,\n",
    "                 dropout_rate=0.1,\n",
    "                 training=False,\n",
    "                 name=\"text_model\"):\n",
    "        super(TEXT_MODEL, self).__init__(name=name)\n",
    "        \n",
    "        self.embedding = layers.Embedding(vocabulary_size,\n",
    "                                          embedding_dimensions)\n",
    "        self.cnn_layer1 = layers.Conv1D(filters=cnn_filters,\n",
    "                                        kernel_size=2,\n",
    "                                        padding=\"valid\",\n",
    "                                        activation=\"relu\")\n",
    "        self.cnn_layer2 = layers.Conv1D(filters=cnn_filters,\n",
    "                                        kernel_size=3,\n",
    "                                        padding=\"valid\",\n",
    "                                        activation=\"relu\")\n",
    "        self.cnn_layer3 = layers.Conv1D(filters=cnn_filters,\n",
    "                                        kernel_size=4,\n",
    "                                        padding=\"valid\",\n",
    "                                        activation=\"relu\")\n",
    "        self.pool = layers.GlobalMaxPool1D()\n",
    "        \n",
    "        self.dense_1 = layers.Dense(units=dnn_units, activation=\"relu\")\n",
    "        self.dropout = layers.Dropout(rate=dropout_rate)\n",
    "        if model_output_classes == 2:\n",
    "            self.last_dense = layers.Dense(units=1,\n",
    "                                           activation=\"sigmoid\")\n",
    "        else:\n",
    "            self.last_dense = layers.Dense(units=model_output_classes,\n",
    "                                           activation=\"softmax\")\n",
    "    \n",
    "    def call(self, inputs, training):\n",
    "        l = self.embedding(inputs)\n",
    "        l_1 = self.cnn_layer1(l) \n",
    "        l_1 = self.pool(l_1) \n",
    "        l_2 = self.cnn_layer2(l) \n",
    "        l_2 = self.pool(l_2)\n",
    "        l_3 = self.cnn_layer3(l)\n",
    "        l_3 = self.pool(l_3) \n",
    "        \n",
    "        concatenated = tf.concat([l_1, l_2, l_3], axis=-1) # (batch_size, 3 * cnn_filters)\n",
    "        concatenated = self.dense_1(concatenated)\n",
    "        concatenated = self.dropout(concatenated, training)\n",
    "        model_output = self.last_dense(concatenated)\n",
    "        \n",
    "        return model_output"
   ]
  },
  {
   "cell_type": "code",
   "execution_count": 210,
   "metadata": {},
   "outputs": [],
   "source": [
    "VOCAB_LENGTH = len(tokenizer.vocab)\n",
    "EMB_DIM = 128\n",
    "CNN_FILTERS = 100\n",
    "DNN_UNITS = 512\n",
    "OUTPUT_CLASSES = 2\n",
    "\n",
    "DROPOUT_RATE = 0.01\n",
    "\n",
    "NB_EPOCHS = 5"
   ]
  },
  {
   "cell_type": "code",
   "execution_count": 211,
   "metadata": {},
   "outputs": [],
   "source": [
    "text_model = TEXT_MODEL(vocabulary_size=VOCAB_LENGTH,\n",
    "                        embedding_dimensions=EMB_DIM,\n",
    "                        cnn_filters=CNN_FILTERS,\n",
    "                        dnn_units=DNN_UNITS,\n",
    "                        model_output_classes=OUTPUT_CLASSES,\n",
    "                        dropout_rate=DROPOUT_RATE)"
   ]
  },
  {
   "cell_type": "code",
   "execution_count": 212,
   "metadata": {},
   "outputs": [],
   "source": [
    "if OUTPUT_CLASSES == 2:\n",
    "    text_model.compile(loss=\"binary_crossentropy\",\n",
    "                       optimizer=\"adam\",\n",
    "                       metrics=[\"accuracy\"])\n",
    "else:\n",
    "    text_model.compile(loss=\"sparse_categorical_crossentropy\",\n",
    "                       optimizer=\"adam\",\n",
    "                       metrics=[\"sparse_categorical_accuracy\"])"
   ]
  },
  {
   "cell_type": "code",
   "execution_count": 213,
   "metadata": {},
   "outputs": [
    {
     "name": "stdout",
     "output_type": "stream",
     "text": [
      "Epoch 1/5\n",
      "25/25 [==============================]: 0.6953 - accuracy: 0.156 - 1s 317ms/step - loss: 0.7048 - accuracy: 0.164 - 1s 255ms/step - loss: 0.7028 - accuracy: 0.171 - 1s 230ms/step - loss: 0.6998 - accuracy: 0.199 - 1s 217ms/step - loss: 0.6959 - accuracy: 0.203 - 1s 211ms/step - loss: 0.6945 - accuracy: 0.224 - 1s 208ms/step - loss: 0.6950 - accuracy: 0.227 - 2s 208ms/step - loss: 0.7036 - accuracy: 0.220 - 2s 210ms/step - loss: 0.7000 - accuracy: 0.218 - 2s 212ms/step - loss: 0.6978 - accuracy: 0.225 - 2s 215ms/step - loss: 0.6975 - accuracy: 0.227 - 3s 219ms/step - loss: 0.6968 - accuracy: 0.229 - 3s 224ms/step - loss: 0.6963 - accuracy: 0.238 - 3s 230ms/step - loss: 0.6965 - accuracy: 0.232 - 4s 236ms/step - loss: 0.6964 - accuracy: 0.228 - 4s 242ms/step - loss: 0.6958 - accuracy: 0.230 - 4s 250ms/step - loss: 0.6950 - accuracy: 0.232 - 5s 257ms/step - loss: 0.6951 - accuracy: 0.232 - 5s 265ms/step - loss: 0.6929 - accuracy: 0.236 - 5s 274ms/step - loss: 0.6913 - accuracy: 0.237 - 6s 285ms/step - loss: 0.6898 - accuracy: 0.238 - 7s 299ms/step - loss: 0.6881 - accuracy: 0.242 - 7s 320ms/step - loss: 0.6861 - accuracy: 0.246 - 9s 380ms/step - loss: 0.6820 - accuracy: 0.253 - 10s 399ms/step - loss: 0.6784 - accuracy: 0.25 - 10s 401ms/step - loss: 0.6785 - accuracy: 0.2534\n",
      "Epoch 2/5\n",
      "25/25 [==============================] - ETA: 2s - loss: 0.7346 - accuracy: 0.15 - ETA: 2s - loss: 0.7179 - accuracy: 0.20 - ETA: 2s - loss: 0.6957 - accuracy: 0.25 - ETA: 2s - loss: 0.6955 - accuracy: 0.26 - ETA: 2s - loss: 0.6893 - accuracy: 0.25 - ETA: 2s - loss: 0.6840 - accuracy: 0.26 - ETA: 2s - loss: 0.6815 - accuracy: 0.26 - ETA: 2s - loss: 0.6818 - accuracy: 0.25 - ETA: 2s - loss: 0.6795 - accuracy: 0.25 - ETA: 2s - loss: 0.6781 - accuracy: 0.27 - ETA: 2s - loss: 0.6770 - accuracy: 0.29 - ETA: 2s - loss: 0.6763 - accuracy: 0.30 - ETA: 2s - loss: 0.6752 - accuracy: 0.31 - ETA: 2s - loss: 0.6747 - accuracy: 0.32 - ETA: 2s - loss: 0.6734 - accuracy: 0.32 - ETA: 1s - loss: 0.6719 - accuracy: 0.32 - ETA: 1s - loss: 0.6708 - accuracy: 0.32 - ETA: 1s - loss: 0.6708 - accuracy: 0.31 - ETA: 1s - loss: 0.6683 - accuracy: 0.31 - ETA: 1s - loss: 0.6662 - accuracy: 0.31 - ETA: 1s - loss: 0.6648 - accuracy: 0.31 - ETA: 0s - loss: 0.6630 - accuracy: 0.31 - ETA: 0s - loss: 0.6609 - accuracy: 0.31 - ETA: 0s - loss: 0.6568 - accuracy: 0.31 - 10s 382ms/step - loss: 0.6535 - accuracy: 0.3167\n",
      "Epoch 3/5\n",
      "25/25 [==============================] - ETA: 2s - loss: 0.6441 - accuracy: 0.25 - ETA: 2s - loss: 0.6428 - accuracy: 0.25 - ETA: 2s - loss: 0.6235 - accuracy: 0.28 - ETA: 2s - loss: 0.6233 - accuracy: 0.29 - ETA: 2s - loss: 0.6211 - accuracy: 0.29 - ETA: 2s - loss: 0.6157 - accuracy: 0.32 - ETA: 2s - loss: 0.6153 - accuracy: 0.33 - ETA: 2s - loss: 0.6125 - accuracy: 0.35 - ETA: 2s - loss: 0.6100 - accuracy: 0.35 - ETA: 2s - loss: 0.6068 - accuracy: 0.37 - ETA: 2s - loss: 0.6041 - accuracy: 0.38 - ETA: 2s - loss: 0.6022 - accuracy: 0.38 - ETA: 2s - loss: 0.5982 - accuracy: 0.39 - ETA: 2s - loss: 0.5962 - accuracy: 0.39 - ETA: 2s - loss: 0.5936 - accuracy: 0.39 - ETA: 1s - loss: 0.5909 - accuracy: 0.39 - ETA: 1s - loss: 0.5882 - accuracy: 0.40 - ETA: 1s - loss: 0.5850 - accuracy: 0.40 - ETA: 1s - loss: 0.5824 - accuracy: 0.40 - ETA: 1s - loss: 0.5792 - accuracy: 0.40 - ETA: 1s - loss: 0.5773 - accuracy: 0.40 - ETA: 0s - loss: 0.5741 - accuracy: 0.40 - ETA: 0s - loss: 0.5709 - accuracy: 0.40 - ETA: 0s - loss: 0.5660 - accuracy: 0.41 - 10s 389ms/step - loss: 0.5639 - accuracy: 0.4085\n",
      "Epoch 4/5\n",
      "25/25 [==============================] - ETA: 2s - loss: 0.4721 - accuracy: 0.37 - ETA: 2s - loss: 0.4800 - accuracy: 0.39 - ETA: 2s - loss: 0.4602 - accuracy: 0.44 - ETA: 2s - loss: 0.4570 - accuracy: 0.46 - ETA: 2s - loss: 0.4623 - accuracy: 0.44 - ETA: 2s - loss: 0.4549 - accuracy: 0.45 - ETA: 2s - loss: 0.4574 - accuracy: 0.45 - ETA: 2s - loss: 0.4531 - accuracy: 0.46 - ETA: 2s - loss: 0.4531 - accuracy: 0.45 - ETA: 2s - loss: 0.4475 - accuracy: 0.45 - ETA: 2s - loss: 0.4433 - accuracy: 0.45 - ETA: 2s - loss: 0.4423 - accuracy: 0.45 - ETA: 2s - loss: 0.4371 - accuracy: 0.46 - ETA: 2s - loss: 0.4364 - accuracy: 0.45 - ETA: 2s - loss: 0.4360 - accuracy: 0.45 - ETA: 1s - loss: 0.4352 - accuracy: 0.45 - ETA: 1s - loss: 0.4321 - accuracy: 0.45 - ETA: 1s - loss: 0.4279 - accuracy: 0.45 - ETA: 1s - loss: 0.4279 - accuracy: 0.45 - ETA: 1s - loss: 0.4265 - accuracy: 0.45 - ETA: 1s - loss: 0.4262 - accuracy: 0.44 - ETA: 0s - loss: 0.4230 - accuracy: 0.45 - ETA: 0s - loss: 0.4208 - accuracy: 0.45 - ETA: 0s - loss: 0.4182 - accuracy: 0.45 - 10s 380ms/step - loss: 0.4260 - accuracy: 0.4505\n",
      "Epoch 5/5\n",
      "25/25 [==============================] - ETA: 2s - loss: 0.4536 - accuracy: 0.37 - ETA: 2s - loss: 0.4699 - accuracy: 0.39 - ETA: 2s - loss: 0.4378 - accuracy: 0.44 - ETA: 2s - loss: 0.4188 - accuracy: 0.46 - ETA: 2s - loss: 0.4214 - accuracy: 0.44 - ETA: 2s - loss: 0.4156 - accuracy: 0.45 - ETA: 2s - loss: 0.4218 - accuracy: 0.45 - ETA: 2s - loss: 0.4135 - accuracy: 0.46 - ETA: 2s - loss: 0.4134 - accuracy: 0.45 - ETA: 2s - loss: 0.4130 - accuracy: 0.45 - ETA: 2s - loss: 0.4166 - accuracy: 0.45 - ETA: 2s - loss: 0.4183 - accuracy: 0.45 - ETA: 2s - loss: 0.4123 - accuracy: 0.46 - ETA: 2s - loss: 0.4163 - accuracy: 0.45 - ETA: 2s - loss: 0.4276 - accuracy: 0.45 - ETA: 2s - loss: 0.4335 - accuracy: 0.45 - ETA: 1s - loss: 0.4304 - accuracy: 0.45 - ETA: 1s - loss: 0.4258 - accuracy: 0.45 - ETA: 1s - loss: 0.4368 - accuracy: 0.45 - ETA: 1s - loss: 0.4472 - accuracy: 0.45 - ETA: 1s - loss: 0.4556 - accuracy: 0.44 - ETA: 0s - loss: 0.4525 - accuracy: 0.45 - ETA: 0s - loss: 0.4508 - accuracy: 0.45 - ETA: 0s - loss: 0.4559 - accuracy: 0.45 - 10s 387ms/step - loss: 0.4759 - accuracy: 0.4505\n"
     ]
    },
    {
     "data": {
      "text/plain": [
       "<tensorflow.python.keras.callbacks.History at 0x1f3b265a0c8>"
      ]
     },
     "execution_count": 213,
     "metadata": {},
     "output_type": "execute_result"
    }
   ],
   "source": [
    "text_model.fit(train_data, epochs=NB_EPOCHS)"
   ]
  },
  {
   "cell_type": "code",
   "execution_count": 215,
   "metadata": {},
   "outputs": [
    {
     "name": "stdout",
     "output_type": "stream",
     "text": [
      "      2/Unknown - 0s 12ms/step - loss: 0.9397 - accuracy: 0.04 - 0s 15ms/step - loss: 0.8830 - accuracy: 0.13 - 0s 20ms/step - loss: 0.8830 - accuracy: 0.1328"
     ]
    },
    {
     "data": {
      "text/plain": [
       "[0.8830295205116272, 0.1328125]"
      ]
     },
     "execution_count": 215,
     "metadata": {},
     "output_type": "execute_result"
    }
   ],
   "source": [
    "results = text_model.evaluate(test_data)\n",
    "results"
   ]
  },
  {
   "cell_type": "code",
   "execution_count": 218,
   "metadata": {},
   "outputs": [
    {
     "ename": "NameError",
     "evalue": "name 'ensemble' is not defined",
     "output_type": "error",
     "traceback": [
      "\u001b[1;31m---------------------------------------------------------------------------\u001b[0m",
      "\u001b[1;31mNameError\u001b[0m                                 Traceback (most recent call last)",
      "\u001b[1;32m<ipython-input-218-89bff8796fa9>\u001b[0m in \u001b[0;36m<module>\u001b[1;34m\u001b[0m\n\u001b[1;32m----> 1\u001b[1;33m \u001b[0my_probs\u001b[0m \u001b[1;33m=\u001b[0m \u001b[0mensemble\u001b[0m\u001b[1;33m.\u001b[0m\u001b[0mpredict_proba\u001b[0m\u001b[1;33m(\u001b[0m\u001b[0mX_test\u001b[0m\u001b[1;33m)\u001b[0m\u001b[1;33m\u001b[0m\u001b[1;33m\u001b[0m\u001b[0m\n\u001b[0m\u001b[0;32m      2\u001b[0m \u001b[0mroc_auc\u001b[0m \u001b[1;33m=\u001b[0m \u001b[0mroc_auc_score\u001b[0m\u001b[1;33m(\u001b[0m\u001b[0my_test\u001b[0m\u001b[1;33m,\u001b[0m \u001b[0my_probs\u001b[0m\u001b[1;33m,\u001b[0m \u001b[0maverage\u001b[0m\u001b[1;33m=\u001b[0m\u001b[1;34m\"macro\"\u001b[0m\u001b[1;33m,\u001b[0m \u001b[0mmulti_class\u001b[0m\u001b[1;33m=\u001b[0m\u001b[1;34m\"ovo\"\u001b[0m\u001b[1;33m)\u001b[0m\u001b[1;33m\u001b[0m\u001b[1;33m\u001b[0m\u001b[0m\n\u001b[0;32m      3\u001b[0m \u001b[0mprint\u001b[0m\u001b[1;33m(\u001b[0m\u001b[1;34m'ROC Score is: '\u001b[0m\u001b[1;33m,\u001b[0m \u001b[0mroc_auc\u001b[0m\u001b[1;33m)\u001b[0m\u001b[1;33m\u001b[0m\u001b[1;33m\u001b[0m\u001b[0m\n",
      "\u001b[1;31mNameError\u001b[0m: name 'ensemble' is not defined"
     ]
    }
   ],
   "source": [
    "roc_auc = roc_auc_score(y_test, y_probs, average=\"macro\", multi_class=\"ovo\")\n",
    "print('ROC Score is: ', roc_auc)"
   ]
  },
  {
   "cell_type": "code",
   "execution_count": null,
   "metadata": {},
   "outputs": [],
   "source": []
  }
 ],
 "metadata": {
  "kernelspec": {
   "display_name": "Python 3",
   "language": "python",
   "name": "python3"
  },
  "language_info": {
   "codemirror_mode": {
    "name": "ipython",
    "version": 3
   },
   "file_extension": ".py",
   "mimetype": "text/x-python",
   "name": "python",
   "nbconvert_exporter": "python",
   "pygments_lexer": "ipython3",
   "version": "3.7.4"
  }
 },
 "nbformat": 4,
 "nbformat_minor": 2
}
